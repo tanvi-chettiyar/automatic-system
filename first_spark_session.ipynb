{
 "cells": [
  {
   "cell_type": "code",
   "execution_count": 2,
   "id": "796f1267-fbe7-41ff-83ba-a3887d4bca42",
   "metadata": {},
   "outputs": [
    {
     "data": {
      "text/plain": [
       "'3.12.7 | packaged by Anaconda, Inc. | (main, Oct  4 2024, 08:28:27) [Clang 14.0.6 ]'"
      ]
     },
     "execution_count": 2,
     "metadata": {},
     "output_type": "execute_result"
    }
   ],
   "source": [
    "import sys\n",
    "\n",
    "sys.version"
   ]
  },
  {
   "cell_type": "code",
   "execution_count": 3,
   "id": "7b1d2bcd-8482-41c8-b851-191a5c194f3f",
   "metadata": {},
   "outputs": [
    {
     "name": "stderr",
     "output_type": "stream",
     "text": [
      "25/01/29 17:50:00 WARN Utils: Your hostname, Tanvis-MacBook-Pro.local resolves to a loopback address: 127.0.0.1; using 192.168.1.22 instead (on interface en0)\n",
      "25/01/29 17:50:00 WARN Utils: Set SPARK_LOCAL_IP if you need to bind to another address\n",
      "Setting default log level to \"WARN\".\n",
      "To adjust logging level use sc.setLogLevel(newLevel). For SparkR, use setLogLevel(newLevel).\n",
      "25/01/29 17:50:01 WARN NativeCodeLoader: Unable to load native-hadoop library for your platform... using builtin-java classes where applicable\n"
     ]
    }
   ],
   "source": [
    "from pyspark.sql import SparkSession\n",
    "\n",
    "spark = SparkSession.builder \\\n",
    "    .master(\"local[*]\") \\\n",
    "    .config(\"spark.driver.bindAddress\", \"127.0.0.1\") \\\n",
    "    .config(\"spark.driver.host\", \"127.0.0.1\") \\\n",
    "    .appName(\"YourAppName\") \\\n",
    "    .getOrCreate()\n",
    "\n"
   ]
  },
  {
   "cell_type": "code",
   "execution_count": 5,
   "id": "8a7c1ba5-01da-4ced-9b6e-3615ced0a150",
   "metadata": {},
   "outputs": [
    {
     "data": {
      "text/plain": [
       "'3.5.4'"
      ]
     },
     "execution_count": 5,
     "metadata": {},
     "output_type": "execute_result"
    }
   ],
   "source": [
    "spark.version"
   ]
  },
  {
   "cell_type": "code",
   "execution_count": 6,
   "id": "eac1fca8-0e09-4aaf-842d-32942a6e13d9",
   "metadata": {},
   "outputs": [],
   "source": [
    "text_file = spark.sparkContext.textFile(\"/Users/tanvi_rajkumar/Documents/GitRepo/automatic-system/etl/data/sam.txt\")"
   ]
  },
  {
   "cell_type": "code",
   "execution_count": 7,
   "id": "aaccb4d8-7fc3-4697-a977-6490195e0ecf",
   "metadata": {},
   "outputs": [],
   "source": [
    "word_counts = text_file.flatMap(lambda line: line.split()) \\\n",
    "                       .map(lambda word: (word, 1)) \\\n",
    "                       .reduceByKey(lambda a, b: a + b)"
   ]
  },
  {
   "cell_type": "code",
   "execution_count": 9,
   "id": "4568f799-154b-4657-a47f-553e7b7ab7a9",
   "metadata": {},
   "outputs": [],
   "source": [
    "import logging\n",
    "\n",
    "logging.basicConfig(filename= 'first_spark_session.log', level= logging.INFO, filemode= 'a', \n",
    "                    format= '%(asctime)s - %(levelname)s - %(message)s')\n"
   ]
  },
  {
   "cell_type": "code",
   "execution_count": 11,
   "id": "6e1a138e-fc07-4e6c-aad4-ce35c2628332",
   "metadata": {},
   "outputs": [],
   "source": [
    "for word, count in word_counts.collect():\n",
    "    logging.info(f'{word}: {count}')"
   ]
  },
  {
   "cell_type": "code",
   "execution_count": 12,
   "id": "887d8fd1-48fb-4f25-870d-32f542848696",
   "metadata": {},
   "outputs": [],
   "source": [
    "df = spark.read.csv(\"/Users/tanvi_rajkumar/Documents/GitRepo/automatic-system/etl/data/student.csv\", \n",
    "                    header=True, inferSchema=True)"
   ]
  },
  {
   "cell_type": "code",
   "execution_count": 13,
   "id": "3fc91553-db15-49ce-80ea-254da771c3ec",
   "metadata": {},
   "outputs": [
    {
     "name": "stdout",
     "output_type": "stream",
     "text": [
      "+---+--------+---------+-----+\n",
      "| id|    name|  subject|grade|\n",
      "+---+--------+---------+-----+\n",
      "|101|    john|  science|    9|\n",
      "|102|   sarah|  english|    8|\n",
      "|103|   derek|  history|   10|\n",
      "|104|   annie|     math|    7|\n",
      "|105|    arun|geography|    4|\n",
      "|106|    jack|  science|    9|\n",
      "|107|    sara|  english|    8|\n",
      "|108|  derrel|  history|   10|\n",
      "|109|     ann|     math|    7|\n",
      "|110|benjamin|geography|    4|\n",
      "+---+--------+---------+-----+\n",
      "\n"
     ]
    }
   ],
   "source": [
    "df.show()"
   ]
  },
  {
   "cell_type": "code",
   "execution_count": 14,
   "id": "4bec11e2-1a5a-430b-a497-b6f1e2121f9a",
   "metadata": {},
   "outputs": [
    {
     "data": {
      "text/plain": [
       "[Row(id=101, name='john', subject='science', grade=9),\n",
       " Row(id=102, name='sarah', subject='english', grade=8),\n",
       " Row(id=103, name='derek', subject='history', grade=10),\n",
       " Row(id=104, name='annie', subject='math', grade=7),\n",
       " Row(id=105, name='arun', subject='geography', grade=4),\n",
       " Row(id=106, name='jack', subject='science', grade=9),\n",
       " Row(id=107, name='sara', subject='english', grade=8),\n",
       " Row(id=108, name='derrel', subject='history', grade=10),\n",
       " Row(id=109, name='ann', subject='math', grade=7),\n",
       " Row(id=110, name='benjamin', subject='geography', grade=4)]"
      ]
     },
     "execution_count": 14,
     "metadata": {},
     "output_type": "execute_result"
    }
   ],
   "source": [
    "df.collect()"
   ]
  },
  {
   "cell_type": "code",
   "execution_count": 15,
   "id": "28289e8d-a135-41d2-bd9d-d0a0efcbcae5",
   "metadata": {},
   "outputs": [
    {
     "name": "stdout",
     "output_type": "stream",
     "text": [
      "root\n",
      " |-- id: integer (nullable = true)\n",
      " |-- name: string (nullable = true)\n",
      " |-- subject: string (nullable = true)\n",
      " |-- grade: integer (nullable = true)\n",
      "\n"
     ]
    }
   ],
   "source": [
    "df.printSchema()"
   ]
  },
  {
   "cell_type": "code",
   "execution_count": 17,
   "id": "f484c8c0-05fd-4713-abc3-23231d2c4da0",
   "metadata": {},
   "outputs": [
    {
     "name": "stderr",
     "output_type": "stream",
     "text": [
      "                                                                                \r"
     ]
    }
   ],
   "source": [
    "df.write.mode(\"overwrite\").parquet(\"/Users/tanvi_rajkumar/Documents/GitRepo/automatic-system/etl/data/pysparkstudent\")"
   ]
  },
  {
   "cell_type": "code",
   "execution_count": 11,
   "id": "e335545c-2bbc-448e-910f-bd154e392349",
   "metadata": {},
   "outputs": [
    {
     "name": "stdout",
     "output_type": "stream",
     "text": [
      "+---+-----+---------+-----+\n",
      "| id| name|  subject|grade|\n",
      "+---+-----+---------+-----+\n",
      "|101| john|  science|    9|\n",
      "|102|sarah|  english|    8|\n",
      "|103|derek|  history|   10|\n",
      "|104|annie|     math|    7|\n",
      "|105|  ben|geography|    4|\n",
      "+---+-----+---------+-----+\n",
      "\n",
      "root\n",
      " |-- id: long (nullable = true)\n",
      " |-- name: string (nullable = true)\n",
      " |-- subject: string (nullable = true)\n",
      " |-- grade: long (nullable = true)\n",
      "\n"
     ]
    }
   ],
   "source": [
    "df2 = spark.read.parquet(\"/Users/tanvi_rajkumar/Documents/GitRepo/automatic-system/etl/data/student1.parquet\")\n",
    "df2.show()\n",
    "df2.collect()\n",
    "df2.printSchema()"
   ]
  },
  {
   "cell_type": "code",
   "execution_count": 11,
   "id": "89672f75-a627-47a0-af7f-363e71bc7494",
   "metadata": {},
   "outputs": [],
   "source": [
    "spark.stop()"
   ]
  },
  {
   "cell_type": "code",
   "execution_count": null,
   "id": "8c304d82-b846-48d1-a322-1c4fb60d51be",
   "metadata": {},
   "outputs": [],
   "source": []
  }
 ],
 "metadata": {
  "kernelspec": {
   "display_name": "Python 3 (ipykernel)",
   "language": "python",
   "name": "python3"
  },
  "language_info": {
   "codemirror_mode": {
    "name": "ipython",
    "version": 3
   },
   "file_extension": ".py",
   "mimetype": "text/x-python",
   "name": "python",
   "nbconvert_exporter": "python",
   "pygments_lexer": "ipython3",
   "version": "3.12.7"
  }
 },
 "nbformat": 4,
 "nbformat_minor": 5
}
