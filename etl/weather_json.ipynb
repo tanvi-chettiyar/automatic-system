{
  "cells": [
    {
      "cell_type": "code",
      "execution_count": 1,
      "metadata": {
        "colab": {
          "base_uri": "https://localhost:8080/"
        },
        "id": "REPE2DaNfFpw",
        "outputId": "44a7ccb6-8243-4788-dafc-e209c3acbf8c"
      },
      "outputs": [],
      "source": [
        "# !pip install psycopg2\n",
        "# !wget -P /content https://jdbc.postgresql.org/download/postgresql-42.2.27.jar\n",
        "# jdbc_driver_path = \"/content/postgresql-42.2.27.jar\"\n",
        "postgres_url = 'jdbc:postgresql://localhost:5432/postgres'\n",
        "jdbc_driver_path = '/opt/spark/jars/postgresql-42.3.1.jar'\n"
      ]
    },
    {
      "cell_type": "code",
      "execution_count": 2,
      "metadata": {
        "id": "C_jUwAJCF9ok"
      },
      "outputs": [
        {
          "name": "stderr",
          "output_type": "stream",
          "text": [
            "25/03/15 16:05:01 WARN Utils: Your hostname, tanvi-linux resolves to a loopback address: 127.0.1.1; using 192.168.1.74 instead (on interface wlo1)\n",
            "25/03/15 16:05:01 WARN Utils: Set SPARK_LOCAL_IP if you need to bind to another address\n",
            "25/03/15 16:05:02 WARN NativeCodeLoader: Unable to load native-hadoop library for your platform... using builtin-java classes where applicable\n",
            "Setting default log level to \"WARN\".\n",
            "To adjust logging level use sc.setLogLevel(newLevel). For SparkR, use setLogLevel(newLevel).\n"
          ]
        }
      ],
      "source": [
        "from pyspark.sql import SparkSession\n",
        "\n",
        "spark = SparkSession.builder \\\n",
        "    .master(\"local[*]\") \\\n",
        "    .config(\"spark.driver.bindAddress\", \"127.0.0.1\") \\\n",
        "    .config(\"spark.driver.host\", \"127.0.0.1\") \\\n",
        "    .config(\"spark.jars\", jdbc_driver_path) \\\n",
        "    .appName(\"WeatherAPIandETL\") \\\n",
        "    .getOrCreate()\n",
        "\n"
      ]
    },
    {
      "cell_type": "code",
      "execution_count": 3,
      "metadata": {
        "colab": {
          "base_uri": "https://localhost:8080/",
          "height": 215
        },
        "id": "Eq6d-WR0F9ol",
        "outputId": "bcc2452c-b6cf-41a3-a3a9-9fc93adc7561"
      },
      "outputs": [
        {
          "name": "stdout",
          "output_type": "stream",
          "text": [
            "2025-03-15 16:05:10.432617\n"
          ]
        },
        {
          "data": {
            "text/plain": [
              "'3.4.4'"
            ]
          },
          "execution_count": 3,
          "metadata": {},
          "output_type": "execute_result"
        }
      ],
      "source": [
        "from datetime import datetime\n",
        "\n",
        "print(datetime.now())\n",
        "spark.sparkContext\n",
        "spark.version"
      ]
    },
    {
      "cell_type": "code",
      "execution_count": null,
      "metadata": {
        "colab": {
          "base_uri": "https://localhost:8080/",
          "height": 39
        },
        "id": "Vu_ZRU1-K3LD",
        "outputId": "3fc4c0b3-67d8-4af7-cfff-c0d7ac013e57"
      },
      "outputs": [],
      "source": [
        "# from google.colab import files\n",
        "# uploaded = files.upload()\n"
      ]
    },
    {
      "cell_type": "code",
      "execution_count": null,
      "metadata": {
        "colab": {
          "base_uri": "https://localhost:8080/"
        },
        "id": "HiQNRRUdMrUY",
        "outputId": "c6652c61-547a-40b8-a5ab-f00796a72cec"
      },
      "outputs": [],
      "source": [
        "# import os\n",
        "# print(os.listdir())"
      ]
    },
    {
      "cell_type": "code",
      "execution_count": null,
      "metadata": {
        "id": "pGEpkiDVF9ol",
        "outputId": "9983b0fb-ddfa-4842-f0c6-1b0a01c78811"
      },
      "outputs": [],
      "source": [
        "# import json\n",
        "\n",
        "# with open(\"/home/tanvi/Documents/GitRepo/automatic-system/etl/data/weather.json\", \"r\") as opfile:\n",
        "#     data = json.load(opfile)\n",
        "\n",
        "# print(data)\n",
        "\n",
        "# with open(\"/home/tanvi/Documents/GitRepo/automatic-system/etl/data/weather_new.json\", \"w\") as f:\n",
        "#     for record in data:\n",
        "#         f.write(json.dumps(record) + \"\\n\")  # ✅ Writes each object on a new line.\n"
      ]
    },
    {
      "cell_type": "code",
      "execution_count": null,
      "metadata": {
        "id": "OdX_QcS7F9om"
      },
      "outputs": [],
      "source": [
        "# df = spark.read.option(\"multiLine\", True).json(\"/content/weather_20250224.json\")"
      ]
    },
    {
      "cell_type": "code",
      "execution_count": null,
      "metadata": {
        "colab": {
          "base_uri": "https://localhost:8080/"
        },
        "id": "FFIiFsTmF9om",
        "outputId": "71a76fb5-c90d-494c-da15-9a37901dc655"
      },
      "outputs": [],
      "source": [
        "# df.printSchema()\n",
        "# df.show()"
      ]
    },
    {
      "cell_type": "code",
      "execution_count": null,
      "metadata": {
        "id": "DcYV9E6jF9on",
        "outputId": "590f4612-3d07-4aae-ba1e-43e3ba95a58d"
      },
      "outputs": [],
      "source": [
        "# !ls -ltr /home/tanvi/Documents/GitRepo/automatic-system/etl/data/weather_deindent.json\n",
        "#!chmod 777 /home/tanvi/Documents/GitRepo/automatic-system/etl/data/weather.json\n",
        "#cat /home/tanvi/Documents/GitRepo/automatic-system/etl/data/weather.json | python -m json.tools"
      ]
    },
    {
      "cell_type": "code",
      "execution_count": null,
      "metadata": {
        "colab": {
          "base_uri": "https://localhost:8080/"
        },
        "id": "C8KSuiMrF9on",
        "outputId": "d2b7dcda-2ab7-48f4-820a-092cf89b4e94"
      },
      "outputs": [],
      "source": [
        "# from pyspark.sql import SparkSession\n",
        "# from pyspark.sql.functions import *  # Optional: to use SQL functions like col(), lit(), etc.\n",
        "\n",
        "# df.show()\n",
        "\n",
        "# df.createOrReplaceTempView(\"weather_json\")\n",
        "# query = \"SELECT * FROM weather_json\"\n",
        "# result = spark.sql(query)\n"
      ]
    },
    {
      "cell_type": "code",
      "execution_count": null,
      "metadata": {
        "id": "vxPlSKSEF9on"
      },
      "outputs": [],
      "source": [
        "# from pyspark.sql import SparkSession\n",
        "# from pyspark.sql.functions import get_json_object, col\n",
        "\n",
        "# result = df.select( \"location\"\n",
        "    # get_json_object(\"location\", \"$.name\").alias(\"name\")\n",
        "    # )\n",
        "\n",
        "# result.show(truncate=False)\n",
        "\n",
        "# newdf = df.select(\"location\", \"current\")\n",
        "\n",
        "# result.show(5)"
      ]
    },
    {
      "cell_type": "code",
      "execution_count": null,
      "metadata": {
        "id": "OekRv_jSF9oo",
        "outputId": "dd17a700-df49-4869-f65a-4669db2d57dc"
      },
      "outputs": [],
      "source": [
        "\n",
        "# data = [\n",
        "#     (\"1\", \"\"\"{\"name\": \"John\", \"age\": 30, \"address\": {\"city\": \"New York\", \"zip\": \"10001\"}, \"phones\": [{\"type\": \"home\", \"number\": \"212-555-1234\"}, {\"type\": \"work\", \"number\": \"646-555-5678\"}]}\"\"\"),\n",
        "#     (\"2\", \"\"\"{\"name\": \"Jane\", \"age\": 25, \"address\": {\"city\": \"Boston\", \"zip\": \"02108\"}, \"phones\": [{\"type\": \"mobile\", \"number\": \"617-555-4321\"}]}\"\"\")\n",
        "# ]\n",
        "\n",
        "# samdf = spark.createDataFrame(data, [\"id\", \"json_data\"])\n",
        "\n",
        "# # Extract various fields\n",
        "# result = samdf.select(\n",
        "#     \"id\",\n",
        "#     get_json_object(\"json_data\", \"$.name\").alias(\"name\"),\n",
        "#     get_json_object(\"json_data\", \"$.age\").alias(\"age\"),\n",
        "#     get_json_object(\"json_data\", \"$.address.city\").alias(\"city\"),\n",
        "#     get_json_object(\"json_data\", \"$.phones[0].number\").alias(\"first_phone\")\n",
        "# )\n",
        "\n",
        "# # result.show(truncate=False)\n",
        "# samdf.show()"
      ]
    },
    {
      "cell_type": "code",
      "execution_count": 4,
      "metadata": {
        "colab": {
          "base_uri": "https://localhost:8080/"
        },
        "id": "LNUA7zJcaO5G",
        "outputId": "670cc32d-e2f6-466a-d475-211a339729a1"
      },
      "outputs": [
        {
          "name": "stdout",
          "output_type": "stream",
          "text": [
            "{'location': {'name': 'Piscataway', 'region': 'New Jersey', 'country': 'USA', 'lat': 40.5514984130859, 'lon': -74.4589996337891, 'tz_id': 'America/New_York', 'localtime_epoch': 1742069043, 'localtime': '2025-03-15 16:04'}, 'current': {'last_updated_epoch': 1742068800, 'last_updated': '2025-03-15 16:00', 'temp_c': 10.3, 'temp_f': 50.5, 'is_day': 1, 'condition': {'text': 'Overcast', 'icon': '//cdn.weatherapi.com/weather/64x64/day/122.png', 'code': 1009}, 'wind_mph': 6.9, 'wind_kph': 11.2, 'wind_degree': 162, 'wind_dir': 'SSE', 'pressure_mb': 1019.0, 'pressure_in': 30.1, 'precip_mm': 0.0, 'precip_in': 0.0, 'humidity': 82, 'cloud': 100, 'feelslike_c': 8.8, 'feelslike_f': 47.8, 'windchill_c': 6.4, 'windchill_f': 43.5, 'heatindex_c': 8.0, 'heatindex_f': 46.5, 'dewpoint_c': 6.4, 'dewpoint_f': 43.5, 'vis_km': 16.0, 'vis_miles': 9.0, 'uv': 1.9, 'gust_mph': 9.2, 'gust_kph': 14.8}, 'forecast': {'forecastday': [{'date': '2025-03-15', 'date_epoch': 1741996800, 'day': {'maxtemp_c': 8.3, 'maxtemp_f': 46.9, 'mintemp_c': 4.7, 'mintemp_f': 40.5, 'avgtemp_c': 6.3, 'avgtemp_f': 43.4, 'maxwind_mph': 9.4, 'maxwind_kph': 15.1, 'totalprecip_mm': 0.0, 'totalprecip_in': 0.0, 'totalsnow_cm': 0.0, 'avgvis_km': 10.0, 'avgvis_miles': 6.0, 'avghumidity': 93, 'daily_will_it_rain': 0, 'daily_chance_of_rain': 0, 'daily_will_it_snow': 0, 'daily_chance_of_snow': 0, 'condition': {'text': 'Overcast ', 'icon': '//cdn.weatherapi.com/weather/64x64/day/122.png', 'code': 1009}, 'uv': 1.0}, 'astro': {'sunrise': '07:09 AM', 'sunset': '07:05 PM', 'moonrise': '08:40 PM', 'moonset': '07:38 AM', 'moon_phase': 'Waning Gibbous', 'moon_illumination': 100, 'is_moon_up': 1, 'is_sun_up': 0}, 'hour': [{'time_epoch': 1742011200, 'time': '2025-03-15 00:00', 'temp_c': 5.7, 'temp_f': 42.2, 'is_day': 0, 'condition': {'text': 'Mist', 'icon': '//cdn.weatherapi.com/weather/64x64/night/143.png', 'code': 1030}, 'wind_mph': 5.4, 'wind_kph': 8.6, 'wind_degree': 170, 'wind_dir': 'S', 'pressure_mb': 1021.0, 'pressure_in': 30.14, 'precip_mm': 0.0, 'precip_in': 0.0, 'snow_cm': 0.0, 'humidity': 94, 'cloud': 100, 'feelslike_c': 3.8, 'feelslike_f': 38.8, 'windchill_c': 3.8, 'windchill_f': 38.8, 'heatindex_c': 5.7, 'heatindex_f': 42.2, 'dewpoint_c': 4.9, 'dewpoint_f': 40.7, 'will_it_rain': 0, 'chance_of_rain': 0, 'will_it_snow': 0, 'chance_of_snow': 0, 'vis_km': 10.0, 'vis_miles': 6.0, 'gust_mph': 7.7, 'gust_kph': 12.3, 'uv': 0}, {'time_epoch': 1742014800, 'time': '2025-03-15 01:00', 'temp_c': 5.5, 'temp_f': 41.9, 'is_day': 0, 'condition': {'text': 'Mist', 'icon': '//cdn.weatherapi.com/weather/64x64/night/143.png', 'code': 1030}, 'wind_mph': 4.7, 'wind_kph': 7.6, 'wind_degree': 162, 'wind_dir': 'SSE', 'pressure_mb': 1020.0, 'pressure_in': 30.13, 'precip_mm': 0.0, 'precip_in': 0.0, 'snow_cm': 0.0, 'humidity': 95, 'cloud': 100, 'feelslike_c': 3.8, 'feelslike_f': 38.8, 'windchill_c': 3.8, 'windchill_f': 38.8, 'heatindex_c': 5.5, 'heatindex_f': 41.9, 'dewpoint_c': 4.7, 'dewpoint_f': 40.5, 'will_it_rain': 0, 'chance_of_rain': 0, 'will_it_snow': 0, 'chance_of_snow': 0, 'vis_km': 10.0, 'vis_miles': 6.0, 'gust_mph': 6.7, 'gust_kph': 10.8, 'uv': 0}, {'time_epoch': 1742018400, 'time': '2025-03-15 02:00', 'temp_c': 5.3, 'temp_f': 41.6, 'is_day': 0, 'condition': {'text': 'Mist', 'icon': '//cdn.weatherapi.com/weather/64x64/night/143.png', 'code': 1030}, 'wind_mph': 4.5, 'wind_kph': 7.2, 'wind_degree': 179, 'wind_dir': 'S', 'pressure_mb': 1020.0, 'pressure_in': 30.13, 'precip_mm': 0.0, 'precip_in': 0.0, 'snow_cm': 0.0, 'humidity': 96, 'cloud': 100, 'feelslike_c': 3.6, 'feelslike_f': 38.5, 'windchill_c': 3.6, 'windchill_f': 38.5, 'heatindex_c': 5.3, 'heatindex_f': 41.6, 'dewpoint_c': 4.7, 'dewpoint_f': 40.4, 'will_it_rain': 0, 'chance_of_rain': 0, 'will_it_snow': 0, 'chance_of_snow': 0, 'vis_km': 10.0, 'vis_miles': 6.0, 'gust_mph': 6.5, 'gust_kph': 10.4, 'uv': 0}, {'time_epoch': 1742022000, 'time': '2025-03-15 03:00', 'temp_c': 5.2, 'temp_f': 41.4, 'is_day': 0, 'condition': {'text': 'Mist', 'icon': '//cdn.weatherapi.com/weather/64x64/night/143.png', 'code': 1030}, 'wind_mph': 4.0, 'wind_kph': 6.5, 'wind_degree': 170, 'wind_dir': 'S', 'pressure_mb': 1020.0, 'pressure_in': 30.12, 'precip_mm': 0.0, 'precip_in': 0.0, 'snow_cm': 0.0, 'humidity': 95, 'cloud': 100, 'feelslike_c': 3.4, 'feelslike_f': 38.1, 'windchill_c': 3.4, 'windchill_f': 38.1, 'heatindex_c': 5.2, 'heatindex_f': 41.4, 'dewpoint_c': 4.5, 'dewpoint_f': 40.1, 'will_it_rain': 0, 'chance_of_rain': 0, 'will_it_snow': 0, 'chance_of_snow': 0, 'vis_km': 10.0, 'vis_miles': 6.0, 'gust_mph': 5.9, 'gust_kph': 9.5, 'uv': 0}, {'time_epoch': 1742025600, 'time': '2025-03-15 04:00', 'temp_c': 5.3, 'temp_f': 41.5, 'is_day': 0, 'condition': {'text': 'Mist', 'icon': '//cdn.weatherapi.com/weather/64x64/night/143.png', 'code': 1030}, 'wind_mph': 3.8, 'wind_kph': 6.1, 'wind_degree': 173, 'wind_dir': 'S', 'pressure_mb': 1020.0, 'pressure_in': 30.11, 'precip_mm': 0.0, 'precip_in': 0.0, 'snow_cm': 0.0, 'humidity': 96, 'cloud': 100, 'feelslike_c': 3.3, 'feelslike_f': 37.9, 'windchill_c': 3.3, 'windchill_f': 37.9, 'heatindex_c': 5.3, 'heatindex_f': 41.5, 'dewpoint_c': 4.5, 'dewpoint_f': 40.1, 'will_it_rain': 0, 'chance_of_rain': 0, 'will_it_snow': 0, 'chance_of_snow': 0, 'vis_km': 10.0, 'vis_miles': 6.0, 'gust_mph': 5.6, 'gust_kph': 9.0, 'uv': 0}, {'time_epoch': 1742029200, 'time': '2025-03-15 05:00', 'temp_c': 5.1, 'temp_f': 41.2, 'is_day': 0, 'condition': {'text': 'Mist', 'icon': '//cdn.weatherapi.com/weather/64x64/night/143.png', 'code': 1030}, 'wind_mph': 3.8, 'wind_kph': 6.1, 'wind_degree': 190, 'wind_dir': 'S', 'pressure_mb': 1020.0, 'pressure_in': 30.11, 'precip_mm': 0.0, 'precip_in': 0.0, 'snow_cm': 0.0, 'humidity': 95, 'cloud': 100, 'feelslike_c': 3.1, 'feelslike_f': 37.6, 'windchill_c': 3.1, 'windchill_f': 37.6, 'heatindex_c': 5.1, 'heatindex_f': 41.2, 'dewpoint_c': 4.6, 'dewpoint_f': 40.3, 'will_it_rain': 0, 'chance_of_rain': 0, 'will_it_snow': 0, 'chance_of_snow': 0, 'vis_km': 10.0, 'vis_miles': 6.0, 'gust_mph': 5.3, 'gust_kph': 8.5, 'uv': 0}, {'time_epoch': 1742032800, 'time': '2025-03-15 06:00', 'temp_c': 5.0, 'temp_f': 40.9, 'is_day': 0, 'condition': {'text': 'Mist', 'icon': '//cdn.weatherapi.com/weather/64x64/night/143.png', 'code': 1030}, 'wind_mph': 3.8, 'wind_kph': 6.1, 'wind_degree': 162, 'wind_dir': 'SSE', 'pressure_mb': 1020.0, 'pressure_in': 30.12, 'precip_mm': 0.0, 'precip_in': 0.0, 'snow_cm': 0.0, 'humidity': 96, 'cloud': 100, 'feelslike_c': 2.9, 'feelslike_f': 37.2, 'windchill_c': 2.9, 'windchill_f': 37.2, 'heatindex_c': 5.0, 'heatindex_f': 40.9, 'dewpoint_c': 4.4, 'dewpoint_f': 40.0, 'will_it_rain': 0, 'chance_of_rain': 0, 'will_it_snow': 0, 'chance_of_snow': 0, 'vis_km': 10.0, 'vis_miles': 6.0, 'gust_mph': 5.3, 'gust_kph': 8.5, 'uv': 0}, {'time_epoch': 1742036400, 'time': '2025-03-15 07:00', 'temp_c': 4.8, 'temp_f': 40.7, 'is_day': 0, 'condition': {'text': 'Mist', 'icon': '//cdn.weatherapi.com/weather/64x64/night/143.png', 'code': 1030}, 'wind_mph': 3.6, 'wind_kph': 5.8, 'wind_degree': 156, 'wind_dir': 'SSE', 'pressure_mb': 1021.0, 'pressure_in': 30.14, 'precip_mm': 0.0, 'precip_in': 0.0, 'snow_cm': 0.0, 'humidity': 96, 'cloud': 100, 'feelslike_c': 2.9, 'feelslike_f': 37.2, 'windchill_c': 2.9, 'windchill_f': 37.2, 'heatindex_c': 4.8, 'heatindex_f': 40.7, 'dewpoint_c': 4.2, 'dewpoint_f': 39.6, 'will_it_rain': 0, 'chance_of_rain': 0, 'will_it_snow': 0, 'chance_of_snow': 0, 'vis_km': 10.0, 'vis_miles': 6.0, 'gust_mph': 5.1, 'gust_kph': 8.2, 'uv': 0}, {'time_epoch': 1742040000, 'time': '2025-03-15 08:00', 'temp_c': 4.9, 'temp_f': 40.8, 'is_day': 1, 'condition': {'text': 'Mist', 'icon': '//cdn.weatherapi.com/weather/64x64/day/143.png', 'code': 1030}, 'wind_mph': 3.8, 'wind_kph': 6.1, 'wind_degree': 146, 'wind_dir': 'SSE', 'pressure_mb': 1021.0, 'pressure_in': 30.15, 'precip_mm': 0.0, 'precip_in': 0.0, 'snow_cm': 0.0, 'humidity': 96, 'cloud': 100, 'feelslike_c': 3.1, 'feelslike_f': 37.5, 'windchill_c': 3.1, 'windchill_f': 37.5, 'heatindex_c': 4.9, 'heatindex_f': 40.8, 'dewpoint_c': 4.1, 'dewpoint_f': 39.3, 'will_it_rain': 0, 'chance_of_rain': 0, 'will_it_snow': 0, 'chance_of_snow': 0, 'vis_km': 10.0, 'vis_miles': 6.0, 'gust_mph': 5.3, 'gust_kph': 8.6, 'uv': 0.2}, {'time_epoch': 1742043600, 'time': '2025-03-15 09:00', 'temp_c': 5.0, 'temp_f': 41.1, 'is_day': 1, 'condition': {'text': 'Mist', 'icon': '//cdn.weatherapi.com/weather/64x64/day/143.png', 'code': 1030}, 'wind_mph': 5.1, 'wind_kph': 8.3, 'wind_degree': 154, 'wind_dir': 'SSE', 'pressure_mb': 1022.0, 'pressure_in': 30.17, 'precip_mm': 0.0, 'precip_in': 0.0, 'snow_cm': 0.0, 'humidity': 95, 'cloud': 100, 'feelslike_c': 3.3, 'feelslike_f': 37.9, 'windchill_c': 3.3, 'windchill_f': 37.9, 'heatindex_c': 5.0, 'heatindex_f': 41.1, 'dewpoint_c': 4.2, 'dewpoint_f': 39.5, 'will_it_rain': 0, 'chance_of_rain': 0, 'will_it_snow': 0, 'chance_of_snow': 0, 'vis_km': 10.0, 'vis_miles': 6.0, 'gust_mph': 7.0, 'gust_kph': 11.3, 'uv': 0.7}, {'time_epoch': 1742047200, 'time': '2025-03-15 10:00', 'temp_c': 5.5, 'temp_f': 41.8, 'is_day': 1, 'condition': {'text': 'Overcast ', 'icon': '//cdn.weatherapi.com/weather/64x64/day/122.png', 'code': 1009}, 'wind_mph': 5.8, 'wind_kph': 9.4, 'wind_degree': 166, 'wind_dir': 'SSE', 'pressure_mb': 1022.0, 'pressure_in': 30.17, 'precip_mm': 0.0, 'precip_in': 0.0, 'snow_cm': 0.0, 'humidity': 93, 'cloud': 100, 'feelslike_c': 3.8, 'feelslike_f': 38.9, 'windchill_c': 3.8, 'windchill_f': 38.9, 'heatindex_c': 5.5, 'heatindex_f': 41.8, 'dewpoint_c': 4.2, 'dewpoint_f': 39.6, 'will_it_rain': 0, 'chance_of_rain': 0, 'will_it_snow': 0, 'chance_of_snow': 0, 'vis_km': 10.0, 'vis_miles': 6.0, 'gust_mph': 7.6, 'gust_kph': 12.2, 'uv': 1.3}, {'time_epoch': 1742050800, 'time': '2025-03-15 11:00', 'temp_c': 5.9, 'temp_f': 42.7, 'is_day': 1, 'condition': {'text': 'Overcast ', 'icon': '//cdn.weatherapi.com/weather/64x64/day/122.png', 'code': 1009}, 'wind_mph': 6.7, 'wind_kph': 10.8, 'wind_degree': 161, 'wind_dir': 'SSE', 'pressure_mb': 1021.0, 'pressure_in': 30.16, 'precip_mm': 0.0, 'precip_in': 0.0, 'snow_cm': 0.0, 'humidity': 90, 'cloud': 100, 'feelslike_c': 4.2, 'feelslike_f': 39.6, 'windchill_c': 4.2, 'windchill_f': 39.6, 'heatindex_c': 5.9, 'heatindex_f': 42.7, 'dewpoint_c': 4.5, 'dewpoint_f': 40.0, 'will_it_rain': 0, 'chance_of_rain': 0, 'will_it_snow': 0, 'chance_of_snow': 0, 'vis_km': 10.0, 'vis_miles': 6.0, 'gust_mph': 8.6, 'gust_kph': 13.9, 'uv': 2.3}, {'time_epoch': 1742054400, 'time': '2025-03-15 12:00', 'temp_c': 6.5, 'temp_f': 43.6, 'is_day': 1, 'condition': {'text': 'Overcast ', 'icon': '//cdn.weatherapi.com/weather/64x64/day/122.png', 'code': 1009}, 'wind_mph': 7.2, 'wind_kph': 11.5, 'wind_degree': 190, 'wind_dir': 'S', 'pressure_mb': 1020.0, 'pressure_in': 30.13, 'precip_mm': 0.0, 'precip_in': 0.0, 'snow_cm': 0.0, 'humidity': 89, 'cloud': 100, 'feelslike_c': 4.8, 'feelslike_f': 40.6, 'windchill_c': 4.8, 'windchill_f': 40.6, 'heatindex_c': 6.5, 'heatindex_f': 43.6, 'dewpoint_c': 4.8, 'dewpoint_f': 40.6, 'will_it_rain': 0, 'chance_of_rain': 0, 'will_it_snow': 0, 'chance_of_snow': 0, 'vis_km': 10.0, 'vis_miles': 6.0, 'gust_mph': 8.8, 'gust_kph': 14.2, 'uv': 3.7}, {'time_epoch': 1742058000, 'time': '2025-03-15 13:00', 'temp_c': 7.1, 'temp_f': 44.7, 'is_day': 1, 'condition': {'text': 'Overcast ', 'icon': '//cdn.weatherapi.com/weather/64x64/day/122.png', 'code': 1009}, 'wind_mph': 6.0, 'wind_kph': 9.7, 'wind_degree': 197, 'wind_dir': 'SSW', 'pressure_mb': 1020.0, 'pressure_in': 30.12, 'precip_mm': 0.0, 'precip_in': 0.0, 'snow_cm': 0.0, 'humidity': 89, 'cloud': 100, 'feelslike_c': 6.1, 'feelslike_f': 43.0, 'windchill_c': 6.1, 'windchill_f': 43.0, 'heatindex_c': 7.1, 'heatindex_f': 44.7, 'dewpoint_c': 5.4, 'dewpoint_f': 41.6, 'will_it_rain': 0, 'chance_of_rain': 0, 'will_it_snow': 0, 'chance_of_snow': 0, 'vis_km': 10.0, 'vis_miles': 6.0, 'gust_mph': 7.6, 'gust_kph': 12.2, 'uv': 4.7}, {'time_epoch': 1742061600, 'time': '2025-03-15 14:00', 'temp_c': 7.6, 'temp_f': 45.8, 'is_day': 1, 'condition': {'text': 'Overcast ', 'icon': '//cdn.weatherapi.com/weather/64x64/day/122.png', 'code': 1009}, 'wind_mph': 5.6, 'wind_kph': 9.0, 'wind_degree': 185, 'wind_dir': 'S', 'pressure_mb': 1021.0, 'pressure_in': 30.15, 'precip_mm': 0.0, 'precip_in': 0.0, 'snow_cm': 0.0, 'humidity': 89, 'cloud': 100, 'feelslike_c': 6.8, 'feelslike_f': 44.2, 'windchill_c': 6.8, 'windchill_f': 44.2, 'heatindex_c': 7.6, 'heatindex_f': 45.8, 'dewpoint_c': 6.0, 'dewpoint_f': 42.7, 'will_it_rain': 0, 'chance_of_rain': 0, 'will_it_snow': 0, 'chance_of_snow': 0, 'vis_km': 10.0, 'vis_miles': 6.0, 'gust_mph': 6.8, 'gust_kph': 10.9, 'uv': 4.3}, {'time_epoch': 1742065200, 'time': '2025-03-15 15:00', 'temp_c': 8.0, 'temp_f': 46.3, 'is_day': 1, 'condition': {'text': 'Overcast ', 'icon': '//cdn.weatherapi.com/weather/64x64/day/122.png', 'code': 1009}, 'wind_mph': 5.6, 'wind_kph': 9.0, 'wind_degree': 175, 'wind_dir': 'S', 'pressure_mb': 1021.0, 'pressure_in': 30.14, 'precip_mm': 0.0, 'precip_in': 0.0, 'snow_cm': 0.0, 'humidity': 87, 'cloud': 100, 'feelslike_c': 6.9, 'feelslike_f': 44.4, 'windchill_c': 6.9, 'windchill_f': 44.4, 'heatindex_c': 8.0, 'heatindex_f': 46.3, 'dewpoint_c': 6.2, 'dewpoint_f': 43.2, 'will_it_rain': 0, 'chance_of_rain': 0, 'will_it_snow': 0, 'chance_of_snow': 0, 'vis_km': 10.0, 'vis_miles': 6.0, 'gust_mph': 7.0, 'gust_kph': 11.2, 'uv': 3.2}, {'time_epoch': 1742068800, 'time': '2025-03-15 16:00', 'temp_c': 10.3, 'temp_f': 50.5, 'is_day': 1, 'condition': {'text': 'Overcast', 'icon': '//cdn.weatherapi.com/weather/64x64/day/122.png', 'code': 1009}, 'wind_mph': 6.9, 'wind_kph': 11.2, 'wind_degree': 162, 'wind_dir': 'SSE', 'pressure_mb': 1019.0, 'pressure_in': 30.1, 'precip_mm': 0.0, 'precip_in': 0.0, 'snow_cm': 0.0, 'humidity': 82, 'cloud': 100, 'feelslike_c': 6.4, 'feelslike_f': 43.5, 'windchill_c': 6.4, 'windchill_f': 43.5, 'heatindex_c': 8.0, 'heatindex_f': 46.5, 'dewpoint_c': 6.4, 'dewpoint_f': 43.5, 'will_it_rain': 0, 'chance_of_rain': 0, 'will_it_snow': 0, 'chance_of_snow': 0, 'vis_km': 16.0, 'vis_miles': 9.0, 'gust_mph': 9.2, 'gust_kph': 14.8, 'uv': 1.9}, {'time_epoch': 1742072400, 'time': '2025-03-15 17:00', 'temp_c': 7.9, 'temp_f': 46.3, 'is_day': 1, 'condition': {'text': 'Overcast ', 'icon': '//cdn.weatherapi.com/weather/64x64/day/122.png', 'code': 1009}, 'wind_mph': 7.8, 'wind_kph': 12.6, 'wind_degree': 150, 'wind_dir': 'SSE', 'pressure_mb': 1019.0, 'pressure_in': 30.1, 'precip_mm': 0.0, 'precip_in': 0.0, 'snow_cm': 0.0, 'humidity': 89, 'cloud': 100, 'feelslike_c': 6.0, 'feelslike_f': 42.8, 'windchill_c': 6.0, 'windchill_f': 42.8, 'heatindex_c': 7.9, 'heatindex_f': 46.3, 'dewpoint_c': 6.3, 'dewpoint_f': 43.4, 'will_it_rain': 0, 'chance_of_rain': 0, 'will_it_snow': 0, 'chance_of_snow': 0, 'vis_km': 10.0, 'vis_miles': 6.0, 'gust_mph': 11.3, 'gust_kph': 18.3, 'uv': 0.8}, {'time_epoch': 1742076000, 'time': '2025-03-15 18:00', 'temp_c': 7.6, 'temp_f': 45.7, 'is_day': 1, 'condition': {'text': 'Overcast ', 'icon': '//cdn.weatherapi.com/weather/64x64/day/122.png', 'code': 1009}, 'wind_mph': 9.4, 'wind_kph': 15.1, 'wind_degree': 143, 'wind_dir': 'SE', 'pressure_mb': 1019.0, 'pressure_in': 30.1, 'precip_mm': 0.0, 'precip_in': 0.0, 'snow_cm': 0.0, 'humidity': 91, 'cloud': 100, 'feelslike_c': 5.4, 'feelslike_f': 41.8, 'windchill_c': 5.4, 'windchill_f': 41.8, 'heatindex_c': 7.6, 'heatindex_f': 45.7, 'dewpoint_c': 6.4, 'dewpoint_f': 43.6, 'will_it_rain': 0, 'chance_of_rain': 0, 'will_it_snow': 0, 'chance_of_snow': 0, 'vis_km': 10.0, 'vis_miles': 6.0, 'gust_mph': 14.0, 'gust_kph': 22.6, 'uv': 0.2}, {'time_epoch': 1742079600, 'time': '2025-03-15 19:00', 'temp_c': 7.3, 'temp_f': 45.1, 'is_day': 1, 'condition': {'text': 'Overcast ', 'icon': '//cdn.weatherapi.com/weather/64x64/day/122.png', 'code': 1009}, 'wind_mph': 9.4, 'wind_kph': 15.1, 'wind_degree': 145, 'wind_dir': 'SE', 'pressure_mb': 1019.0, 'pressure_in': 30.09, 'precip_mm': 0.0, 'precip_in': 0.0, 'snow_cm': 0.0, 'humidity': 94, 'cloud': 100, 'feelslike_c': 5.0, 'feelslike_f': 41.1, 'windchill_c': 5.0, 'windchill_f': 41.1, 'heatindex_c': 7.3, 'heatindex_f': 45.1, 'dewpoint_c': 6.4, 'dewpoint_f': 43.5, 'will_it_rain': 0, 'chance_of_rain': 0, 'will_it_snow': 0, 'chance_of_snow': 0, 'vis_km': 10.0, 'vis_miles': 6.0, 'gust_mph': 14.6, 'gust_kph': 23.5, 'uv': 0.0}, {'time_epoch': 1742083200, 'time': '2025-03-15 20:00', 'temp_c': 7.2, 'temp_f': 45.0, 'is_day': 0, 'condition': {'text': 'Mist', 'icon': '//cdn.weatherapi.com/weather/64x64/night/143.png', 'code': 1030}, 'wind_mph': 8.3, 'wind_kph': 13.3, 'wind_degree': 158, 'wind_dir': 'SSE', 'pressure_mb': 1019.0, 'pressure_in': 30.09, 'precip_mm': 0.0, 'precip_in': 0.0, 'snow_cm': 0.0, 'humidity': 96, 'cloud': 100, 'feelslike_c': 5.1, 'feelslike_f': 41.1, 'windchill_c': 5.1, 'windchill_f': 41.1, 'heatindex_c': 7.2, 'heatindex_f': 45.0, 'dewpoint_c': 6.4, 'dewpoint_f': 43.6, 'will_it_rain': 0, 'chance_of_rain': 0, 'will_it_snow': 0, 'chance_of_snow': 0, 'vis_km': 10.0, 'vis_miles': 6.0, 'gust_mph': 12.7, 'gust_kph': 20.4, 'uv': 0}, {'time_epoch': 1742086800, 'time': '2025-03-15 21:00', 'temp_c': 7.3, 'temp_f': 45.1, 'is_day': 0, 'condition': {'text': 'Mist', 'icon': '//cdn.weatherapi.com/weather/64x64/night/143.png', 'code': 1030}, 'wind_mph': 8.5, 'wind_kph': 13.7, 'wind_degree': 162, 'wind_dir': 'SSE', 'pressure_mb': 1019.0, 'pressure_in': 30.08, 'precip_mm': 0.0, 'precip_in': 0.0, 'snow_cm': 0.0, 'humidity': 97, 'cloud': 100, 'feelslike_c': 5.5, 'feelslike_f': 41.9, 'windchill_c': 5.5, 'windchill_f': 41.9, 'heatindex_c': 7.3, 'heatindex_f': 45.1, 'dewpoint_c': 6.6, 'dewpoint_f': 43.9, 'will_it_rain': 0, 'chance_of_rain': 0, 'will_it_snow': 0, 'chance_of_snow': 0, 'vis_km': 10.0, 'vis_miles': 6.0, 'gust_mph': 13.2, 'gust_kph': 21.2, 'uv': 0}, {'time_epoch': 1742090400, 'time': '2025-03-15 22:00', 'temp_c': 7.4, 'temp_f': 45.3, 'is_day': 0, 'condition': {'text': 'Fog', 'icon': '//cdn.weatherapi.com/weather/64x64/night/248.png', 'code': 1135}, 'wind_mph': 8.3, 'wind_kph': 13.3, 'wind_degree': 164, 'wind_dir': 'SSE', 'pressure_mb': 1019.0, 'pressure_in': 30.09, 'precip_mm': 0.0, 'precip_in': 0.0, 'snow_cm': 0.0, 'humidity': 97, 'cloud': 100, 'feelslike_c': 5.9, 'feelslike_f': 42.6, 'windchill_c': 5.9, 'windchill_f': 42.6, 'heatindex_c': 7.4, 'heatindex_f': 45.3, 'dewpoint_c': 6.9, 'dewpoint_f': 44.4, 'will_it_rain': 0, 'chance_of_rain': 0, 'will_it_snow': 0, 'chance_of_snow': 0, 'vis_km': 10.0, 'vis_miles': 6.0, 'gust_mph': 13.1, 'gust_kph': 21.1, 'uv': 0}, {'time_epoch': 1742094000, 'time': '2025-03-15 23:00', 'temp_c': 7.4, 'temp_f': 45.3, 'is_day': 0, 'condition': {'text': 'Fog', 'icon': '//cdn.weatherapi.com/weather/64x64/night/248.png', 'code': 1135}, 'wind_mph': 7.2, 'wind_kph': 11.5, 'wind_degree': 168, 'wind_dir': 'SSE', 'pressure_mb': 1018.0, 'pressure_in': 30.07, 'precip_mm': 0.0, 'precip_in': 0.0, 'snow_cm': 0.0, 'humidity': 98, 'cloud': 100, 'feelslike_c': 6.1, 'feelslike_f': 43.0, 'windchill_c': 6.1, 'windchill_f': 43.0, 'heatindex_c': 7.4, 'heatindex_f': 45.3, 'dewpoint_c': 7.2, 'dewpoint_f': 44.9, 'will_it_rain': 0, 'chance_of_rain': 0, 'will_it_snow': 0, 'chance_of_snow': 0, 'vis_km': 10.0, 'vis_miles': 6.0, 'gust_mph': 11.8, 'gust_kph': 19.0, 'uv': 0}]}]}}\n"
          ]
        }
      ],
      "source": [
        "import requests\n",
        "api_dict = {\n",
        "\"API_KEY\": \"c2fe5ebd74734989a33163320252302\",\n",
        "\"BASE_URL\": \"http://api.weatherapi.com/v1/forecast.json\",\n",
        "}\n",
        "\n",
        "params= {\"key\":api_dict[\"API_KEY\"], \"q\": \"08854\", \"days\": \"1\", \"aqi\": \"no\", \"alerts\": \"no\"}\n",
        "response = requests.get(api_dict[\"BASE_URL\"], params=params)\n",
        "weather_data = response.json()\n",
        "print(weather_data)"
      ]
    },
    {
      "cell_type": "code",
      "execution_count": 8,
      "metadata": {},
      "outputs": [],
      "source": [
        "from json import dumps, dump\n",
        "from pathlib import Path\n",
        "base = \"/home/tanvi/Documents/GitRepo/automatic-system/etl\"\n",
        "json_file_path = Path(base).absolute().joinpath(\"data\", \"weather\", f\"weather_{datetime.today().strftime('%Y%m%d')}.json\")\n",
        "\n",
        "with open(json_file_path, \"w\") as writej:\n",
        "    # writej.write(dumps(weather_data, indent=2))\n",
        "    dump(weather_data, writej)"
      ]
    },
    {
      "cell_type": "code",
      "execution_count": 9,
      "metadata": {
        "id": "usN9qY8krEZ1"
      },
      "outputs": [],
      "source": [
        "postgres_url = 'jdbc:postgresql://localhost:5432/postgres'\n",
        "\n",
        "postgres_properties = {\n",
        "    'user': 'postgres',\n",
        "    'password': 'myPassword',\n",
        "    'driver': 'org.postgresql.Driver'}\n"
      ]
    },
    {
      "cell_type": "code",
      "execution_count": 10,
      "metadata": {
        "id": "0eV4GJbavpdT"
      },
      "outputs": [],
      "source": [
        "import uuid\n",
        "\n",
        "single_uuid = uuid.uuid4()"
      ]
    },
    {
      "cell_type": "code",
      "execution_count": 23,
      "metadata": {},
      "outputs": [
        {
          "name": "stdout",
          "output_type": "stream",
          "text": [
            "root\n",
            " |-- current: struct (nullable = true)\n",
            " |    |-- cloud: long (nullable = true)\n",
            " |    |-- condition: struct (nullable = true)\n",
            " |    |    |-- code: long (nullable = true)\n",
            " |    |    |-- icon: string (nullable = true)\n",
            " |    |    |-- text: string (nullable = true)\n",
            " |    |-- dewpoint_c: double (nullable = true)\n",
            " |    |-- dewpoint_f: double (nullable = true)\n",
            " |    |-- feelslike_c: double (nullable = true)\n",
            " |    |-- feelslike_f: double (nullable = true)\n",
            " |    |-- gust_kph: double (nullable = true)\n",
            " |    |-- gust_mph: double (nullable = true)\n",
            " |    |-- heatindex_c: double (nullable = true)\n",
            " |    |-- heatindex_f: double (nullable = true)\n",
            " |    |-- humidity: long (nullable = true)\n",
            " |    |-- is_day: long (nullable = true)\n",
            " |    |-- last_updated: string (nullable = true)\n",
            " |    |-- last_updated_epoch: long (nullable = true)\n",
            " |    |-- precip_in: double (nullable = true)\n",
            " |    |-- precip_mm: double (nullable = true)\n",
            " |    |-- pressure_in: double (nullable = true)\n",
            " |    |-- pressure_mb: double (nullable = true)\n",
            " |    |-- temp_c: double (nullable = true)\n",
            " |    |-- temp_f: double (nullable = true)\n",
            " |    |-- uv: double (nullable = true)\n",
            " |    |-- vis_km: double (nullable = true)\n",
            " |    |-- vis_miles: double (nullable = true)\n",
            " |    |-- wind_degree: long (nullable = true)\n",
            " |    |-- wind_dir: string (nullable = true)\n",
            " |    |-- wind_kph: double (nullable = true)\n",
            " |    |-- wind_mph: double (nullable = true)\n",
            " |    |-- windchill_c: double (nullable = true)\n",
            " |    |-- windchill_f: double (nullable = true)\n",
            " |-- forecast: struct (nullable = true)\n",
            " |    |-- forecastday: array (nullable = true)\n",
            " |    |    |-- element: struct (containsNull = true)\n",
            " |    |    |    |-- astro: struct (nullable = true)\n",
            " |    |    |    |    |-- is_moon_up: long (nullable = true)\n",
            " |    |    |    |    |-- is_sun_up: long (nullable = true)\n",
            " |    |    |    |    |-- moon_illumination: long (nullable = true)\n",
            " |    |    |    |    |-- moon_phase: string (nullable = true)\n",
            " |    |    |    |    |-- moonrise: string (nullable = true)\n",
            " |    |    |    |    |-- moonset: string (nullable = true)\n",
            " |    |    |    |    |-- sunrise: string (nullable = true)\n",
            " |    |    |    |    |-- sunset: string (nullable = true)\n",
            " |    |    |    |-- date: string (nullable = true)\n",
            " |    |    |    |-- date_epoch: long (nullable = true)\n",
            " |    |    |    |-- day: struct (nullable = true)\n",
            " |    |    |    |    |-- avghumidity: long (nullable = true)\n",
            " |    |    |    |    |-- avgtemp_c: double (nullable = true)\n",
            " |    |    |    |    |-- avgtemp_f: double (nullable = true)\n",
            " |    |    |    |    |-- avgvis_km: double (nullable = true)\n",
            " |    |    |    |    |-- avgvis_miles: double (nullable = true)\n",
            " |    |    |    |    |-- condition: struct (nullable = true)\n",
            " |    |    |    |    |    |-- code: long (nullable = true)\n",
            " |    |    |    |    |    |-- icon: string (nullable = true)\n",
            " |    |    |    |    |    |-- text: string (nullable = true)\n",
            " |    |    |    |    |-- daily_chance_of_rain: long (nullable = true)\n",
            " |    |    |    |    |-- daily_chance_of_snow: long (nullable = true)\n",
            " |    |    |    |    |-- daily_will_it_rain: long (nullable = true)\n",
            " |    |    |    |    |-- daily_will_it_snow: long (nullable = true)\n",
            " |    |    |    |    |-- maxtemp_c: double (nullable = true)\n",
            " |    |    |    |    |-- maxtemp_f: double (nullable = true)\n",
            " |    |    |    |    |-- maxwind_kph: double (nullable = true)\n",
            " |    |    |    |    |-- maxwind_mph: double (nullable = true)\n",
            " |    |    |    |    |-- mintemp_c: double (nullable = true)\n",
            " |    |    |    |    |-- mintemp_f: double (nullable = true)\n",
            " |    |    |    |    |-- totalprecip_in: double (nullable = true)\n",
            " |    |    |    |    |-- totalprecip_mm: double (nullable = true)\n",
            " |    |    |    |    |-- totalsnow_cm: double (nullable = true)\n",
            " |    |    |    |    |-- uv: double (nullable = true)\n",
            " |    |    |    |-- hour: array (nullable = true)\n",
            " |    |    |    |    |-- element: struct (containsNull = true)\n",
            " |    |    |    |    |    |-- chance_of_rain: long (nullable = true)\n",
            " |    |    |    |    |    |-- chance_of_snow: long (nullable = true)\n",
            " |    |    |    |    |    |-- cloud: long (nullable = true)\n",
            " |    |    |    |    |    |-- condition: struct (nullable = true)\n",
            " |    |    |    |    |    |    |-- code: long (nullable = true)\n",
            " |    |    |    |    |    |    |-- icon: string (nullable = true)\n",
            " |    |    |    |    |    |    |-- text: string (nullable = true)\n",
            " |    |    |    |    |    |-- dewpoint_c: double (nullable = true)\n",
            " |    |    |    |    |    |-- dewpoint_f: double (nullable = true)\n",
            " |    |    |    |    |    |-- feelslike_c: double (nullable = true)\n",
            " |    |    |    |    |    |-- feelslike_f: double (nullable = true)\n",
            " |    |    |    |    |    |-- gust_kph: double (nullable = true)\n",
            " |    |    |    |    |    |-- gust_mph: double (nullable = true)\n",
            " |    |    |    |    |    |-- heatindex_c: double (nullable = true)\n",
            " |    |    |    |    |    |-- heatindex_f: double (nullable = true)\n",
            " |    |    |    |    |    |-- humidity: long (nullable = true)\n",
            " |    |    |    |    |    |-- is_day: long (nullable = true)\n",
            " |    |    |    |    |    |-- precip_in: double (nullable = true)\n",
            " |    |    |    |    |    |-- precip_mm: double (nullable = true)\n",
            " |    |    |    |    |    |-- pressure_in: double (nullable = true)\n",
            " |    |    |    |    |    |-- pressure_mb: double (nullable = true)\n",
            " |    |    |    |    |    |-- snow_cm: double (nullable = true)\n",
            " |    |    |    |    |    |-- temp_c: double (nullable = true)\n",
            " |    |    |    |    |    |-- temp_f: double (nullable = true)\n",
            " |    |    |    |    |    |-- time: string (nullable = true)\n",
            " |    |    |    |    |    |-- time_epoch: long (nullable = true)\n",
            " |    |    |    |    |    |-- uv: double (nullable = true)\n",
            " |    |    |    |    |    |-- vis_km: double (nullable = true)\n",
            " |    |    |    |    |    |-- vis_miles: double (nullable = true)\n",
            " |    |    |    |    |    |-- will_it_rain: long (nullable = true)\n",
            " |    |    |    |    |    |-- will_it_snow: long (nullable = true)\n",
            " |    |    |    |    |    |-- wind_degree: long (nullable = true)\n",
            " |    |    |    |    |    |-- wind_dir: string (nullable = true)\n",
            " |    |    |    |    |    |-- wind_kph: double (nullable = true)\n",
            " |    |    |    |    |    |-- wind_mph: double (nullable = true)\n",
            " |    |    |    |    |    |-- windchill_c: double (nullable = true)\n",
            " |    |    |    |    |    |-- windchill_f: double (nullable = true)\n",
            " |-- location: struct (nullable = true)\n",
            " |    |-- country: string (nullable = true)\n",
            " |    |-- lat: double (nullable = true)\n",
            " |    |-- localtime: string (nullable = true)\n",
            " |    |-- localtime_epoch: long (nullable = true)\n",
            " |    |-- lon: double (nullable = true)\n",
            " |    |-- name: string (nullable = true)\n",
            " |    |-- region: string (nullable = true)\n",
            " |    |-- tz_id: string (nullable = true)\n",
            "\n",
            "+--------------------------------------------------------------------------------------------------------------------------------------------------------------------------------------------------------------------------------------------+---------------------------------------------------------------------------------------------------------------------------------------------------------------------------------------------------------------------------------------------------------------------------------------------------------------------------------------------------------------------------------------------------------------------------------------------------------------------------------------------------------------------------------------------------------------------------------------------------------------------------------------------------------------------------------------------------------------------------------------------------------------------------------------------------------------------------------------------------------------------------------------------------------------------------------------------------------------------------------------------------------------------------------------------------------------------------------------------------------------------------------------------------------------------------------------------------------------------------------------------------------------------------------------------------------------------------------------------------------------------------------------------------------------------------------------------------------------------------------------------------------------------------------------------------------------------------------------------------------------------------------------------------------------------------------------------------------------------------------------------------------------------------------------------------------------------------------------------------------------------------------------------------------------------------------------------------------------------------------------------------------------------------------------------------------------------------------------------------------------------------------------------------------------------------------------------------------------------------------------------------------------------------------------------------------------------------------------------------------------------------------------------------------------------------------------------------------------------------------------------------------------------------------------------------------------------------------------------------------------------------------------------------------------------------------------------------------------------------------------------------------------------------------------------------------------------------------------------------------------------------------------------------------------------------------------------------------------------------------------------------------------------------------------------------------------------------------------------------------------------------------------------------------------------------------------------------------------------------------------------------------------------------------------------------------------------------------------------------------------------------------------------------------------------------------------------------------------------------------------------------------------------------------------------------------------------------------------------------------------------------------------------------------------------------------------------------------------------------------------------------------------------------------------------------------------------------------------------------------------------------------------------------------------------------------------------------------------------------------------------------------------------------------------------------------------------------------------------------------------------------------------------------------------------------------------------------------------------------------------------------------------------------------------------------------------------------------------------------------------------------------------------------------------------------------------------------------------------------------------------------------------------------------------------------------------------------------------------------------------------------------------------------------------------------------------------------------------------------------------------------------------------------------------------------------------------------------------------------------------------------------------------------------------------------------------------------------------------------------------------------------------------------------------------------------------------------------------------------------------------------------------------------------------------------------------------------------------------------------------------------------------------------------------------------------------------------------------------------------------------------------------------------------------------------------------------------------------------------------------------------------------------------------------------------------------------------------------------------------------------------------------------------------------------------------------------------------------------------------------------------------------------------------------------------------------------------------------------------------------------------------------------------------------------------------------------------------------------------------------------------------------------------------------------------------------------------------------------------------------------------------------------------------------------------------------------------------------------------------------------------------------------------------------------------------------------------------------------------------------------------------------------------------------------------------------------------------------------------------------------------------------------------------------------------------------------------------+------------------------------------------------------------------------------------------------------------------+\n",
            "|current                                                                                                                                                                                                                                     |forecast                                                                                                                                                                                                                                                                                                                                                                                                                                                                                                                                                                                                                                                                                                                                                                                                                                                                                                                                                                                                                                                                                                                                                                                                                                                                                                                                                                                                                                                                                                                                                                                                                                                                                                                                                                                                                                                                                                                                                                                                                                                                                                                                                                                                                                                                                                                                                                                                                                                                                                                                                                                                                                                                                                                                                                                                                                                                                                                                                                                                                                                                                                                                                                                                                                                                                                                                                                                                                                                                                                                                                                                                                                                                                                                                                                                                                                                                                                                                                                                                                                                                                                                                                                                                                                                                                                                                                                                                                                                                                                                                                                                                                                                                                                                                                                                                                                                                                                                                                                                                                                                                                                                                                                                                                                                                                                                                                                                                                                                                                                                                                                                                                                                                                                                                                                                                                                                                                                                                                                                                                                                                                                                                                                                                                                                                                                                                                                                                                                                                                                                                                                         |location                                                                                                          |\n",
            "+--------------------------------------------------------------------------------------------------------------------------------------------------------------------------------------------------------------------------------------------+---------------------------------------------------------------------------------------------------------------------------------------------------------------------------------------------------------------------------------------------------------------------------------------------------------------------------------------------------------------------------------------------------------------------------------------------------------------------------------------------------------------------------------------------------------------------------------------------------------------------------------------------------------------------------------------------------------------------------------------------------------------------------------------------------------------------------------------------------------------------------------------------------------------------------------------------------------------------------------------------------------------------------------------------------------------------------------------------------------------------------------------------------------------------------------------------------------------------------------------------------------------------------------------------------------------------------------------------------------------------------------------------------------------------------------------------------------------------------------------------------------------------------------------------------------------------------------------------------------------------------------------------------------------------------------------------------------------------------------------------------------------------------------------------------------------------------------------------------------------------------------------------------------------------------------------------------------------------------------------------------------------------------------------------------------------------------------------------------------------------------------------------------------------------------------------------------------------------------------------------------------------------------------------------------------------------------------------------------------------------------------------------------------------------------------------------------------------------------------------------------------------------------------------------------------------------------------------------------------------------------------------------------------------------------------------------------------------------------------------------------------------------------------------------------------------------------------------------------------------------------------------------------------------------------------------------------------------------------------------------------------------------------------------------------------------------------------------------------------------------------------------------------------------------------------------------------------------------------------------------------------------------------------------------------------------------------------------------------------------------------------------------------------------------------------------------------------------------------------------------------------------------------------------------------------------------------------------------------------------------------------------------------------------------------------------------------------------------------------------------------------------------------------------------------------------------------------------------------------------------------------------------------------------------------------------------------------------------------------------------------------------------------------------------------------------------------------------------------------------------------------------------------------------------------------------------------------------------------------------------------------------------------------------------------------------------------------------------------------------------------------------------------------------------------------------------------------------------------------------------------------------------------------------------------------------------------------------------------------------------------------------------------------------------------------------------------------------------------------------------------------------------------------------------------------------------------------------------------------------------------------------------------------------------------------------------------------------------------------------------------------------------------------------------------------------------------------------------------------------------------------------------------------------------------------------------------------------------------------------------------------------------------------------------------------------------------------------------------------------------------------------------------------------------------------------------------------------------------------------------------------------------------------------------------------------------------------------------------------------------------------------------------------------------------------------------------------------------------------------------------------------------------------------------------------------------------------------------------------------------------------------------------------------------------------------------------------------------------------------------------------------------------------------------------------------------------------------------------------------------------------------------------------------------------------------------------------------------------------------------------------------------------------------------------------------------------------------------------------------------------------------------------------------------------------------------------------------------------------------------------------------------------------------------------------------------------------+------------------------------------------------------------------------------------------------------------------+\n",
            "|{100, {1009, //cdn.weatherapi.com/weather/64x64/day/122.png, Overcast}, 6.4, 43.5, 8.8, 47.8, 14.8, 9.2, 8.0, 46.5, 82, 1, 2025-03-15 16:00, 1742068800, 0.0, 0.0, 30.1, 1019.0, 10.3, 50.5, 1.9, 16.0, 9.0, 162, SSE, 11.2, 6.9, 6.4, 43.5}|{[{{1, 0, 100, Waning Gibbous, 08:40 PM, 07:38 AM, 07:09 AM, 07:05 PM}, 2025-03-15, 1741996800, {93, 6.3, 43.4, 10.0, 6.0, {1009, //cdn.weatherapi.com/weather/64x64/day/122.png, Overcast }, 0, 0, 0, 0, 8.3, 46.9, 15.1, 9.4, 4.7, 40.5, 0.0, 0.0, 0.0, 1.0}, [{0, 0, 100, {1030, //cdn.weatherapi.com/weather/64x64/night/143.png, Mist}, 4.9, 40.7, 3.8, 38.8, 12.3, 7.7, 5.7, 42.2, 94, 0, 0.0, 0.0, 30.14, 1021.0, 0.0, 5.7, 42.2, 2025-03-15 00:00, 1742011200, 0.0, 10.0, 6.0, 0, 0, 170, S, 8.6, 5.4, 3.8, 38.8}, {0, 0, 100, {1030, //cdn.weatherapi.com/weather/64x64/night/143.png, Mist}, 4.7, 40.5, 3.8, 38.8, 10.8, 6.7, 5.5, 41.9, 95, 0, 0.0, 0.0, 30.13, 1020.0, 0.0, 5.5, 41.9, 2025-03-15 01:00, 1742014800, 0.0, 10.0, 6.0, 0, 0, 162, SSE, 7.6, 4.7, 3.8, 38.8}, {0, 0, 100, {1030, //cdn.weatherapi.com/weather/64x64/night/143.png, Mist}, 4.7, 40.4, 3.6, 38.5, 10.4, 6.5, 5.3, 41.6, 96, 0, 0.0, 0.0, 30.13, 1020.0, 0.0, 5.3, 41.6, 2025-03-15 02:00, 1742018400, 0.0, 10.0, 6.0, 0, 0, 179, S, 7.2, 4.5, 3.6, 38.5}, {0, 0, 100, {1030, //cdn.weatherapi.com/weather/64x64/night/143.png, Mist}, 4.5, 40.1, 3.4, 38.1, 9.5, 5.9, 5.2, 41.4, 95, 0, 0.0, 0.0, 30.12, 1020.0, 0.0, 5.2, 41.4, 2025-03-15 03:00, 1742022000, 0.0, 10.0, 6.0, 0, 0, 170, S, 6.5, 4.0, 3.4, 38.1}, {0, 0, 100, {1030, //cdn.weatherapi.com/weather/64x64/night/143.png, Mist}, 4.5, 40.1, 3.3, 37.9, 9.0, 5.6, 5.3, 41.5, 96, 0, 0.0, 0.0, 30.11, 1020.0, 0.0, 5.3, 41.5, 2025-03-15 04:00, 1742025600, 0.0, 10.0, 6.0, 0, 0, 173, S, 6.1, 3.8, 3.3, 37.9}, {0, 0, 100, {1030, //cdn.weatherapi.com/weather/64x64/night/143.png, Mist}, 4.6, 40.3, 3.1, 37.6, 8.5, 5.3, 5.1, 41.2, 95, 0, 0.0, 0.0, 30.11, 1020.0, 0.0, 5.1, 41.2, 2025-03-15 05:00, 1742029200, 0.0, 10.0, 6.0, 0, 0, 190, S, 6.1, 3.8, 3.1, 37.6}, {0, 0, 100, {1030, //cdn.weatherapi.com/weather/64x64/night/143.png, Mist}, 4.4, 40.0, 2.9, 37.2, 8.5, 5.3, 5.0, 40.9, 96, 0, 0.0, 0.0, 30.12, 1020.0, 0.0, 5.0, 40.9, 2025-03-15 06:00, 1742032800, 0.0, 10.0, 6.0, 0, 0, 162, SSE, 6.1, 3.8, 2.9, 37.2}, {0, 0, 100, {1030, //cdn.weatherapi.com/weather/64x64/night/143.png, Mist}, 4.2, 39.6, 2.9, 37.2, 8.2, 5.1, 4.8, 40.7, 96, 0, 0.0, 0.0, 30.14, 1021.0, 0.0, 4.8, 40.7, 2025-03-15 07:00, 1742036400, 0.0, 10.0, 6.0, 0, 0, 156, SSE, 5.8, 3.6, 2.9, 37.2}, {0, 0, 100, {1030, //cdn.weatherapi.com/weather/64x64/day/143.png, Mist}, 4.1, 39.3, 3.1, 37.5, 8.6, 5.3, 4.9, 40.8, 96, 1, 0.0, 0.0, 30.15, 1021.0, 0.0, 4.9, 40.8, 2025-03-15 08:00, 1742040000, 0.2, 10.0, 6.0, 0, 0, 146, SSE, 6.1, 3.8, 3.1, 37.5}, {0, 0, 100, {1030, //cdn.weatherapi.com/weather/64x64/day/143.png, Mist}, 4.2, 39.5, 3.3, 37.9, 11.3, 7.0, 5.0, 41.1, 95, 1, 0.0, 0.0, 30.17, 1022.0, 0.0, 5.0, 41.1, 2025-03-15 09:00, 1742043600, 0.7, 10.0, 6.0, 0, 0, 154, SSE, 8.3, 5.1, 3.3, 37.9}, {0, 0, 100, {1009, //cdn.weatherapi.com/weather/64x64/day/122.png, Overcast }, 4.2, 39.6, 3.8, 38.9, 12.2, 7.6, 5.5, 41.8, 93, 1, 0.0, 0.0, 30.17, 1022.0, 0.0, 5.5, 41.8, 2025-03-15 10:00, 1742047200, 1.3, 10.0, 6.0, 0, 0, 166, SSE, 9.4, 5.8, 3.8, 38.9}, {0, 0, 100, {1009, //cdn.weatherapi.com/weather/64x64/day/122.png, Overcast }, 4.5, 40.0, 4.2, 39.6, 13.9, 8.6, 5.9, 42.7, 90, 1, 0.0, 0.0, 30.16, 1021.0, 0.0, 5.9, 42.7, 2025-03-15 11:00, 1742050800, 2.3, 10.0, 6.0, 0, 0, 161, SSE, 10.8, 6.7, 4.2, 39.6}, {0, 0, 100, {1009, //cdn.weatherapi.com/weather/64x64/day/122.png, Overcast }, 4.8, 40.6, 4.8, 40.6, 14.2, 8.8, 6.5, 43.6, 89, 1, 0.0, 0.0, 30.13, 1020.0, 0.0, 6.5, 43.6, 2025-03-15 12:00, 1742054400, 3.7, 10.0, 6.0, 0, 0, 190, S, 11.5, 7.2, 4.8, 40.6}, {0, 0, 100, {1009, //cdn.weatherapi.com/weather/64x64/day/122.png, Overcast }, 5.4, 41.6, 6.1, 43.0, 12.2, 7.6, 7.1, 44.7, 89, 1, 0.0, 0.0, 30.12, 1020.0, 0.0, 7.1, 44.7, 2025-03-15 13:00, 1742058000, 4.7, 10.0, 6.0, 0, 0, 197, SSW, 9.7, 6.0, 6.1, 43.0}, {0, 0, 100, {1009, //cdn.weatherapi.com/weather/64x64/day/122.png, Overcast }, 6.0, 42.7, 6.8, 44.2, 10.9, 6.8, 7.6, 45.8, 89, 1, 0.0, 0.0, 30.15, 1021.0, 0.0, 7.6, 45.8, 2025-03-15 14:00, 1742061600, 4.3, 10.0, 6.0, 0, 0, 185, S, 9.0, 5.6, 6.8, 44.2}, {0, 0, 100, {1009, //cdn.weatherapi.com/weather/64x64/day/122.png, Overcast }, 6.2, 43.2, 6.9, 44.4, 11.2, 7.0, 8.0, 46.3, 87, 1, 0.0, 0.0, 30.14, 1021.0, 0.0, 8.0, 46.3, 2025-03-15 15:00, 1742065200, 3.2, 10.0, 6.0, 0, 0, 175, S, 9.0, 5.6, 6.9, 44.4}, {0, 0, 100, {1009, //cdn.weatherapi.com/weather/64x64/day/122.png, Overcast}, 6.4, 43.5, 6.4, 43.5, 14.8, 9.2, 8.0, 46.5, 82, 1, 0.0, 0.0, 30.1, 1019.0, 0.0, 10.3, 50.5, 2025-03-15 16:00, 1742068800, 1.9, 16.0, 9.0, 0, 0, 162, SSE, 11.2, 6.9, 6.4, 43.5}, {0, 0, 100, {1009, //cdn.weatherapi.com/weather/64x64/day/122.png, Overcast }, 6.3, 43.4, 6.0, 42.8, 18.3, 11.3, 7.9, 46.3, 89, 1, 0.0, 0.0, 30.1, 1019.0, 0.0, 7.9, 46.3, 2025-03-15 17:00, 1742072400, 0.8, 10.0, 6.0, 0, 0, 150, SSE, 12.6, 7.8, 6.0, 42.8}, {0, 0, 100, {1009, //cdn.weatherapi.com/weather/64x64/day/122.png, Overcast }, 6.4, 43.6, 5.4, 41.8, 22.6, 14.0, 7.6, 45.7, 91, 1, 0.0, 0.0, 30.1, 1019.0, 0.0, 7.6, 45.7, 2025-03-15 18:00, 1742076000, 0.2, 10.0, 6.0, 0, 0, 143, SE, 15.1, 9.4, 5.4, 41.8}, {0, 0, 100, {1009, //cdn.weatherapi.com/weather/64x64/day/122.png, Overcast }, 6.4, 43.5, 5.0, 41.1, 23.5, 14.6, 7.3, 45.1, 94, 1, 0.0, 0.0, 30.09, 1019.0, 0.0, 7.3, 45.1, 2025-03-15 19:00, 1742079600, 0.0, 10.0, 6.0, 0, 0, 145, SE, 15.1, 9.4, 5.0, 41.1}, {0, 0, 100, {1030, //cdn.weatherapi.com/weather/64x64/night/143.png, Mist}, 6.4, 43.6, 5.1, 41.1, 20.4, 12.7, 7.2, 45.0, 96, 0, 0.0, 0.0, 30.09, 1019.0, 0.0, 7.2, 45.0, 2025-03-15 20:00, 1742083200, 0.0, 10.0, 6.0, 0, 0, 158, SSE, 13.3, 8.3, 5.1, 41.1}, {0, 0, 100, {1030, //cdn.weatherapi.com/weather/64x64/night/143.png, Mist}, 6.6, 43.9, 5.5, 41.9, 21.2, 13.2, 7.3, 45.1, 97, 0, 0.0, 0.0, 30.08, 1019.0, 0.0, 7.3, 45.1, 2025-03-15 21:00, 1742086800, 0.0, 10.0, 6.0, 0, 0, 162, SSE, 13.7, 8.5, 5.5, 41.9}, {0, 0, 100, {1135, //cdn.weatherapi.com/weather/64x64/night/248.png, Fog}, 6.9, 44.4, 5.9, 42.6, 21.1, 13.1, 7.4, 45.3, 97, 0, 0.0, 0.0, 30.09, 1019.0, 0.0, 7.4, 45.3, 2025-03-15 22:00, 1742090400, 0.0, 10.0, 6.0, 0, 0, 164, SSE, 13.3, 8.3, 5.9, 42.6}, {0, 0, 100, {1135, //cdn.weatherapi.com/weather/64x64/night/248.png, Fog}, 7.2, 44.9, 6.1, 43.0, 19.0, 11.8, 7.4, 45.3, 98, 0, 0.0, 0.0, 30.07, 1018.0, 0.0, 7.4, 45.3, 2025-03-15 23:00, 1742094000, 0.0, 10.0, 6.0, 0, 0, 168, SSE, 11.5, 7.2, 6.1, 43.0}]}]}|{USA, 40.5514984130859, 2025-03-15 16:04, 1742069043, -74.4589996337891, Piscataway, New Jersey, America/New_York}|\n",
            "+--------------------------------------------------------------------------------------------------------------------------------------------------------------------------------------------------------------------------------------------+---------------------------------------------------------------------------------------------------------------------------------------------------------------------------------------------------------------------------------------------------------------------------------------------------------------------------------------------------------------------------------------------------------------------------------------------------------------------------------------------------------------------------------------------------------------------------------------------------------------------------------------------------------------------------------------------------------------------------------------------------------------------------------------------------------------------------------------------------------------------------------------------------------------------------------------------------------------------------------------------------------------------------------------------------------------------------------------------------------------------------------------------------------------------------------------------------------------------------------------------------------------------------------------------------------------------------------------------------------------------------------------------------------------------------------------------------------------------------------------------------------------------------------------------------------------------------------------------------------------------------------------------------------------------------------------------------------------------------------------------------------------------------------------------------------------------------------------------------------------------------------------------------------------------------------------------------------------------------------------------------------------------------------------------------------------------------------------------------------------------------------------------------------------------------------------------------------------------------------------------------------------------------------------------------------------------------------------------------------------------------------------------------------------------------------------------------------------------------------------------------------------------------------------------------------------------------------------------------------------------------------------------------------------------------------------------------------------------------------------------------------------------------------------------------------------------------------------------------------------------------------------------------------------------------------------------------------------------------------------------------------------------------------------------------------------------------------------------------------------------------------------------------------------------------------------------------------------------------------------------------------------------------------------------------------------------------------------------------------------------------------------------------------------------------------------------------------------------------------------------------------------------------------------------------------------------------------------------------------------------------------------------------------------------------------------------------------------------------------------------------------------------------------------------------------------------------------------------------------------------------------------------------------------------------------------------------------------------------------------------------------------------------------------------------------------------------------------------------------------------------------------------------------------------------------------------------------------------------------------------------------------------------------------------------------------------------------------------------------------------------------------------------------------------------------------------------------------------------------------------------------------------------------------------------------------------------------------------------------------------------------------------------------------------------------------------------------------------------------------------------------------------------------------------------------------------------------------------------------------------------------------------------------------------------------------------------------------------------------------------------------------------------------------------------------------------------------------------------------------------------------------------------------------------------------------------------------------------------------------------------------------------------------------------------------------------------------------------------------------------------------------------------------------------------------------------------------------------------------------------------------------------------------------------------------------------------------------------------------------------------------------------------------------------------------------------------------------------------------------------------------------------------------------------------------------------------------------------------------------------------------------------------------------------------------------------------------------------------------------------------------------------------------------------------------------------------------------------------------------------------------------------------------------------------------------------------------------------------------------------------------------------------------------------------------------------------------------------------------------------------------------------------------------------------------------------------------------------------------------------------------------------------------------------------------------------------------+------------------------------------------------------------------------------------------------------------------+\n",
            "\n"
          ]
        }
      ],
      "source": [
        "# print(type(json_file_path.absolute()),json_file_path.absolute())\n",
        "\n",
        "jdf = spark.read.json(str(json_file_path))\n",
        "\n",
        "# jdf = spark.read.json(weather_data)\n",
        "\n",
        "jdf.printSchema()\n",
        "jdf.show(truncate=False)"
      ]
    },
    {
      "cell_type": "code",
      "execution_count": 24,
      "metadata": {},
      "outputs": [
        {
          "name": "stdout",
          "output_type": "stream",
          "text": [
            "{'location': {'name': 'Piscataway', 'region': 'New Jersey', 'country': 'USA', 'lat': 40.5514984130859, 'lon': -74.4589996337891, 'tz_id': 'America/New_York', 'localtime_epoch': 1742069043, 'localtime': '2025-03-15 16:04'}, 'current': {'last_updated_epoch': 1742068800, 'last_updated': '2025-03-15 16:00', 'temp_c': 10.3, 'temp_f': 50.5, 'is_day': 1, 'condition': {'text': 'Overcast', 'icon': '//cdn.weatherapi.com/weather/64x64/day/122.png', 'code': 1009}, 'wind_mph': 6.9, 'wind_kph': 11.2, 'wind_degree': 162, 'wind_dir': 'SSE', 'pressure_mb': 1019.0, 'pressure_in': 30.1, 'precip_mm': 0.0, 'precip_in': 0.0, 'humidity': 82, 'cloud': 100, 'feelslike_c': 8.8, 'feelslike_f': 47.8, 'windchill_c': 6.4, 'windchill_f': 43.5, 'heatindex_c': 8.0, 'heatindex_f': 46.5, 'dewpoint_c': 6.4, 'dewpoint_f': 43.5, 'vis_km': 16.0, 'vis_miles': 9.0, 'uv': 1.9, 'gust_mph': 9.2, 'gust_kph': 14.8}, 'forecast': {'forecastday': [{'date': '2025-03-15', 'date_epoch': 1741996800, 'day': {'maxtemp_c': 8.3, 'maxtemp_f': 46.9, 'mintemp_c': 4.7, 'mintemp_f': 40.5, 'avgtemp_c': 6.3, 'avgtemp_f': 43.4, 'maxwind_mph': 9.4, 'maxwind_kph': 15.1, 'totalprecip_mm': 0.0, 'totalprecip_in': 0.0, 'totalsnow_cm': 0.0, 'avgvis_km': 10.0, 'avgvis_miles': 6.0, 'avghumidity': 93, 'daily_will_it_rain': 0, 'daily_chance_of_rain': 0, 'daily_will_it_snow': 0, 'daily_chance_of_snow': 0, 'condition': {'text': 'Overcast ', 'icon': '//cdn.weatherapi.com/weather/64x64/day/122.png', 'code': 1009}, 'uv': 1.0}, 'astro': {'sunrise': '07:09 AM', 'sunset': '07:05 PM', 'moonrise': '08:40 PM', 'moonset': '07:38 AM', 'moon_phase': 'Waning Gibbous', 'moon_illumination': 100, 'is_moon_up': 1, 'is_sun_up': 0}, 'hour': [{'time_epoch': 1742011200, 'time': '2025-03-15 00:00', 'temp_c': 5.7, 'temp_f': 42.2, 'is_day': 0, 'condition': {'text': 'Mist', 'icon': '//cdn.weatherapi.com/weather/64x64/night/143.png', 'code': 1030}, 'wind_mph': 5.4, 'wind_kph': 8.6, 'wind_degree': 170, 'wind_dir': 'S', 'pressure_mb': 1021.0, 'pressure_in': 30.14, 'precip_mm': 0.0, 'precip_in': 0.0, 'snow_cm': 0.0, 'humidity': 94, 'cloud': 100, 'feelslike_c': 3.8, 'feelslike_f': 38.8, 'windchill_c': 3.8, 'windchill_f': 38.8, 'heatindex_c': 5.7, 'heatindex_f': 42.2, 'dewpoint_c': 4.9, 'dewpoint_f': 40.7, 'will_it_rain': 0, 'chance_of_rain': 0, 'will_it_snow': 0, 'chance_of_snow': 0, 'vis_km': 10.0, 'vis_miles': 6.0, 'gust_mph': 7.7, 'gust_kph': 12.3, 'uv': 0}, {'time_epoch': 1742014800, 'time': '2025-03-15 01:00', 'temp_c': 5.5, 'temp_f': 41.9, 'is_day': 0, 'condition': {'text': 'Mist', 'icon': '//cdn.weatherapi.com/weather/64x64/night/143.png', 'code': 1030}, 'wind_mph': 4.7, 'wind_kph': 7.6, 'wind_degree': 162, 'wind_dir': 'SSE', 'pressure_mb': 1020.0, 'pressure_in': 30.13, 'precip_mm': 0.0, 'precip_in': 0.0, 'snow_cm': 0.0, 'humidity': 95, 'cloud': 100, 'feelslike_c': 3.8, 'feelslike_f': 38.8, 'windchill_c': 3.8, 'windchill_f': 38.8, 'heatindex_c': 5.5, 'heatindex_f': 41.9, 'dewpoint_c': 4.7, 'dewpoint_f': 40.5, 'will_it_rain': 0, 'chance_of_rain': 0, 'will_it_snow': 0, 'chance_of_snow': 0, 'vis_km': 10.0, 'vis_miles': 6.0, 'gust_mph': 6.7, 'gust_kph': 10.8, 'uv': 0}, {'time_epoch': 1742018400, 'time': '2025-03-15 02:00', 'temp_c': 5.3, 'temp_f': 41.6, 'is_day': 0, 'condition': {'text': 'Mist', 'icon': '//cdn.weatherapi.com/weather/64x64/night/143.png', 'code': 1030}, 'wind_mph': 4.5, 'wind_kph': 7.2, 'wind_degree': 179, 'wind_dir': 'S', 'pressure_mb': 1020.0, 'pressure_in': 30.13, 'precip_mm': 0.0, 'precip_in': 0.0, 'snow_cm': 0.0, 'humidity': 96, 'cloud': 100, 'feelslike_c': 3.6, 'feelslike_f': 38.5, 'windchill_c': 3.6, 'windchill_f': 38.5, 'heatindex_c': 5.3, 'heatindex_f': 41.6, 'dewpoint_c': 4.7, 'dewpoint_f': 40.4, 'will_it_rain': 0, 'chance_of_rain': 0, 'will_it_snow': 0, 'chance_of_snow': 0, 'vis_km': 10.0, 'vis_miles': 6.0, 'gust_mph': 6.5, 'gust_kph': 10.4, 'uv': 0}, {'time_epoch': 1742022000, 'time': '2025-03-15 03:00', 'temp_c': 5.2, 'temp_f': 41.4, 'is_day': 0, 'condition': {'text': 'Mist', 'icon': '//cdn.weatherapi.com/weather/64x64/night/143.png', 'code': 1030}, 'wind_mph': 4.0, 'wind_kph': 6.5, 'wind_degree': 170, 'wind_dir': 'S', 'pressure_mb': 1020.0, 'pressure_in': 30.12, 'precip_mm': 0.0, 'precip_in': 0.0, 'snow_cm': 0.0, 'humidity': 95, 'cloud': 100, 'feelslike_c': 3.4, 'feelslike_f': 38.1, 'windchill_c': 3.4, 'windchill_f': 38.1, 'heatindex_c': 5.2, 'heatindex_f': 41.4, 'dewpoint_c': 4.5, 'dewpoint_f': 40.1, 'will_it_rain': 0, 'chance_of_rain': 0, 'will_it_snow': 0, 'chance_of_snow': 0, 'vis_km': 10.0, 'vis_miles': 6.0, 'gust_mph': 5.9, 'gust_kph': 9.5, 'uv': 0}, {'time_epoch': 1742025600, 'time': '2025-03-15 04:00', 'temp_c': 5.3, 'temp_f': 41.5, 'is_day': 0, 'condition': {'text': 'Mist', 'icon': '//cdn.weatherapi.com/weather/64x64/night/143.png', 'code': 1030}, 'wind_mph': 3.8, 'wind_kph': 6.1, 'wind_degree': 173, 'wind_dir': 'S', 'pressure_mb': 1020.0, 'pressure_in': 30.11, 'precip_mm': 0.0, 'precip_in': 0.0, 'snow_cm': 0.0, 'humidity': 96, 'cloud': 100, 'feelslike_c': 3.3, 'feelslike_f': 37.9, 'windchill_c': 3.3, 'windchill_f': 37.9, 'heatindex_c': 5.3, 'heatindex_f': 41.5, 'dewpoint_c': 4.5, 'dewpoint_f': 40.1, 'will_it_rain': 0, 'chance_of_rain': 0, 'will_it_snow': 0, 'chance_of_snow': 0, 'vis_km': 10.0, 'vis_miles': 6.0, 'gust_mph': 5.6, 'gust_kph': 9.0, 'uv': 0}, {'time_epoch': 1742029200, 'time': '2025-03-15 05:00', 'temp_c': 5.1, 'temp_f': 41.2, 'is_day': 0, 'condition': {'text': 'Mist', 'icon': '//cdn.weatherapi.com/weather/64x64/night/143.png', 'code': 1030}, 'wind_mph': 3.8, 'wind_kph': 6.1, 'wind_degree': 190, 'wind_dir': 'S', 'pressure_mb': 1020.0, 'pressure_in': 30.11, 'precip_mm': 0.0, 'precip_in': 0.0, 'snow_cm': 0.0, 'humidity': 95, 'cloud': 100, 'feelslike_c': 3.1, 'feelslike_f': 37.6, 'windchill_c': 3.1, 'windchill_f': 37.6, 'heatindex_c': 5.1, 'heatindex_f': 41.2, 'dewpoint_c': 4.6, 'dewpoint_f': 40.3, 'will_it_rain': 0, 'chance_of_rain': 0, 'will_it_snow': 0, 'chance_of_snow': 0, 'vis_km': 10.0, 'vis_miles': 6.0, 'gust_mph': 5.3, 'gust_kph': 8.5, 'uv': 0}, {'time_epoch': 1742032800, 'time': '2025-03-15 06:00', 'temp_c': 5.0, 'temp_f': 40.9, 'is_day': 0, 'condition': {'text': 'Mist', 'icon': '//cdn.weatherapi.com/weather/64x64/night/143.png', 'code': 1030}, 'wind_mph': 3.8, 'wind_kph': 6.1, 'wind_degree': 162, 'wind_dir': 'SSE', 'pressure_mb': 1020.0, 'pressure_in': 30.12, 'precip_mm': 0.0, 'precip_in': 0.0, 'snow_cm': 0.0, 'humidity': 96, 'cloud': 100, 'feelslike_c': 2.9, 'feelslike_f': 37.2, 'windchill_c': 2.9, 'windchill_f': 37.2, 'heatindex_c': 5.0, 'heatindex_f': 40.9, 'dewpoint_c': 4.4, 'dewpoint_f': 40.0, 'will_it_rain': 0, 'chance_of_rain': 0, 'will_it_snow': 0, 'chance_of_snow': 0, 'vis_km': 10.0, 'vis_miles': 6.0, 'gust_mph': 5.3, 'gust_kph': 8.5, 'uv': 0}, {'time_epoch': 1742036400, 'time': '2025-03-15 07:00', 'temp_c': 4.8, 'temp_f': 40.7, 'is_day': 0, 'condition': {'text': 'Mist', 'icon': '//cdn.weatherapi.com/weather/64x64/night/143.png', 'code': 1030}, 'wind_mph': 3.6, 'wind_kph': 5.8, 'wind_degree': 156, 'wind_dir': 'SSE', 'pressure_mb': 1021.0, 'pressure_in': 30.14, 'precip_mm': 0.0, 'precip_in': 0.0, 'snow_cm': 0.0, 'humidity': 96, 'cloud': 100, 'feelslike_c': 2.9, 'feelslike_f': 37.2, 'windchill_c': 2.9, 'windchill_f': 37.2, 'heatindex_c': 4.8, 'heatindex_f': 40.7, 'dewpoint_c': 4.2, 'dewpoint_f': 39.6, 'will_it_rain': 0, 'chance_of_rain': 0, 'will_it_snow': 0, 'chance_of_snow': 0, 'vis_km': 10.0, 'vis_miles': 6.0, 'gust_mph': 5.1, 'gust_kph': 8.2, 'uv': 0}, {'time_epoch': 1742040000, 'time': '2025-03-15 08:00', 'temp_c': 4.9, 'temp_f': 40.8, 'is_day': 1, 'condition': {'text': 'Mist', 'icon': '//cdn.weatherapi.com/weather/64x64/day/143.png', 'code': 1030}, 'wind_mph': 3.8, 'wind_kph': 6.1, 'wind_degree': 146, 'wind_dir': 'SSE', 'pressure_mb': 1021.0, 'pressure_in': 30.15, 'precip_mm': 0.0, 'precip_in': 0.0, 'snow_cm': 0.0, 'humidity': 96, 'cloud': 100, 'feelslike_c': 3.1, 'feelslike_f': 37.5, 'windchill_c': 3.1, 'windchill_f': 37.5, 'heatindex_c': 4.9, 'heatindex_f': 40.8, 'dewpoint_c': 4.1, 'dewpoint_f': 39.3, 'will_it_rain': 0, 'chance_of_rain': 0, 'will_it_snow': 0, 'chance_of_snow': 0, 'vis_km': 10.0, 'vis_miles': 6.0, 'gust_mph': 5.3, 'gust_kph': 8.6, 'uv': 0.2}, {'time_epoch': 1742043600, 'time': '2025-03-15 09:00', 'temp_c': 5.0, 'temp_f': 41.1, 'is_day': 1, 'condition': {'text': 'Mist', 'icon': '//cdn.weatherapi.com/weather/64x64/day/143.png', 'code': 1030}, 'wind_mph': 5.1, 'wind_kph': 8.3, 'wind_degree': 154, 'wind_dir': 'SSE', 'pressure_mb': 1022.0, 'pressure_in': 30.17, 'precip_mm': 0.0, 'precip_in': 0.0, 'snow_cm': 0.0, 'humidity': 95, 'cloud': 100, 'feelslike_c': 3.3, 'feelslike_f': 37.9, 'windchill_c': 3.3, 'windchill_f': 37.9, 'heatindex_c': 5.0, 'heatindex_f': 41.1, 'dewpoint_c': 4.2, 'dewpoint_f': 39.5, 'will_it_rain': 0, 'chance_of_rain': 0, 'will_it_snow': 0, 'chance_of_snow': 0, 'vis_km': 10.0, 'vis_miles': 6.0, 'gust_mph': 7.0, 'gust_kph': 11.3, 'uv': 0.7}, {'time_epoch': 1742047200, 'time': '2025-03-15 10:00', 'temp_c': 5.5, 'temp_f': 41.8, 'is_day': 1, 'condition': {'text': 'Overcast ', 'icon': '//cdn.weatherapi.com/weather/64x64/day/122.png', 'code': 1009}, 'wind_mph': 5.8, 'wind_kph': 9.4, 'wind_degree': 166, 'wind_dir': 'SSE', 'pressure_mb': 1022.0, 'pressure_in': 30.17, 'precip_mm': 0.0, 'precip_in': 0.0, 'snow_cm': 0.0, 'humidity': 93, 'cloud': 100, 'feelslike_c': 3.8, 'feelslike_f': 38.9, 'windchill_c': 3.8, 'windchill_f': 38.9, 'heatindex_c': 5.5, 'heatindex_f': 41.8, 'dewpoint_c': 4.2, 'dewpoint_f': 39.6, 'will_it_rain': 0, 'chance_of_rain': 0, 'will_it_snow': 0, 'chance_of_snow': 0, 'vis_km': 10.0, 'vis_miles': 6.0, 'gust_mph': 7.6, 'gust_kph': 12.2, 'uv': 1.3}, {'time_epoch': 1742050800, 'time': '2025-03-15 11:00', 'temp_c': 5.9, 'temp_f': 42.7, 'is_day': 1, 'condition': {'text': 'Overcast ', 'icon': '//cdn.weatherapi.com/weather/64x64/day/122.png', 'code': 1009}, 'wind_mph': 6.7, 'wind_kph': 10.8, 'wind_degree': 161, 'wind_dir': 'SSE', 'pressure_mb': 1021.0, 'pressure_in': 30.16, 'precip_mm': 0.0, 'precip_in': 0.0, 'snow_cm': 0.0, 'humidity': 90, 'cloud': 100, 'feelslike_c': 4.2, 'feelslike_f': 39.6, 'windchill_c': 4.2, 'windchill_f': 39.6, 'heatindex_c': 5.9, 'heatindex_f': 42.7, 'dewpoint_c': 4.5, 'dewpoint_f': 40.0, 'will_it_rain': 0, 'chance_of_rain': 0, 'will_it_snow': 0, 'chance_of_snow': 0, 'vis_km': 10.0, 'vis_miles': 6.0, 'gust_mph': 8.6, 'gust_kph': 13.9, 'uv': 2.3}, {'time_epoch': 1742054400, 'time': '2025-03-15 12:00', 'temp_c': 6.5, 'temp_f': 43.6, 'is_day': 1, 'condition': {'text': 'Overcast ', 'icon': '//cdn.weatherapi.com/weather/64x64/day/122.png', 'code': 1009}, 'wind_mph': 7.2, 'wind_kph': 11.5, 'wind_degree': 190, 'wind_dir': 'S', 'pressure_mb': 1020.0, 'pressure_in': 30.13, 'precip_mm': 0.0, 'precip_in': 0.0, 'snow_cm': 0.0, 'humidity': 89, 'cloud': 100, 'feelslike_c': 4.8, 'feelslike_f': 40.6, 'windchill_c': 4.8, 'windchill_f': 40.6, 'heatindex_c': 6.5, 'heatindex_f': 43.6, 'dewpoint_c': 4.8, 'dewpoint_f': 40.6, 'will_it_rain': 0, 'chance_of_rain': 0, 'will_it_snow': 0, 'chance_of_snow': 0, 'vis_km': 10.0, 'vis_miles': 6.0, 'gust_mph': 8.8, 'gust_kph': 14.2, 'uv': 3.7}, {'time_epoch': 1742058000, 'time': '2025-03-15 13:00', 'temp_c': 7.1, 'temp_f': 44.7, 'is_day': 1, 'condition': {'text': 'Overcast ', 'icon': '//cdn.weatherapi.com/weather/64x64/day/122.png', 'code': 1009}, 'wind_mph': 6.0, 'wind_kph': 9.7, 'wind_degree': 197, 'wind_dir': 'SSW', 'pressure_mb': 1020.0, 'pressure_in': 30.12, 'precip_mm': 0.0, 'precip_in': 0.0, 'snow_cm': 0.0, 'humidity': 89, 'cloud': 100, 'feelslike_c': 6.1, 'feelslike_f': 43.0, 'windchill_c': 6.1, 'windchill_f': 43.0, 'heatindex_c': 7.1, 'heatindex_f': 44.7, 'dewpoint_c': 5.4, 'dewpoint_f': 41.6, 'will_it_rain': 0, 'chance_of_rain': 0, 'will_it_snow': 0, 'chance_of_snow': 0, 'vis_km': 10.0, 'vis_miles': 6.0, 'gust_mph': 7.6, 'gust_kph': 12.2, 'uv': 4.7}, {'time_epoch': 1742061600, 'time': '2025-03-15 14:00', 'temp_c': 7.6, 'temp_f': 45.8, 'is_day': 1, 'condition': {'text': 'Overcast ', 'icon': '//cdn.weatherapi.com/weather/64x64/day/122.png', 'code': 1009}, 'wind_mph': 5.6, 'wind_kph': 9.0, 'wind_degree': 185, 'wind_dir': 'S', 'pressure_mb': 1021.0, 'pressure_in': 30.15, 'precip_mm': 0.0, 'precip_in': 0.0, 'snow_cm': 0.0, 'humidity': 89, 'cloud': 100, 'feelslike_c': 6.8, 'feelslike_f': 44.2, 'windchill_c': 6.8, 'windchill_f': 44.2, 'heatindex_c': 7.6, 'heatindex_f': 45.8, 'dewpoint_c': 6.0, 'dewpoint_f': 42.7, 'will_it_rain': 0, 'chance_of_rain': 0, 'will_it_snow': 0, 'chance_of_snow': 0, 'vis_km': 10.0, 'vis_miles': 6.0, 'gust_mph': 6.8, 'gust_kph': 10.9, 'uv': 4.3}, {'time_epoch': 1742065200, 'time': '2025-03-15 15:00', 'temp_c': 8.0, 'temp_f': 46.3, 'is_day': 1, 'condition': {'text': 'Overcast ', 'icon': '//cdn.weatherapi.com/weather/64x64/day/122.png', 'code': 1009}, 'wind_mph': 5.6, 'wind_kph': 9.0, 'wind_degree': 175, 'wind_dir': 'S', 'pressure_mb': 1021.0, 'pressure_in': 30.14, 'precip_mm': 0.0, 'precip_in': 0.0, 'snow_cm': 0.0, 'humidity': 87, 'cloud': 100, 'feelslike_c': 6.9, 'feelslike_f': 44.4, 'windchill_c': 6.9, 'windchill_f': 44.4, 'heatindex_c': 8.0, 'heatindex_f': 46.3, 'dewpoint_c': 6.2, 'dewpoint_f': 43.2, 'will_it_rain': 0, 'chance_of_rain': 0, 'will_it_snow': 0, 'chance_of_snow': 0, 'vis_km': 10.0, 'vis_miles': 6.0, 'gust_mph': 7.0, 'gust_kph': 11.2, 'uv': 3.2}, {'time_epoch': 1742068800, 'time': '2025-03-15 16:00', 'temp_c': 10.3, 'temp_f': 50.5, 'is_day': 1, 'condition': {'text': 'Overcast', 'icon': '//cdn.weatherapi.com/weather/64x64/day/122.png', 'code': 1009}, 'wind_mph': 6.9, 'wind_kph': 11.2, 'wind_degree': 162, 'wind_dir': 'SSE', 'pressure_mb': 1019.0, 'pressure_in': 30.1, 'precip_mm': 0.0, 'precip_in': 0.0, 'snow_cm': 0.0, 'humidity': 82, 'cloud': 100, 'feelslike_c': 6.4, 'feelslike_f': 43.5, 'windchill_c': 6.4, 'windchill_f': 43.5, 'heatindex_c': 8.0, 'heatindex_f': 46.5, 'dewpoint_c': 6.4, 'dewpoint_f': 43.5, 'will_it_rain': 0, 'chance_of_rain': 0, 'will_it_snow': 0, 'chance_of_snow': 0, 'vis_km': 16.0, 'vis_miles': 9.0, 'gust_mph': 9.2, 'gust_kph': 14.8, 'uv': 1.9}, {'time_epoch': 1742072400, 'time': '2025-03-15 17:00', 'temp_c': 7.9, 'temp_f': 46.3, 'is_day': 1, 'condition': {'text': 'Overcast ', 'icon': '//cdn.weatherapi.com/weather/64x64/day/122.png', 'code': 1009}, 'wind_mph': 7.8, 'wind_kph': 12.6, 'wind_degree': 150, 'wind_dir': 'SSE', 'pressure_mb': 1019.0, 'pressure_in': 30.1, 'precip_mm': 0.0, 'precip_in': 0.0, 'snow_cm': 0.0, 'humidity': 89, 'cloud': 100, 'feelslike_c': 6.0, 'feelslike_f': 42.8, 'windchill_c': 6.0, 'windchill_f': 42.8, 'heatindex_c': 7.9, 'heatindex_f': 46.3, 'dewpoint_c': 6.3, 'dewpoint_f': 43.4, 'will_it_rain': 0, 'chance_of_rain': 0, 'will_it_snow': 0, 'chance_of_snow': 0, 'vis_km': 10.0, 'vis_miles': 6.0, 'gust_mph': 11.3, 'gust_kph': 18.3, 'uv': 0.8}, {'time_epoch': 1742076000, 'time': '2025-03-15 18:00', 'temp_c': 7.6, 'temp_f': 45.7, 'is_day': 1, 'condition': {'text': 'Overcast ', 'icon': '//cdn.weatherapi.com/weather/64x64/day/122.png', 'code': 1009}, 'wind_mph': 9.4, 'wind_kph': 15.1, 'wind_degree': 143, 'wind_dir': 'SE', 'pressure_mb': 1019.0, 'pressure_in': 30.1, 'precip_mm': 0.0, 'precip_in': 0.0, 'snow_cm': 0.0, 'humidity': 91, 'cloud': 100, 'feelslike_c': 5.4, 'feelslike_f': 41.8, 'windchill_c': 5.4, 'windchill_f': 41.8, 'heatindex_c': 7.6, 'heatindex_f': 45.7, 'dewpoint_c': 6.4, 'dewpoint_f': 43.6, 'will_it_rain': 0, 'chance_of_rain': 0, 'will_it_snow': 0, 'chance_of_snow': 0, 'vis_km': 10.0, 'vis_miles': 6.0, 'gust_mph': 14.0, 'gust_kph': 22.6, 'uv': 0.2}, {'time_epoch': 1742079600, 'time': '2025-03-15 19:00', 'temp_c': 7.3, 'temp_f': 45.1, 'is_day': 1, 'condition': {'text': 'Overcast ', 'icon': '//cdn.weatherapi.com/weather/64x64/day/122.png', 'code': 1009}, 'wind_mph': 9.4, 'wind_kph': 15.1, 'wind_degree': 145, 'wind_dir': 'SE', 'pressure_mb': 1019.0, 'pressure_in': 30.09, 'precip_mm': 0.0, 'precip_in': 0.0, 'snow_cm': 0.0, 'humidity': 94, 'cloud': 100, 'feelslike_c': 5.0, 'feelslike_f': 41.1, 'windchill_c': 5.0, 'windchill_f': 41.1, 'heatindex_c': 7.3, 'heatindex_f': 45.1, 'dewpoint_c': 6.4, 'dewpoint_f': 43.5, 'will_it_rain': 0, 'chance_of_rain': 0, 'will_it_snow': 0, 'chance_of_snow': 0, 'vis_km': 10.0, 'vis_miles': 6.0, 'gust_mph': 14.6, 'gust_kph': 23.5, 'uv': 0.0}, {'time_epoch': 1742083200, 'time': '2025-03-15 20:00', 'temp_c': 7.2, 'temp_f': 45.0, 'is_day': 0, 'condition': {'text': 'Mist', 'icon': '//cdn.weatherapi.com/weather/64x64/night/143.png', 'code': 1030}, 'wind_mph': 8.3, 'wind_kph': 13.3, 'wind_degree': 158, 'wind_dir': 'SSE', 'pressure_mb': 1019.0, 'pressure_in': 30.09, 'precip_mm': 0.0, 'precip_in': 0.0, 'snow_cm': 0.0, 'humidity': 96, 'cloud': 100, 'feelslike_c': 5.1, 'feelslike_f': 41.1, 'windchill_c': 5.1, 'windchill_f': 41.1, 'heatindex_c': 7.2, 'heatindex_f': 45.0, 'dewpoint_c': 6.4, 'dewpoint_f': 43.6, 'will_it_rain': 0, 'chance_of_rain': 0, 'will_it_snow': 0, 'chance_of_snow': 0, 'vis_km': 10.0, 'vis_miles': 6.0, 'gust_mph': 12.7, 'gust_kph': 20.4, 'uv': 0}, {'time_epoch': 1742086800, 'time': '2025-03-15 21:00', 'temp_c': 7.3, 'temp_f': 45.1, 'is_day': 0, 'condition': {'text': 'Mist', 'icon': '//cdn.weatherapi.com/weather/64x64/night/143.png', 'code': 1030}, 'wind_mph': 8.5, 'wind_kph': 13.7, 'wind_degree': 162, 'wind_dir': 'SSE', 'pressure_mb': 1019.0, 'pressure_in': 30.08, 'precip_mm': 0.0, 'precip_in': 0.0, 'snow_cm': 0.0, 'humidity': 97, 'cloud': 100, 'feelslike_c': 5.5, 'feelslike_f': 41.9, 'windchill_c': 5.5, 'windchill_f': 41.9, 'heatindex_c': 7.3, 'heatindex_f': 45.1, 'dewpoint_c': 6.6, 'dewpoint_f': 43.9, 'will_it_rain': 0, 'chance_of_rain': 0, 'will_it_snow': 0, 'chance_of_snow': 0, 'vis_km': 10.0, 'vis_miles': 6.0, 'gust_mph': 13.2, 'gust_kph': 21.2, 'uv': 0}, {'time_epoch': 1742090400, 'time': '2025-03-15 22:00', 'temp_c': 7.4, 'temp_f': 45.3, 'is_day': 0, 'condition': {'text': 'Fog', 'icon': '//cdn.weatherapi.com/weather/64x64/night/248.png', 'code': 1135}, 'wind_mph': 8.3, 'wind_kph': 13.3, 'wind_degree': 164, 'wind_dir': 'SSE', 'pressure_mb': 1019.0, 'pressure_in': 30.09, 'precip_mm': 0.0, 'precip_in': 0.0, 'snow_cm': 0.0, 'humidity': 97, 'cloud': 100, 'feelslike_c': 5.9, 'feelslike_f': 42.6, 'windchill_c': 5.9, 'windchill_f': 42.6, 'heatindex_c': 7.4, 'heatindex_f': 45.3, 'dewpoint_c': 6.9, 'dewpoint_f': 44.4, 'will_it_rain': 0, 'chance_of_rain': 0, 'will_it_snow': 0, 'chance_of_snow': 0, 'vis_km': 10.0, 'vis_miles': 6.0, 'gust_mph': 13.1, 'gust_kph': 21.1, 'uv': 0}, {'time_epoch': 1742094000, 'time': '2025-03-15 23:00', 'temp_c': 7.4, 'temp_f': 45.3, 'is_day': 0, 'condition': {'text': 'Fog', 'icon': '//cdn.weatherapi.com/weather/64x64/night/248.png', 'code': 1135}, 'wind_mph': 7.2, 'wind_kph': 11.5, 'wind_degree': 168, 'wind_dir': 'SSE', 'pressure_mb': 1018.0, 'pressure_in': 30.07, 'precip_mm': 0.0, 'precip_in': 0.0, 'snow_cm': 0.0, 'humidity': 98, 'cloud': 100, 'feelslike_c': 6.1, 'feelslike_f': 43.0, 'windchill_c': 6.1, 'windchill_f': 43.0, 'heatindex_c': 7.4, 'heatindex_f': 45.3, 'dewpoint_c': 7.2, 'dewpoint_f': 44.9, 'will_it_rain': 0, 'chance_of_rain': 0, 'will_it_snow': 0, 'chance_of_snow': 0, 'vis_km': 10.0, 'vis_miles': 6.0, 'gust_mph': 11.8, 'gust_kph': 19.0, 'uv': 0}]}]}}\n"
          ]
        },
        {
          "ename": "Py4JError",
          "evalue": "An error occurred while calling o32.sql. Trace:\npy4j.Py4JException: Method sql([class java.lang.String, class [Ljava.lang.Object;]) does not exist\n\tat py4j.reflection.ReflectionEngine.getMethod(ReflectionEngine.java:321)\n\tat py4j.reflection.ReflectionEngine.getMethod(ReflectionEngine.java:329)\n\tat py4j.Gateway.invoke(Gateway.java:274)\n\tat py4j.commands.AbstractCommand.invokeMethod(AbstractCommand.java:132)\n\tat py4j.commands.CallCommand.execute(CallCommand.java:79)\n\tat py4j.ClientServerConnection.waitForCommands(ClientServerConnection.java:182)\n\tat py4j.ClientServerConnection.run(ClientServerConnection.java:106)\n\tat java.base/java.lang.Thread.run(Thread.java:829)\n\n",
          "output_type": "error",
          "traceback": [
            "\u001b[0;31m---------------------------------------------------------------------------\u001b[0m",
            "\u001b[0;31mPy4JError\u001b[0m                                 Traceback (most recent call last)",
            "Cell \u001b[0;32mIn[24], line 4\u001b[0m\n\u001b[1;32m      1\u001b[0m \u001b[38;5;28mprint\u001b[39m(weather_data)\n\u001b[1;32m      3\u001b[0m jdf\u001b[38;5;241m.\u001b[39mcreateOrReplaceTempView(\u001b[38;5;124m\"\u001b[39m\u001b[38;5;124mwdata\u001b[39m\u001b[38;5;124m\"\u001b[39m)\n\u001b[0;32m----> 4\u001b[0m \u001b[43mspark\u001b[49m\u001b[38;5;241;43m.\u001b[39;49m\u001b[43msql\u001b[49m\u001b[43m(\u001b[49m\u001b[38;5;124;43m\"\u001b[39;49m\u001b[38;5;124;43mselect * from wdata\u001b[39;49m\u001b[38;5;124;43m\"\u001b[39;49m\u001b[43m)\u001b[49m\u001b[38;5;241m.\u001b[39mshow()\n",
            "File \u001b[0;32m~/.local/lib/python3.10/site-packages/pyspark/sql/session.py:1631\u001b[0m, in \u001b[0;36mSparkSession.sql\u001b[0;34m(self, sqlQuery, args, **kwargs)\u001b[0m\n\u001b[1;32m   1627\u001b[0m         \u001b[38;5;28;01massert\u001b[39;00m \u001b[38;5;28mself\u001b[39m\u001b[38;5;241m.\u001b[39m_jvm \u001b[38;5;129;01mis\u001b[39;00m \u001b[38;5;129;01mnot\u001b[39;00m \u001b[38;5;28;01mNone\u001b[39;00m\n\u001b[1;32m   1628\u001b[0m         litArgs \u001b[38;5;241m=\u001b[39m \u001b[38;5;28mself\u001b[39m\u001b[38;5;241m.\u001b[39m_jvm\u001b[38;5;241m.\u001b[39mPythonUtils\u001b[38;5;241m.\u001b[39mtoArray(\n\u001b[1;32m   1629\u001b[0m             [_to_java_column(lit(v)) \u001b[38;5;28;01mfor\u001b[39;00m v \u001b[38;5;129;01min\u001b[39;00m (args \u001b[38;5;129;01mor\u001b[39;00m [])]\n\u001b[1;32m   1630\u001b[0m         )\n\u001b[0;32m-> 1631\u001b[0m     \u001b[38;5;28;01mreturn\u001b[39;00m DataFrame(\u001b[38;5;28;43mself\u001b[39;49m\u001b[38;5;241;43m.\u001b[39;49m\u001b[43m_jsparkSession\u001b[49m\u001b[38;5;241;43m.\u001b[39;49m\u001b[43msql\u001b[49m\u001b[43m(\u001b[49m\u001b[43msqlQuery\u001b[49m\u001b[43m,\u001b[49m\u001b[43m \u001b[49m\u001b[43mlitArgs\u001b[49m\u001b[43m)\u001b[49m, \u001b[38;5;28mself\u001b[39m)\n\u001b[1;32m   1632\u001b[0m \u001b[38;5;28;01mfinally\u001b[39;00m:\n\u001b[1;32m   1633\u001b[0m     \u001b[38;5;28;01mif\u001b[39;00m \u001b[38;5;28mlen\u001b[39m(kwargs) \u001b[38;5;241m>\u001b[39m \u001b[38;5;241m0\u001b[39m:\n",
            "File \u001b[0;32m~/.local/lib/python3.10/site-packages/py4j/java_gateway.py:1322\u001b[0m, in \u001b[0;36mJavaMember.__call__\u001b[0;34m(self, *args)\u001b[0m\n\u001b[1;32m   1316\u001b[0m command \u001b[38;5;241m=\u001b[39m proto\u001b[38;5;241m.\u001b[39mCALL_COMMAND_NAME \u001b[38;5;241m+\u001b[39m\\\n\u001b[1;32m   1317\u001b[0m     \u001b[38;5;28mself\u001b[39m\u001b[38;5;241m.\u001b[39mcommand_header \u001b[38;5;241m+\u001b[39m\\\n\u001b[1;32m   1318\u001b[0m     args_command \u001b[38;5;241m+\u001b[39m\\\n\u001b[1;32m   1319\u001b[0m     proto\u001b[38;5;241m.\u001b[39mEND_COMMAND_PART\n\u001b[1;32m   1321\u001b[0m answer \u001b[38;5;241m=\u001b[39m \u001b[38;5;28mself\u001b[39m\u001b[38;5;241m.\u001b[39mgateway_client\u001b[38;5;241m.\u001b[39msend_command(command)\n\u001b[0;32m-> 1322\u001b[0m return_value \u001b[38;5;241m=\u001b[39m \u001b[43mget_return_value\u001b[49m\u001b[43m(\u001b[49m\n\u001b[1;32m   1323\u001b[0m \u001b[43m    \u001b[49m\u001b[43manswer\u001b[49m\u001b[43m,\u001b[49m\u001b[43m \u001b[49m\u001b[38;5;28;43mself\u001b[39;49m\u001b[38;5;241;43m.\u001b[39;49m\u001b[43mgateway_client\u001b[49m\u001b[43m,\u001b[49m\u001b[43m \u001b[49m\u001b[38;5;28;43mself\u001b[39;49m\u001b[38;5;241;43m.\u001b[39;49m\u001b[43mtarget_id\u001b[49m\u001b[43m,\u001b[49m\u001b[43m \u001b[49m\u001b[38;5;28;43mself\u001b[39;49m\u001b[38;5;241;43m.\u001b[39;49m\u001b[43mname\u001b[49m\u001b[43m)\u001b[49m\n\u001b[1;32m   1325\u001b[0m \u001b[38;5;28;01mfor\u001b[39;00m temp_arg \u001b[38;5;129;01min\u001b[39;00m temp_args:\n\u001b[1;32m   1326\u001b[0m     \u001b[38;5;28;01mif\u001b[39;00m \u001b[38;5;28mhasattr\u001b[39m(temp_arg, \u001b[38;5;124m\"\u001b[39m\u001b[38;5;124m_detach\u001b[39m\u001b[38;5;124m\"\u001b[39m):\n",
            "File \u001b[0;32m~/.local/lib/python3.10/site-packages/pyspark/errors/exceptions/captured.py:179\u001b[0m, in \u001b[0;36mcapture_sql_exception.<locals>.deco\u001b[0;34m(*a, **kw)\u001b[0m\n\u001b[1;32m    177\u001b[0m \u001b[38;5;28;01mdef\u001b[39;00m \u001b[38;5;21mdeco\u001b[39m(\u001b[38;5;241m*\u001b[39ma: Any, \u001b[38;5;241m*\u001b[39m\u001b[38;5;241m*\u001b[39mkw: Any) \u001b[38;5;241m-\u001b[39m\u001b[38;5;241m>\u001b[39m Any:\n\u001b[1;32m    178\u001b[0m     \u001b[38;5;28;01mtry\u001b[39;00m:\n\u001b[0;32m--> 179\u001b[0m         \u001b[38;5;28;01mreturn\u001b[39;00m \u001b[43mf\u001b[49m\u001b[43m(\u001b[49m\u001b[38;5;241;43m*\u001b[39;49m\u001b[43ma\u001b[49m\u001b[43m,\u001b[49m\u001b[43m \u001b[49m\u001b[38;5;241;43m*\u001b[39;49m\u001b[38;5;241;43m*\u001b[39;49m\u001b[43mkw\u001b[49m\u001b[43m)\u001b[49m\n\u001b[1;32m    180\u001b[0m     \u001b[38;5;28;01mexcept\u001b[39;00m Py4JJavaError \u001b[38;5;28;01mas\u001b[39;00m e:\n\u001b[1;32m    181\u001b[0m         converted \u001b[38;5;241m=\u001b[39m convert_exception(e\u001b[38;5;241m.\u001b[39mjava_exception)\n",
            "File \u001b[0;32m~/.local/lib/python3.10/site-packages/py4j/protocol.py:330\u001b[0m, in \u001b[0;36mget_return_value\u001b[0;34m(answer, gateway_client, target_id, name)\u001b[0m\n\u001b[1;32m    326\u001b[0m         \u001b[38;5;28;01mraise\u001b[39;00m Py4JJavaError(\n\u001b[1;32m    327\u001b[0m             \u001b[38;5;124m\"\u001b[39m\u001b[38;5;124mAn error occurred while calling \u001b[39m\u001b[38;5;132;01m{0}\u001b[39;00m\u001b[38;5;132;01m{1}\u001b[39;00m\u001b[38;5;132;01m{2}\u001b[39;00m\u001b[38;5;124m.\u001b[39m\u001b[38;5;130;01m\\n\u001b[39;00m\u001b[38;5;124m\"\u001b[39m\u001b[38;5;241m.\u001b[39m\n\u001b[1;32m    328\u001b[0m             \u001b[38;5;28mformat\u001b[39m(target_id, \u001b[38;5;124m\"\u001b[39m\u001b[38;5;124m.\u001b[39m\u001b[38;5;124m\"\u001b[39m, name), value)\n\u001b[1;32m    329\u001b[0m     \u001b[38;5;28;01melse\u001b[39;00m:\n\u001b[0;32m--> 330\u001b[0m         \u001b[38;5;28;01mraise\u001b[39;00m Py4JError(\n\u001b[1;32m    331\u001b[0m             \u001b[38;5;124m\"\u001b[39m\u001b[38;5;124mAn error occurred while calling \u001b[39m\u001b[38;5;132;01m{0}\u001b[39;00m\u001b[38;5;132;01m{1}\u001b[39;00m\u001b[38;5;132;01m{2}\u001b[39;00m\u001b[38;5;124m. Trace:\u001b[39m\u001b[38;5;130;01m\\n\u001b[39;00m\u001b[38;5;132;01m{3}\u001b[39;00m\u001b[38;5;130;01m\\n\u001b[39;00m\u001b[38;5;124m\"\u001b[39m\u001b[38;5;241m.\u001b[39m\n\u001b[1;32m    332\u001b[0m             \u001b[38;5;28mformat\u001b[39m(target_id, \u001b[38;5;124m\"\u001b[39m\u001b[38;5;124m.\u001b[39m\u001b[38;5;124m\"\u001b[39m, name, value))\n\u001b[1;32m    333\u001b[0m \u001b[38;5;28;01melse\u001b[39;00m:\n\u001b[1;32m    334\u001b[0m     \u001b[38;5;28;01mraise\u001b[39;00m Py4JError(\n\u001b[1;32m    335\u001b[0m         \u001b[38;5;124m\"\u001b[39m\u001b[38;5;124mAn error occurred while calling \u001b[39m\u001b[38;5;132;01m{0}\u001b[39;00m\u001b[38;5;132;01m{1}\u001b[39;00m\u001b[38;5;132;01m{2}\u001b[39;00m\u001b[38;5;124m\"\u001b[39m\u001b[38;5;241m.\u001b[39m\n\u001b[1;32m    336\u001b[0m         \u001b[38;5;28mformat\u001b[39m(target_id, \u001b[38;5;124m\"\u001b[39m\u001b[38;5;124m.\u001b[39m\u001b[38;5;124m\"\u001b[39m, name))\n",
            "\u001b[0;31mPy4JError\u001b[0m: An error occurred while calling o32.sql. Trace:\npy4j.Py4JException: Method sql([class java.lang.String, class [Ljava.lang.Object;]) does not exist\n\tat py4j.reflection.ReflectionEngine.getMethod(ReflectionEngine.java:321)\n\tat py4j.reflection.ReflectionEngine.getMethod(ReflectionEngine.java:329)\n\tat py4j.Gateway.invoke(Gateway.java:274)\n\tat py4j.commands.AbstractCommand.invokeMethod(AbstractCommand.java:132)\n\tat py4j.commands.CallCommand.execute(CallCommand.java:79)\n\tat py4j.ClientServerConnection.waitForCommands(ClientServerConnection.java:182)\n\tat py4j.ClientServerConnection.run(ClientServerConnection.java:106)\n\tat java.base/java.lang.Thread.run(Thread.java:829)\n\n"
          ]
        }
      ],
      "source": [
        "print(weather_data)\n",
        "\n",
        "jdf.createOrReplaceTempView(\"wdata\")\n",
        "spark.sql(\"select * from wdata\").show()"
      ]
    },
    {
      "cell_type": "code",
      "execution_count": null,
      "metadata": {
        "colab": {
          "base_uri": "https://localhost:8080/"
        },
        "id": "SOPcHK8xb-2_",
        "outputId": "aec460f9-6f78-4831-d852-1f2be01a0fd8"
      },
      "outputs": [],
      "source": [
        "from pyspark.sql.functions import lit\n",
        "location_list = [weather_data['location']]\n",
        "df_l = spark.createDataFrame(location_list)\n",
        "df_l = df_l.withColumn(\"process_uuid\", lit(str(single_uuid)))\n",
        "df_l = df_l.withColumn(\"zipcode\", lit(\"08854\"))\n",
        "df_l.show()"
      ]
    },
    {
      "cell_type": "code",
      "execution_count": null,
      "metadata": {
        "colab": {
          "base_uri": "https://localhost:8080/",
          "height": 1000
        },
        "id": "6HxTm7ectfO6",
        "outputId": "6d646ddd-0def-4cd5-9194-4e44297cbc58"
      },
      "outputs": [],
      "source": [
        "df_l = df_l.select(\"name\",\"region\",\"country\",\"lat\",\"lon\",\"tz_id\",\"localtime_epoch\",\"localtime\",\"process_uuid\",\"zipcode\")\n",
        "df_l = df_l.withColumnRenamed(\"name\", \"city_name\") \\\n",
        "           .withColumnRenamed(\"lat\", \"latitude\") \\\n",
        "           .withColumnRenamed(\"lon\", \"longitude\") \\\n",
        "           .withColumnRenamed(\"tz_id\", \"timezone_id\") \\\n",
        "           .withColumnRenamed(\"localtime_epoch\", \"local_time_epoch\") \\\n",
        "           .withColumnRenamed(\"localtime\", \"local_time\")\n",
        "\n",
        "df_l.write.jdbc(\n",
        "    url=postgres_url,\n",
        "    table=\"stage.location\",\n",
        "    mode=\"append\",\n",
        "    properties=postgres_properties\n",
        ")"
      ]
    },
    {
      "cell_type": "code",
      "execution_count": null,
      "metadata": {
        "colab": {
          "base_uri": "https://localhost:8080/"
        },
        "id": "YcxbZpbGfpRE",
        "outputId": "445a90bb-8d03-4dd7-da82-cd71a0c55b67"
      },
      "outputs": [],
      "source": [
        "from pyspark.sql.functions import col\n",
        "\n",
        "currently_list = [weather_data['current']]\n",
        "df_c = spark.createDataFrame(currently_list)\n",
        "df_cf = df_c.selectExpr(\"last_updated_epoch\",\"last_updated\",\"temp_c\",\"temp_f\",\"is_day\",\"wind_mph\",\"wind_kph\",\"wind_degree\",\"wind_dir\",\"pressure_mb\",\"pressure_in\",\"precip_mm\",\"precip_in\",\"humidity\",\"cloud\",\"feelslike_c\",\"feelslike_f\",\"windchill_c\",\"windchill_f\",\"heatindex_c\",\"heatindex_f\",\"dewpoint_c\",\"dewpoint_f\",\"vis_km\",\"vis_miles\",\"uv\",\"gust_mph\",\"gust_kph\",\"condition.text as condition_text\",\"condition.icon as condition_icon\",\"condition.code as condition_code\")\n",
        "df_cf = df_cf.withColumn(\"process_uuid\", lit(str(single_uuid)))\n",
        "df_cf = df_cf.withColumn(\"zipcode\", lit(\"08854\"))\n",
        "df_cf = df_cf.withColumn(\"last_updated\", col(\"last_updated\").cast(\"timestamp\"))\n",
        "df_cf.show()"
      ]
    },
    {
      "cell_type": "code",
      "execution_count": null,
      "metadata": {},
      "outputs": [],
      "source": [
        "df_cf = df_cf.select(\"last_updated_epoch\",\"last_updated\",\"temp_c\",\"temp_f\",\"is_day\",\"wind_mph\",\"wind_kph\",\"wind_degree\",\"wind_dir\",\"pressure_mb\",\"pressure_in\",\"precip_mm\",\"precip_in\",\"humidity\",\"cloud\",\"feelslike_c\",\"feelslike_f\",\"windchill_c\",\"windchill_f\",\"heatindex_c\",\"heatindex_f\",\"dewpoint_c\",\"dewpoint_f\",\"vis_km\",\"vis_miles\",\"uv\",\"gust_mph\",\"gust_kph\",\"process_uuid\",\"zipcode\",\"condition_text\",\"condition_icon\",\"condition_code\")\n",
        "df_cf.write.jdbc(url=postgres_url, table=\"stage.currently\",mode=\"append\",properties=postgres_properties)"
      ]
    },
    {
      "cell_type": "code",
      "execution_count": null,
      "metadata": {
        "colab": {
          "base_uri": "https://localhost:8080/"
        },
        "id": "A1D0zj-rf9GP",
        "outputId": "edd9439c-6a46-41bd-d89d-722c2669c5ef"
      },
      "outputs": [],
      "source": [
        "daily_list = [weather_data['forecast']['forecastday'][0]['day']]\n",
        "df_d = spark.createDataFrame(daily_list)\n",
        "df_df = df_d.selectExpr(\"maxtemp_c\",\"maxtemp_f\",\"mintemp_c\",\"mintemp_f\",\"avgtemp_c\",\"avgtemp_f\",\"maxwind_mph\",\"maxwind_kph\",\"totalprecip_mm\",\"totalprecip_in\",\"totalsnow_cm\",\"avgvis_km\",\"avgvis_miles\",\"avghumidity\",\"daily_will_it_rain\",\"daily_chance_of_rain\",\"daily_will_it_snow\",\"daily_chance_of_snow\",\"uv\",\"condition.text as condition_text\",\"condition.icon as condition_icon\",\"condition.code as condition_code\")\n",
        "df_df = df_df.withColumn(\"process_uuid\", lit(str(single_uuid)))\n",
        "df_df = df_df.withColumn(\"zipcode\", lit(\"08854\"))\n",
        "df_df.show()"
      ]
    },
    {
      "cell_type": "code",
      "execution_count": null,
      "metadata": {},
      "outputs": [],
      "source": [
        "df_df = df_df.select(\"maxtemp_c\",\"maxtemp_f\",\"mintemp_c\",\"mintemp_f\",\"avgtemp_c\",\"avgtemp_f\",\"maxwind_mph\",\"maxwind_kph\",\"totalprecip_mm\",\"totalprecip_in\",\"totalsnow_cm\",\"avgvis_km\",\"avgvis_miles\",\"avghumidity\",\"daily_will_it_rain\",\"daily_chance_of_rain\",\"daily_will_it_snow\",\"daily_chance_of_snow\",\"uv\",\"process_uuid\",\"zipcode\",\"condition_text\",\"condition_icon\",\"condition_code\")\n",
        "df_df.write.jdbc(url=postgres_url,table=\"stage.daily\",mode=\"append\",properties=postgres_properties)"
      ]
    },
    {
      "cell_type": "code",
      "execution_count": null,
      "metadata": {
        "colab": {
          "base_uri": "https://localhost:8080/",
          "height": 385
        },
        "id": "-b-DuEWll7C0",
        "outputId": "fb03801a-c539-43b2-f12c-cc848f10ab0a"
      },
      "outputs": [],
      "source": [
        "from pyspark.sql.types import *\n",
        "\n",
        "hourly_list = weather_data['forecast']['forecastday'][0]['hour']\n",
        "date_var = weather_data['forecast']['forecastday'][0]['date']\n",
        "epoch_var = weather_data['forecast']['forecastday'][0]['date_epoch']\n",
        "\n",
        "schema = StructType([\n",
        "    StructField(\"time_epoch\", LongType(), True),\n",
        "    StructField(\"time\", StringType(), True),\n",
        "    StructField(\"temp_c\", DoubleType(), True),\n",
        "    StructField(\"temp_f\", DoubleType(), True),\n",
        "    StructField(\"is_day\", DoubleType(), True),\n",
        "    StructField(\"wind_mph\", DoubleType(), True),\n",
        "    StructField(\"wind_kph\", DoubleType(), True),\n",
        "    StructField(\"wind_degree\", DoubleType(), True),\n",
        "    StructField(\"wind_dir\", StringType(), True),\n",
        "    StructField(\"pressure_mb\", DoubleType(), True),\n",
        "    StructField(\"pressure_in\", DoubleType(), True),\n",
        "    StructField(\"precip_mm\", DoubleType(), True),\n",
        "    StructField(\"precip_in\", DoubleType(), True),\n",
        "    StructField(\"snow_cm\", DoubleType(), True),\n",
        "    StructField(\"humidity\", DoubleType(), True),\n",
        "    StructField(\"cloud\", DoubleType(), True),\n",
        "    StructField(\"feelslike_c\", DoubleType(), True),\n",
        "    StructField(\"feelslike_f\", DoubleType(), True),\n",
        "    StructField(\"windchill_c\", DoubleType(), True),\n",
        "    StructField(\"windchill_f\", DoubleType(), True),\n",
        "    StructField(\"heatindex_c\", DoubleType(), True),\n",
        "    StructField(\"heatindex_f\", DoubleType(), True),\n",
        "    StructField(\"dewpoint_c\", DoubleType(), True),\n",
        "    StructField(\"dewpoint_f\", DoubleType(), True),\n",
        "    StructField(\"will_it_rain\", DoubleType(), True),\n",
        "    StructField(\"chance_of_rain\", DoubleType(), True),\n",
        "    StructField(\"will_it_snow\", DoubleType(), True),\n",
        "    StructField(\"chance_of_snow\", DoubleType(), True),\n",
        "    StructField(\"vis_km\", DoubleType(), True),\n",
        "    StructField(\"vis_miles\", DoubleType(), True),\n",
        "    StructField(\"gust_mph\", DoubleType(), True),\n",
        "    StructField(\"gust_kph\", DoubleType(), True),\n",
        "    StructField(\"uv\", DoubleType(), True),\n",
        "    StructField(\"condition\", StructType([\n",
        "        StructField(\"text\", StringType(), True),\n",
        "        StructField(\"icon\", StringType(), True),\n",
        "        StructField(\"code\", StringType(), True)\n",
        "    ]), True),\n",
        "])\n",
        "exclude_columns = {\"time_epoch\", \"condition\"}\n",
        "hourly_list = [\n",
        "    {key: float(value) if isinstance(value, int) and key not in exclude_columns else value \n",
        "     for key, value in row.items()}\n",
        "    for row in hourly_list\n",
        "]\n",
        "\n"
      ]
    },
    {
      "cell_type": "code",
      "execution_count": null,
      "metadata": {},
      "outputs": [],
      "source": [
        "df_h = spark.createDataFrame(hourly_list, schema=schema)\n",
        "df_hf = df_h.selectExpr(\"time_epoch\",\"time\",\"temp_c\",\"temp_f\",\"is_day\",\"wind_mph\",\"wind_kph\",\"wind_degree\",\"wind_dir\",\"pressure_mb\",\"pressure_in\",\"precip_mm\",\"precip_in\",\"snow_cm\",\"humidity\",\"cloud\",\"feelslike_c\",\"feelslike_f\",\"windchill_c\",\"windchill_f\",\"heatindex_c\",\"heatindex_f\",\"dewpoint_c\",\"dewpoint_f\",\"will_it_rain\",\"chance_of_rain\",\"will_it_snow\",\"chance_of_snow\",\"vis_km\",\"vis_miles\",\"gust_mph\",\"gust_kph\",\"uv\",\"condition.text as condition_text\",\"condition.icon as condition_icon\",\"condition.code as condition_code\")\n",
        "df_hf = df_hf.withColumn(\"date\", lit(date_var))\n",
        "df_hf = df_hf.withColumn(\"date_epoch\", lit(epoch_var))\n",
        "df_hf = df_hf.withColumn(\"process_uuid\", lit(str(single_uuid)))\n",
        "df_hf = df_hf.withColumn(\"zipcode\", lit(\"08854\"))\n",
        "df_hf = df_hf.withColumn(\"time\", col(\"time\").cast(\"timestamp\"))\n",
        "df_hf = df_hf.withColumn(\"date\", col(\"date\").cast(\"date\"))\n",
        "df_hf.show()"
      ]
    },
    {
      "cell_type": "code",
      "execution_count": null,
      "metadata": {},
      "outputs": [],
      "source": [
        "df_hf = df_hf.select(\"time_epoch\",\"time\",\"temp_c\",\"temp_f\",\"is_day\",\"wind_mph\",\"wind_kph\",\"wind_degree\",\"wind_dir\",\"pressure_mb\",\"pressure_in\",\"precip_mm\",\"precip_in\",\"snow_cm\",\"humidity\",\"cloud\",\"feelslike_c\",\"feelslike_f\",\"windchill_c\",\"windchill_f\",\"heatindex_c\",\"heatindex_f\",\"dewpoint_c\",\"dewpoint_f\",\"will_it_rain\",\"chance_of_rain\",\"will_it_snow\",\"chance_of_snow\",\"vis_km\",\"vis_miles\",\"gust_mph\",\"gust_kph\",\"uv\",\"condition_text\",\"condition_icon\",\"condition_code\",\"date\",\"date_epoch\",\"process_uuid\",\"zipcode\")\n",
        "df_hf.write.jdbc(url=postgres_url,table=\"stage.hourly\",mode=\"append\",properties=postgres_properties)"
      ]
    },
    {
      "cell_type": "code",
      "execution_count": null,
      "metadata": {},
      "outputs": [],
      "source": [
        "spark.stop()"
      ]
    }
  ],
  "metadata": {
    "colab": {
      "provenance": []
    },
    "kernelspec": {
      "display_name": "Python 3",
      "language": "python",
      "name": "python3"
    },
    "language_info": {
      "codemirror_mode": {
        "name": "ipython",
        "version": 3
      },
      "file_extension": ".py",
      "mimetype": "text/x-python",
      "name": "python",
      "nbconvert_exporter": "python",
      "pygments_lexer": "ipython3",
      "version": "3.10.16"
    }
  },
  "nbformat": 4,
  "nbformat_minor": 0
}
