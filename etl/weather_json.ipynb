{
  "cells": [
    {
      "cell_type": "code",
      "source": [
        "# !pip install psycopg2\n",
        "# !wget -P /content https://jdbc.postgresql.org/download/postgresql-42.2.27.jar\n",
        "jdbc_driver_path = \"/content/postgresql-42.2.27.jar\"\n",
        "import os\n",
        "print(os.listdir())\n",
        "# print(os.chdir())\n"
      ],
      "metadata": {
        "id": "REPE2DaNfFpw",
        "outputId": "44a7ccb6-8243-4788-dafc-e209c3acbf8c",
        "colab": {
          "base_uri": "https://localhost:8080/"
        }
      },
      "execution_count": 1,
      "outputs": [
        {
          "output_type": "stream",
          "name": "stdout",
          "text": [
            "['.config', 'postgresql-42.2.27.jar', '.ipynb_checkpoints', 'weather_20250224.json', 'sample_data']\n"
          ]
        }
      ]
    },
    {
      "cell_type": "code",
      "execution_count": 2,
      "metadata": {
        "id": "C_jUwAJCF9ok"
      },
      "outputs": [],
      "source": [
        "from pyspark.sql import SparkSession\n",
        "\n",
        "spark = SparkSession.builder \\\n",
        "    .master(\"local[*]\") \\\n",
        "    .config(\"spark.driver.bindAddress\", \"127.0.0.1\") \\\n",
        "    .config(\"spark.driver.host\", \"127.0.0.1\") \\\n",
        "    .config(\"spark.jars\", jdbc_driver_path) \\\n",
        "    .appName(\"WeatherAPIandETL\") \\\n",
        "    .getOrCreate()\n",
        "\n"
      ]
    },
    {
      "cell_type": "code",
      "execution_count": 3,
      "metadata": {
        "id": "Eq6d-WR0F9ol",
        "outputId": "bcc2452c-b6cf-41a3-a3a9-9fc93adc7561",
        "colab": {
          "base_uri": "https://localhost:8080/",
          "height": 215
        }
      },
      "outputs": [
        {
          "output_type": "stream",
          "name": "stdout",
          "text": [
            "2025-03-14 22:32:29.751992\n"
          ]
        },
        {
          "output_type": "execute_result",
          "data": {
            "text/plain": [
              "<SparkContext master=local[*] appName=WeatherAPIandETL>"
            ],
            "text/html": [
              "\n",
              "        <div>\n",
              "            <p><b>SparkContext</b></p>\n",
              "\n",
              "            <p><a href=\"http://127.0.0.1:4040\">Spark UI</a></p>\n",
              "\n",
              "            <dl>\n",
              "              <dt>Version</dt>\n",
              "                <dd><code>v3.5.5</code></dd>\n",
              "              <dt>Master</dt>\n",
              "                <dd><code>local[*]</code></dd>\n",
              "              <dt>AppName</dt>\n",
              "                <dd><code>WeatherAPIandETL</code></dd>\n",
              "            </dl>\n",
              "        </div>\n",
              "        "
            ]
          },
          "metadata": {},
          "execution_count": 3
        }
      ],
      "source": [
        "from datetime import datetime\n",
        "\n",
        "print(datetime.now())\n",
        "spark.sparkContext"
      ]
    },
    {
      "cell_type": "code",
      "source": [
        "# from google.colab import files\n",
        "# uploaded = files.upload()\n"
      ],
      "metadata": {
        "id": "Vu_ZRU1-K3LD",
        "outputId": "3fc4c0b3-67d8-4af7-cfff-c0d7ac013e57",
        "colab": {
          "base_uri": "https://localhost:8080/",
          "height": 39
        }
      },
      "execution_count": 37,
      "outputs": [
        {
          "output_type": "display_data",
          "data": {
            "text/plain": [
              "<IPython.core.display.HTML object>"
            ],
            "text/html": [
              "\n",
              "     <input type=\"file\" id=\"files-0882a768-559c-406b-bcd3-9a04f4ea1199\" name=\"files[]\" multiple disabled\n",
              "        style=\"border:none\" />\n",
              "     <output id=\"result-0882a768-559c-406b-bcd3-9a04f4ea1199\">\n",
              "      Upload widget is only available when the cell has been executed in the\n",
              "      current browser session. Please rerun this cell to enable.\n",
              "      </output>\n",
              "      <script>// Copyright 2017 Google LLC\n",
              "//\n",
              "// Licensed under the Apache License, Version 2.0 (the \"License\");\n",
              "// you may not use this file except in compliance with the License.\n",
              "// You may obtain a copy of the License at\n",
              "//\n",
              "//      http://www.apache.org/licenses/LICENSE-2.0\n",
              "//\n",
              "// Unless required by applicable law or agreed to in writing, software\n",
              "// distributed under the License is distributed on an \"AS IS\" BASIS,\n",
              "// WITHOUT WARRANTIES OR CONDITIONS OF ANY KIND, either express or implied.\n",
              "// See the License for the specific language governing permissions and\n",
              "// limitations under the License.\n",
              "\n",
              "/**\n",
              " * @fileoverview Helpers for google.colab Python module.\n",
              " */\n",
              "(function(scope) {\n",
              "function span(text, styleAttributes = {}) {\n",
              "  const element = document.createElement('span');\n",
              "  element.textContent = text;\n",
              "  for (const key of Object.keys(styleAttributes)) {\n",
              "    element.style[key] = styleAttributes[key];\n",
              "  }\n",
              "  return element;\n",
              "}\n",
              "\n",
              "// Max number of bytes which will be uploaded at a time.\n",
              "const MAX_PAYLOAD_SIZE = 100 * 1024;\n",
              "\n",
              "function _uploadFiles(inputId, outputId) {\n",
              "  const steps = uploadFilesStep(inputId, outputId);\n",
              "  const outputElement = document.getElementById(outputId);\n",
              "  // Cache steps on the outputElement to make it available for the next call\n",
              "  // to uploadFilesContinue from Python.\n",
              "  outputElement.steps = steps;\n",
              "\n",
              "  return _uploadFilesContinue(outputId);\n",
              "}\n",
              "\n",
              "// This is roughly an async generator (not supported in the browser yet),\n",
              "// where there are multiple asynchronous steps and the Python side is going\n",
              "// to poll for completion of each step.\n",
              "// This uses a Promise to block the python side on completion of each step,\n",
              "// then passes the result of the previous step as the input to the next step.\n",
              "function _uploadFilesContinue(outputId) {\n",
              "  const outputElement = document.getElementById(outputId);\n",
              "  const steps = outputElement.steps;\n",
              "\n",
              "  const next = steps.next(outputElement.lastPromiseValue);\n",
              "  return Promise.resolve(next.value.promise).then((value) => {\n",
              "    // Cache the last promise value to make it available to the next\n",
              "    // step of the generator.\n",
              "    outputElement.lastPromiseValue = value;\n",
              "    return next.value.response;\n",
              "  });\n",
              "}\n",
              "\n",
              "/**\n",
              " * Generator function which is called between each async step of the upload\n",
              " * process.\n",
              " * @param {string} inputId Element ID of the input file picker element.\n",
              " * @param {string} outputId Element ID of the output display.\n",
              " * @return {!Iterable<!Object>} Iterable of next steps.\n",
              " */\n",
              "function* uploadFilesStep(inputId, outputId) {\n",
              "  const inputElement = document.getElementById(inputId);\n",
              "  inputElement.disabled = false;\n",
              "\n",
              "  const outputElement = document.getElementById(outputId);\n",
              "  outputElement.innerHTML = '';\n",
              "\n",
              "  const pickedPromise = new Promise((resolve) => {\n",
              "    inputElement.addEventListener('change', (e) => {\n",
              "      resolve(e.target.files);\n",
              "    });\n",
              "  });\n",
              "\n",
              "  const cancel = document.createElement('button');\n",
              "  inputElement.parentElement.appendChild(cancel);\n",
              "  cancel.textContent = 'Cancel upload';\n",
              "  const cancelPromise = new Promise((resolve) => {\n",
              "    cancel.onclick = () => {\n",
              "      resolve(null);\n",
              "    };\n",
              "  });\n",
              "\n",
              "  // Wait for the user to pick the files.\n",
              "  const files = yield {\n",
              "    promise: Promise.race([pickedPromise, cancelPromise]),\n",
              "    response: {\n",
              "      action: 'starting',\n",
              "    }\n",
              "  };\n",
              "\n",
              "  cancel.remove();\n",
              "\n",
              "  // Disable the input element since further picks are not allowed.\n",
              "  inputElement.disabled = true;\n",
              "\n",
              "  if (!files) {\n",
              "    return {\n",
              "      response: {\n",
              "        action: 'complete',\n",
              "      }\n",
              "    };\n",
              "  }\n",
              "\n",
              "  for (const file of files) {\n",
              "    const li = document.createElement('li');\n",
              "    li.append(span(file.name, {fontWeight: 'bold'}));\n",
              "    li.append(span(\n",
              "        `(${file.type || 'n/a'}) - ${file.size} bytes, ` +\n",
              "        `last modified: ${\n",
              "            file.lastModifiedDate ? file.lastModifiedDate.toLocaleDateString() :\n",
              "                                    'n/a'} - `));\n",
              "    const percent = span('0% done');\n",
              "    li.appendChild(percent);\n",
              "\n",
              "    outputElement.appendChild(li);\n",
              "\n",
              "    const fileDataPromise = new Promise((resolve) => {\n",
              "      const reader = new FileReader();\n",
              "      reader.onload = (e) => {\n",
              "        resolve(e.target.result);\n",
              "      };\n",
              "      reader.readAsArrayBuffer(file);\n",
              "    });\n",
              "    // Wait for the data to be ready.\n",
              "    let fileData = yield {\n",
              "      promise: fileDataPromise,\n",
              "      response: {\n",
              "        action: 'continue',\n",
              "      }\n",
              "    };\n",
              "\n",
              "    // Use a chunked sending to avoid message size limits. See b/62115660.\n",
              "    let position = 0;\n",
              "    do {\n",
              "      const length = Math.min(fileData.byteLength - position, MAX_PAYLOAD_SIZE);\n",
              "      const chunk = new Uint8Array(fileData, position, length);\n",
              "      position += length;\n",
              "\n",
              "      const base64 = btoa(String.fromCharCode.apply(null, chunk));\n",
              "      yield {\n",
              "        response: {\n",
              "          action: 'append',\n",
              "          file: file.name,\n",
              "          data: base64,\n",
              "        },\n",
              "      };\n",
              "\n",
              "      let percentDone = fileData.byteLength === 0 ?\n",
              "          100 :\n",
              "          Math.round((position / fileData.byteLength) * 100);\n",
              "      percent.textContent = `${percentDone}% done`;\n",
              "\n",
              "    } while (position < fileData.byteLength);\n",
              "  }\n",
              "\n",
              "  // All done.\n",
              "  yield {\n",
              "    response: {\n",
              "      action: 'complete',\n",
              "    }\n",
              "  };\n",
              "}\n",
              "\n",
              "scope.google = scope.google || {};\n",
              "scope.google.colab = scope.google.colab || {};\n",
              "scope.google.colab._files = {\n",
              "  _uploadFiles,\n",
              "  _uploadFilesContinue,\n",
              "};\n",
              "})(self);\n",
              "</script> "
            ]
          },
          "metadata": {}
        }
      ]
    },
    {
      "cell_type": "code",
      "source": [
        "# import os\n",
        "# print(os.listdir())"
      ],
      "metadata": {
        "id": "HiQNRRUdMrUY",
        "outputId": "c6652c61-547a-40b8-a5ab-f00796a72cec",
        "colab": {
          "base_uri": "https://localhost:8080/"
        }
      },
      "execution_count": 38,
      "outputs": [
        {
          "output_type": "stream",
          "name": "stdout",
          "text": [
            "['.config', 'weather_20250224.json', 'sample_data']\n"
          ]
        }
      ]
    },
    {
      "cell_type": "code",
      "execution_count": null,
      "metadata": {
        "id": "pGEpkiDVF9ol",
        "outputId": "9983b0fb-ddfa-4842-f0c6-1b0a01c78811"
      },
      "outputs": [
        {
          "name": "stdout",
          "output_type": "stream",
          "text": [
            "{'location': {'name': 'Piscataway', 'region': 'New Jersey', 'country': 'USA', 'xxx': 'aaa', 'lat': 40.5527, 'lon': -74.4582, 'tz_id': 'America/New_York', 'localtime_epoch': 1740332071, 'localtime': '2025-02-23 12:34'}, 'current': {'last_updated_epoch': 1740331800, 'last_updated': '2025-02-23 12:30', 'temp_c': 6.7, 'temp_f': 44.1, 'is_day': 1, 'condition': {'text': 'Sunny', 'icon': '//cdn.weatherapi.com/weather/64x64/day/113.png', 'code': 1000}, 'wind_mph': 9.2, 'wind_kph': 14.8, 'wind_degree': 283, 'wind_dir': 'WNW', 'pressure_mb': 1019.0, 'pressure_in': 30.1, 'precip_mm': 0.0, 'precip_in': 0.0, 'humidity': 40, 'cloud': 0, 'feelslike_c': 3.9, 'feelslike_f': 39.0, 'windchill_c': 0.1, 'windchill_f': 32.3, 'heatindex_c': 3.3, 'heatindex_f': 38.0, 'dewpoint_c': -5.6, 'dewpoint_f': 21.9, 'vis_km': 16.0, 'vis_miles': 9.0, 'uv': 3.2, 'gust_mph': 11.1, 'gust_kph': 17.9}, 'forecast': {'forecastday': [{'date': '2025-02-23', 'date_epoch': 1740268800, 'day': {'maxtemp_c': 8.3, 'maxtemp_f': 46.9, 'mintemp_c': -2.9, 'mintemp_f': 26.8, 'avgtemp_c': 1.5, 'avgtemp_f': 34.7, 'maxwind_mph': 9.2, 'maxwind_kph': 14.8, 'totalprecip_mm': 0.0, 'totalprecip_in': 0.0, 'totalsnow_cm': 0.0, 'avgvis_km': 10.0, 'avgvis_miles': 6.0, 'avghumidity': 65, 'daily_will_it_rain': 0, 'daily_chance_of_rain': 0, 'daily_will_it_snow': 0, 'daily_chance_of_snow': 0, 'condition': {'text': 'Partly Cloudy ', 'icon': '//cdn.weatherapi.com/weather/64x64/day/116.png', 'code': 1003}, 'uv': 0.7}, 'hour': [{'time_epoch': 1740286800, 'time': '2025-02-23 00:00', 'temp_c': -1.7, 'temp_f': 29.0, 'is_day': 0, 'condition': {'text': 'Clear ', 'icon': '//cdn.weatherapi.com/weather/64x64/night/113.png', 'code': 1000}, 'wind_mph': 7.4, 'wind_kph': 11.9, 'wind_degree': 239, 'wind_dir': 'WSW', 'pressure_mb': 1022.0, 'pressure_in': 30.19, 'precip_mm': 0.0, 'precip_in': 0.0, 'snow_cm': 0.0, 'humidity': 73, 'cloud': 13, 'feelslike_c': -6.5, 'feelslike_f': 20.3, 'windchill_c': -6.5, 'windchill_f': 20.3, 'heatindex_c': -1.7, 'heatindex_f': 29.0, 'dewpoint_c': -6.0, 'dewpoint_f': 21.2, 'will_it_rain': 0, 'chance_of_rain': 0, 'will_it_snow': 0, 'chance_of_snow': 0, 'vis_km': 10.0, 'vis_miles': 6.0, 'gust_mph': 12.8, 'gust_kph': 20.6, 'uv': 0}, {'time_epoch': 1740369600, 'time': '2025-02-23 23:00', 'temp_c': 2.4, 'temp_f': 36.3, 'is_day': 0, 'condition': {'text': 'Overcast ', 'icon': '//cdn.weatherapi.com/weather/64x64/night/122.png', 'code': 1009}, 'wind_mph': 3.1, 'wind_kph': 5.0, 'wind_degree': 277, 'wind_dir': 'W', 'pressure_mb': 1020.0, 'pressure_in': 30.13, 'precip_mm': 0.0, 'precip_in': 0.0, 'snow_cm': 0.0, 'humidity': 67, 'cloud': 100, 'feelslike_c': 0.3, 'feelslike_f': 32.5, 'windchill_c': 0.3, 'windchill_f': 32.5, 'heatindex_c': 2.4, 'heatindex_f': 36.3, 'dewpoint_c': -3.0, 'dewpoint_f': 26.5, 'will_it_rain': 0, 'chance_of_rain': 0, 'will_it_snow': 0, 'chance_of_snow': 0, 'vis_km': 10.0, 'vis_miles': 6.0, 'gust_mph': 6.2, 'gust_kph': 9.9, 'uv': 0}]}]}}\n"
          ]
        }
      ],
      "source": [
        "# import json\n",
        "\n",
        "# with open(\"/home/tanvi/Documents/GitRepo/automatic-system/etl/data/weather.json\", \"r\") as opfile:\n",
        "#     data = json.load(opfile)\n",
        "\n",
        "# print(data)\n",
        "\n",
        "# with open(\"/home/tanvi/Documents/GitRepo/automatic-system/etl/data/weather_new.json\", \"w\") as f:\n",
        "#     for record in data:\n",
        "#         f.write(json.dumps(record) + \"\\n\")  # ✅ Writes each object on a new line.\n"
      ]
    },
    {
      "cell_type": "code",
      "execution_count": 21,
      "metadata": {
        "id": "OdX_QcS7F9om"
      },
      "outputs": [],
      "source": [
        "# df = spark.read.option(\"multiLine\", True).json(\"/content/weather_20250224.json\")"
      ]
    },
    {
      "cell_type": "code",
      "execution_count": 23,
      "metadata": {
        "id": "FFIiFsTmF9om",
        "outputId": "71a76fb5-c90d-494c-da15-9a37901dc655",
        "colab": {
          "base_uri": "https://localhost:8080/"
        }
      },
      "outputs": [
        {
          "output_type": "stream",
          "name": "stdout",
          "text": [
            "root\n",
            " |-- current: struct (nullable = true)\n",
            " |    |-- cloud: long (nullable = true)\n",
            " |    |-- condition: struct (nullable = true)\n",
            " |    |    |-- code: long (nullable = true)\n",
            " |    |    |-- icon: string (nullable = true)\n",
            " |    |    |-- text: string (nullable = true)\n",
            " |    |-- dewpoint_c: double (nullable = true)\n",
            " |    |-- dewpoint_f: double (nullable = true)\n",
            " |    |-- feelslike_c: double (nullable = true)\n",
            " |    |-- feelslike_f: double (nullable = true)\n",
            " |    |-- gust_kph: double (nullable = true)\n",
            " |    |-- gust_mph: double (nullable = true)\n",
            " |    |-- heatindex_c: double (nullable = true)\n",
            " |    |-- heatindex_f: double (nullable = true)\n",
            " |    |-- humidity: long (nullable = true)\n",
            " |    |-- is_day: long (nullable = true)\n",
            " |    |-- last_updated: string (nullable = true)\n",
            " |    |-- last_updated_epoch: long (nullable = true)\n",
            " |    |-- precip_in: double (nullable = true)\n",
            " |    |-- precip_mm: double (nullable = true)\n",
            " |    |-- pressure_in: double (nullable = true)\n",
            " |    |-- pressure_mb: double (nullable = true)\n",
            " |    |-- temp_c: double (nullable = true)\n",
            " |    |-- temp_f: double (nullable = true)\n",
            " |    |-- uv: double (nullable = true)\n",
            " |    |-- vis_km: double (nullable = true)\n",
            " |    |-- vis_miles: double (nullable = true)\n",
            " |    |-- wind_degree: long (nullable = true)\n",
            " |    |-- wind_dir: string (nullable = true)\n",
            " |    |-- wind_kph: double (nullable = true)\n",
            " |    |-- wind_mph: double (nullable = true)\n",
            " |    |-- windchill_c: double (nullable = true)\n",
            " |    |-- windchill_f: double (nullable = true)\n",
            " |-- forecast: struct (nullable = true)\n",
            " |    |-- forecastday: array (nullable = true)\n",
            " |    |    |-- element: struct (containsNull = true)\n",
            " |    |    |    |-- astro: struct (nullable = true)\n",
            " |    |    |    |    |-- is_moon_up: long (nullable = true)\n",
            " |    |    |    |    |-- is_sun_up: long (nullable = true)\n",
            " |    |    |    |    |-- moon_illumination: long (nullable = true)\n",
            " |    |    |    |    |-- moon_phase: string (nullable = true)\n",
            " |    |    |    |    |-- moonrise: string (nullable = true)\n",
            " |    |    |    |    |-- moonset: string (nullable = true)\n",
            " |    |    |    |    |-- sunrise: string (nullable = true)\n",
            " |    |    |    |    |-- sunset: string (nullable = true)\n",
            " |    |    |    |-- date: string (nullable = true)\n",
            " |    |    |    |-- date_epoch: long (nullable = true)\n",
            " |    |    |    |-- day: struct (nullable = true)\n",
            " |    |    |    |    |-- avghumidity: long (nullable = true)\n",
            " |    |    |    |    |-- avgtemp_c: double (nullable = true)\n",
            " |    |    |    |    |-- avgtemp_f: double (nullable = true)\n",
            " |    |    |    |    |-- avgvis_km: double (nullable = true)\n",
            " |    |    |    |    |-- avgvis_miles: double (nullable = true)\n",
            " |    |    |    |    |-- condition: struct (nullable = true)\n",
            " |    |    |    |    |    |-- code: long (nullable = true)\n",
            " |    |    |    |    |    |-- icon: string (nullable = true)\n",
            " |    |    |    |    |    |-- text: string (nullable = true)\n",
            " |    |    |    |    |-- daily_chance_of_rain: long (nullable = true)\n",
            " |    |    |    |    |-- daily_chance_of_snow: long (nullable = true)\n",
            " |    |    |    |    |-- daily_will_it_rain: long (nullable = true)\n",
            " |    |    |    |    |-- daily_will_it_snow: long (nullable = true)\n",
            " |    |    |    |    |-- maxtemp_c: double (nullable = true)\n",
            " |    |    |    |    |-- maxtemp_f: double (nullable = true)\n",
            " |    |    |    |    |-- maxwind_kph: double (nullable = true)\n",
            " |    |    |    |    |-- maxwind_mph: double (nullable = true)\n",
            " |    |    |    |    |-- mintemp_c: double (nullable = true)\n",
            " |    |    |    |    |-- mintemp_f: double (nullable = true)\n",
            " |    |    |    |    |-- totalprecip_in: double (nullable = true)\n",
            " |    |    |    |    |-- totalprecip_mm: double (nullable = true)\n",
            " |    |    |    |    |-- totalsnow_cm: double (nullable = true)\n",
            " |    |    |    |    |-- uv: double (nullable = true)\n",
            " |    |    |    |-- hour: array (nullable = true)\n",
            " |    |    |    |    |-- element: struct (containsNull = true)\n",
            " |    |    |    |    |    |-- chance_of_rain: long (nullable = true)\n",
            " |    |    |    |    |    |-- chance_of_snow: long (nullable = true)\n",
            " |    |    |    |    |    |-- cloud: long (nullable = true)\n",
            " |    |    |    |    |    |-- condition: struct (nullable = true)\n",
            " |    |    |    |    |    |    |-- code: long (nullable = true)\n",
            " |    |    |    |    |    |    |-- icon: string (nullable = true)\n",
            " |    |    |    |    |    |    |-- text: string (nullable = true)\n",
            " |    |    |    |    |    |-- dewpoint_c: double (nullable = true)\n",
            " |    |    |    |    |    |-- dewpoint_f: double (nullable = true)\n",
            " |    |    |    |    |    |-- feelslike_c: double (nullable = true)\n",
            " |    |    |    |    |    |-- feelslike_f: double (nullable = true)\n",
            " |    |    |    |    |    |-- gust_kph: double (nullable = true)\n",
            " |    |    |    |    |    |-- gust_mph: double (nullable = true)\n",
            " |    |    |    |    |    |-- heatindex_c: double (nullable = true)\n",
            " |    |    |    |    |    |-- heatindex_f: double (nullable = true)\n",
            " |    |    |    |    |    |-- humidity: long (nullable = true)\n",
            " |    |    |    |    |    |-- is_day: long (nullable = true)\n",
            " |    |    |    |    |    |-- precip_in: double (nullable = true)\n",
            " |    |    |    |    |    |-- precip_mm: double (nullable = true)\n",
            " |    |    |    |    |    |-- pressure_in: double (nullable = true)\n",
            " |    |    |    |    |    |-- pressure_mb: double (nullable = true)\n",
            " |    |    |    |    |    |-- snow_cm: double (nullable = true)\n",
            " |    |    |    |    |    |-- temp_c: double (nullable = true)\n",
            " |    |    |    |    |    |-- temp_f: double (nullable = true)\n",
            " |    |    |    |    |    |-- time: string (nullable = true)\n",
            " |    |    |    |    |    |-- time_epoch: long (nullable = true)\n",
            " |    |    |    |    |    |-- uv: double (nullable = true)\n",
            " |    |    |    |    |    |-- vis_km: double (nullable = true)\n",
            " |    |    |    |    |    |-- vis_miles: double (nullable = true)\n",
            " |    |    |    |    |    |-- will_it_rain: long (nullable = true)\n",
            " |    |    |    |    |    |-- will_it_snow: long (nullable = true)\n",
            " |    |    |    |    |    |-- wind_degree: long (nullable = true)\n",
            " |    |    |    |    |    |-- wind_dir: string (nullable = true)\n",
            " |    |    |    |    |    |-- wind_kph: double (nullable = true)\n",
            " |    |    |    |    |    |-- wind_mph: double (nullable = true)\n",
            " |    |    |    |    |    |-- windchill_c: double (nullable = true)\n",
            " |    |    |    |    |    |-- windchill_f: double (nullable = true)\n",
            " |-- location: struct (nullable = true)\n",
            " |    |-- country: string (nullable = true)\n",
            " |    |-- lat: double (nullable = true)\n",
            " |    |-- localtime: string (nullable = true)\n",
            " |    |-- localtime_epoch: long (nullable = true)\n",
            " |    |-- lon: double (nullable = true)\n",
            " |    |-- name: string (nullable = true)\n",
            " |    |-- region: string (nullable = true)\n",
            " |    |-- tz_id: string (nullable = true)\n",
            "\n",
            "+--------------------+--------------------+--------------------+\n",
            "|             current|            forecast|            location|\n",
            "+--------------------+--------------------+--------------------+\n",
            "|{0, {1000, //cdn....|{[{{0, 0, 19, Wan...|{USA, 40.5527, 20...|\n",
            "+--------------------+--------------------+--------------------+\n",
            "\n"
          ]
        }
      ],
      "source": [
        "# df.printSchema()\n",
        "# df.show()"
      ]
    },
    {
      "cell_type": "code",
      "execution_count": null,
      "metadata": {
        "id": "DcYV9E6jF9on",
        "outputId": "590f4612-3d07-4aae-ba1e-43e3ba95a58d"
      },
      "outputs": [
        {
          "name": "stdout",
          "output_type": "stream",
          "text": [
            "-rwxrwxrwx 1 tanvi tanvi 2971 Mar 12 19:29 /home/tanvi/Documents/GitRepo/automatic-system/etl/data/weather_deindent.json\n"
          ]
        }
      ],
      "source": [
        "# !ls -ltr /home/tanvi/Documents/GitRepo/automatic-system/etl/data/weather_deindent.json\n",
        "#!chmod 777 /home/tanvi/Documents/GitRepo/automatic-system/etl/data/weather.json\n",
        "#cat /home/tanvi/Documents/GitRepo/automatic-system/etl/data/weather.json | python -m json.tools"
      ]
    },
    {
      "cell_type": "code",
      "execution_count": 24,
      "metadata": {
        "id": "C8KSuiMrF9on",
        "outputId": "d2b7dcda-2ab7-48f4-820a-092cf89b4e94",
        "colab": {
          "base_uri": "https://localhost:8080/"
        }
      },
      "outputs": [
        {
          "output_type": "stream",
          "name": "stdout",
          "text": [
            "+--------------------+--------------------+--------------------+\n",
            "|             current|            forecast|            location|\n",
            "+--------------------+--------------------+--------------------+\n",
            "|{0, {1000, //cdn....|{[{{0, 0, 19, Wan...|{USA, 40.5527, 20...|\n",
            "+--------------------+--------------------+--------------------+\n",
            "\n"
          ]
        }
      ],
      "source": [
        "# from pyspark.sql import SparkSession\n",
        "# from pyspark.sql.functions import *  # Optional: to use SQL functions like col(), lit(), etc.\n",
        "\n",
        "# df.show()\n",
        "\n",
        "# df.createOrReplaceTempView(\"weather_json\")\n",
        "# query = \"SELECT * FROM weather_json\"\n",
        "# result = spark.sql(query)\n"
      ]
    },
    {
      "cell_type": "code",
      "execution_count": 25,
      "metadata": {
        "id": "vxPlSKSEF9on"
      },
      "outputs": [],
      "source": [
        "# from pyspark.sql import SparkSession\n",
        "# from pyspark.sql.functions import get_json_object, col\n",
        "\n",
        "# result = df.select( \"location\"\n",
        "    # get_json_object(\"location\", \"$.name\").alias(\"name\")\n",
        "    # )\n",
        "\n",
        "# result.show(truncate=False)\n",
        "\n",
        "# newdf = df.select(\"location\", \"current\")\n",
        "\n",
        "# result.show(5)"
      ]
    },
    {
      "cell_type": "code",
      "execution_count": null,
      "metadata": {
        "id": "OekRv_jSF9oo",
        "outputId": "dd17a700-df49-4869-f65a-4669db2d57dc"
      },
      "outputs": [
        {
          "name": "stdout",
          "output_type": "stream",
          "text": [
            "+---+--------------------+\n",
            "| id|           json_data|\n",
            "+---+--------------------+\n",
            "|  1|{\"name\": \"John\", ...|\n",
            "|  2|{\"name\": \"Jane\", ...|\n",
            "+---+--------------------+\n",
            "\n"
          ]
        }
      ],
      "source": [
        "\n",
        "# data = [\n",
        "#     (\"1\", \"\"\"{\"name\": \"John\", \"age\": 30, \"address\": {\"city\": \"New York\", \"zip\": \"10001\"}, \"phones\": [{\"type\": \"home\", \"number\": \"212-555-1234\"}, {\"type\": \"work\", \"number\": \"646-555-5678\"}]}\"\"\"),\n",
        "#     (\"2\", \"\"\"{\"name\": \"Jane\", \"age\": 25, \"address\": {\"city\": \"Boston\", \"zip\": \"02108\"}, \"phones\": [{\"type\": \"mobile\", \"number\": \"617-555-4321\"}]}\"\"\")\n",
        "# ]\n",
        "\n",
        "# samdf = spark.createDataFrame(data, [\"id\", \"json_data\"])\n",
        "\n",
        "# # Extract various fields\n",
        "# result = samdf.select(\n",
        "#     \"id\",\n",
        "#     get_json_object(\"json_data\", \"$.name\").alias(\"name\"),\n",
        "#     get_json_object(\"json_data\", \"$.age\").alias(\"age\"),\n",
        "#     get_json_object(\"json_data\", \"$.address.city\").alias(\"city\"),\n",
        "#     get_json_object(\"json_data\", \"$.phones[0].number\").alias(\"first_phone\")\n",
        "# )\n",
        "\n",
        "# # result.show(truncate=False)\n",
        "# samdf.show()"
      ]
    },
    {
      "cell_type": "code",
      "source": [
        "import requests\n",
        "api_dict = {\n",
        "\"API_KEY\": \"c2fe5ebd74734989a33163320252302\",\n",
        "\"BASE_URL\": \"http://api.weatherapi.com/v1/forecast.json\",\n",
        "}\n",
        "\n",
        "params= {\"key\":api_dict[\"API_KEY\"], \"q\": \"08854\", \"days\": \"1\", \"aqi\": \"no\", \"alerts\": \"no\"}\n",
        "response = requests.get(api_dict[\"BASE_URL\"], params=params)\n",
        "weather_data = response.json()\n",
        "print(weather_data)"
      ],
      "metadata": {
        "id": "LNUA7zJcaO5G",
        "outputId": "670cc32d-e2f6-466a-d475-211a339729a1",
        "colab": {
          "base_uri": "https://localhost:8080/"
        }
      },
      "execution_count": 6,
      "outputs": [
        {
          "output_type": "stream",
          "name": "stdout",
          "text": [
            "{'location': {'name': 'Piscataway', 'region': 'New Jersey', 'country': 'USA', 'lat': 40.5514984130859, 'lon': -74.4589996337891, 'tz_id': 'America/New_York', 'localtime_epoch': 1741991645, 'localtime': '2025-03-14 18:34'}, 'current': {'last_updated_epoch': 1741991400, 'last_updated': '2025-03-14 18:30', 'temp_c': 13.3, 'temp_f': 55.9, 'is_day': 1, 'condition': {'text': 'Sunny', 'icon': '//cdn.weatherapi.com/weather/64x64/day/113.png', 'code': 1000}, 'wind_mph': 7.4, 'wind_kph': 11.9, 'wind_degree': 120, 'wind_dir': 'ESE', 'pressure_mb': 1019.0, 'pressure_in': 30.09, 'precip_mm': 0.0, 'precip_in': 0.0, 'humidity': 60, 'cloud': 0, 'feelslike_c': 12.3, 'feelslike_f': 54.2, 'windchill_c': 8.3, 'windchill_f': 47.0, 'heatindex_c': 10.2, 'heatindex_f': 50.3, 'dewpoint_c': 7.2, 'dewpoint_f': 45.0, 'vis_km': 16.0, 'vis_miles': 9.0, 'uv': 0.2, 'gust_mph': 9.8, 'gust_kph': 15.8}, 'forecast': {'forecastday': [{'date': '2025-03-14', 'date_epoch': 1741910400, 'day': {'maxtemp_c': 12.9, 'maxtemp_f': 55.2, 'mintemp_c': 3.8, 'mintemp_f': 38.8, 'avgtemp_c': 7.0, 'avgtemp_f': 44.5, 'maxwind_mph': 7.6, 'maxwind_kph': 12.2, 'totalprecip_mm': 0.0, 'totalprecip_in': 0.0, 'totalsnow_cm': 0.0, 'avgvis_km': 10.0, 'avgvis_miles': 6.0, 'avghumidity': 76, 'daily_will_it_rain': 0, 'daily_chance_of_rain': 0, 'daily_will_it_snow': 0, 'daily_chance_of_snow': 0, 'condition': {'text': 'Cloudy ', 'icon': '//cdn.weatherapi.com/weather/64x64/day/119.png', 'code': 1006}, 'uv': 1.0}, 'astro': {'sunrise': '07:11 AM', 'sunset': '07:04 PM', 'moonrise': '07:40 PM', 'moonset': '07:19 AM', 'moon_phase': 'Full Moon', 'moon_illumination': 100, 'is_moon_up': 1, 'is_sun_up': 0}, 'hour': [{'time_epoch': 1741924800, 'time': '2025-03-14 00:00', 'temp_c': 4.3, 'temp_f': 39.7, 'is_day': 0, 'condition': {'text': 'Overcast ', 'icon': '//cdn.weatherapi.com/weather/64x64/night/122.png', 'code': 1009}, 'wind_mph': 4.3, 'wind_kph': 6.8, 'wind_degree': 66, 'wind_dir': 'ENE', 'pressure_mb': 1020.0, 'pressure_in': 30.11, 'precip_mm': 0.0, 'precip_in': 0.0, 'snow_cm': 0.0, 'humidity': 75, 'cloud': 100, 'feelslike_c': 1.8, 'feelslike_f': 35.2, 'windchill_c': 1.8, 'windchill_f': 35.2, 'heatindex_c': 4.3, 'heatindex_f': 39.7, 'dewpoint_c': 0.3, 'dewpoint_f': 32.5, 'will_it_rain': 0, 'chance_of_rain': 0, 'will_it_snow': 0, 'chance_of_snow': 0, 'vis_km': 10.0, 'vis_miles': 6.0, 'gust_mph': 6.5, 'gust_kph': 10.4, 'uv': 0}, {'time_epoch': 1741928400, 'time': '2025-03-14 01:00', 'temp_c': 4.1, 'temp_f': 39.3, 'is_day': 0, 'condition': {'text': 'Overcast ', 'icon': '//cdn.weatherapi.com/weather/64x64/night/122.png', 'code': 1009}, 'wind_mph': 3.8, 'wind_kph': 6.1, 'wind_degree': 51, 'wind_dir': 'NE', 'pressure_mb': 1019.0, 'pressure_in': 30.1, 'precip_mm': 0.0, 'precip_in': 0.0, 'snow_cm': 0.0, 'humidity': 76, 'cloud': 100, 'feelslike_c': 1.6, 'feelslike_f': 34.8, 'windchill_c': 1.6, 'windchill_f': 34.8, 'heatindex_c': 4.1, 'heatindex_f': 39.3, 'dewpoint_c': 0.2, 'dewpoint_f': 32.3, 'will_it_rain': 0, 'chance_of_rain': 0, 'will_it_snow': 0, 'chance_of_snow': 0, 'vis_km': 10.0, 'vis_miles': 6.0, 'gust_mph': 6.1, 'gust_kph': 9.8, 'uv': 0}, {'time_epoch': 1741932000, 'time': '2025-03-14 02:00', 'temp_c': 3.9, 'temp_f': 39.1, 'is_day': 0, 'condition': {'text': 'Overcast ', 'icon': '//cdn.weatherapi.com/weather/64x64/night/122.png', 'code': 1009}, 'wind_mph': 4.5, 'wind_kph': 7.2, 'wind_degree': 28, 'wind_dir': 'NNE', 'pressure_mb': 1019.0, 'pressure_in': 30.1, 'precip_mm': 0.0, 'precip_in': 0.0, 'snow_cm': 0.0, 'humidity': 77, 'cloud': 100, 'feelslike_c': 1.4, 'feelslike_f': 34.5, 'windchill_c': 1.4, 'windchill_f': 34.5, 'heatindex_c': 3.9, 'heatindex_f': 39.1, 'dewpoint_c': 0.2, 'dewpoint_f': 32.3, 'will_it_rain': 0, 'chance_of_rain': 0, 'will_it_snow': 0, 'chance_of_snow': 0, 'vis_km': 10.0, 'vis_miles': 6.0, 'gust_mph': 7.2, 'gust_kph': 11.6, 'uv': 0}, {'time_epoch': 1741935600, 'time': '2025-03-14 03:00', 'temp_c': 3.9, 'temp_f': 39.0, 'is_day': 0, 'condition': {'text': 'Overcast ', 'icon': '//cdn.weatherapi.com/weather/64x64/night/122.png', 'code': 1009}, 'wind_mph': 5.4, 'wind_kph': 8.6, 'wind_degree': 26, 'wind_dir': 'NNE', 'pressure_mb': 1019.0, 'pressure_in': 30.1, 'precip_mm': 0.0, 'precip_in': 0.0, 'snow_cm': 0.0, 'humidity': 78, 'cloud': 100, 'feelslike_c': 1.3, 'feelslike_f': 34.3, 'windchill_c': 1.3, 'windchill_f': 34.3, 'heatindex_c': 3.9, 'heatindex_f': 39.0, 'dewpoint_c': 0.3, 'dewpoint_f': 32.5, 'will_it_rain': 0, 'chance_of_rain': 0, 'will_it_snow': 0, 'chance_of_snow': 0, 'vis_km': 10.0, 'vis_miles': 6.0, 'gust_mph': 8.4, 'gust_kph': 13.5, 'uv': 0}, {'time_epoch': 1741939200, 'time': '2025-03-14 04:00', 'temp_c': 4.0, 'temp_f': 39.2, 'is_day': 0, 'condition': {'text': 'Overcast ', 'icon': '//cdn.weatherapi.com/weather/64x64/night/122.png', 'code': 1009}, 'wind_mph': 5.8, 'wind_kph': 9.4, 'wind_degree': 30, 'wind_dir': 'NNE', 'pressure_mb': 1020.0, 'pressure_in': 30.11, 'precip_mm': 0.0, 'precip_in': 0.0, 'snow_cm': 0.0, 'humidity': 78, 'cloud': 100, 'feelslike_c': 1.9, 'feelslike_f': 35.3, 'windchill_c': 1.9, 'windchill_f': 35.3, 'heatindex_c': 4.0, 'heatindex_f': 39.2, 'dewpoint_c': 0.3, 'dewpoint_f': 32.6, 'will_it_rain': 0, 'chance_of_rain': 0, 'will_it_snow': 0, 'chance_of_snow': 0, 'vis_km': 10.0, 'vis_miles': 6.0, 'gust_mph': 8.7, 'gust_kph': 14.1, 'uv': 0}, {'time_epoch': 1741942800, 'time': '2025-03-14 05:00', 'temp_c': 4.0, 'temp_f': 39.3, 'is_day': 0, 'condition': {'text': 'Cloudy ', 'icon': '//cdn.weatherapi.com/weather/64x64/night/119.png', 'code': 1006}, 'wind_mph': 4.5, 'wind_kph': 7.2, 'wind_degree': 25, 'wind_dir': 'NNE', 'pressure_mb': 1019.0, 'pressure_in': 30.1, 'precip_mm': 0.0, 'precip_in': 0.0, 'snow_cm': 0.0, 'humidity': 86, 'cloud': 73, 'feelslike_c': 2.1, 'feelslike_f': 35.8, 'windchill_c': 2.1, 'windchill_f': 35.8, 'heatindex_c': 4.0, 'heatindex_f': 39.3, 'dewpoint_c': 1.9, 'dewpoint_f': 35.5, 'will_it_rain': 0, 'chance_of_rain': 0, 'will_it_snow': 0, 'chance_of_snow': 0, 'vis_km': 10.0, 'vis_miles': 6.0, 'gust_mph': 7.0, 'gust_kph': 11.2, 'uv': 0}, {'time_epoch': 1741946400, 'time': '2025-03-14 06:00', 'temp_c': 4.0, 'temp_f': 39.2, 'is_day': 0, 'condition': {'text': 'Cloudy ', 'icon': '//cdn.weatherapi.com/weather/64x64/night/119.png', 'code': 1006}, 'wind_mph': 4.0, 'wind_kph': 6.5, 'wind_degree': 22, 'wind_dir': 'NNE', 'pressure_mb': 1020.0, 'pressure_in': 30.13, 'precip_mm': 0.0, 'precip_in': 0.0, 'snow_cm': 0.0, 'humidity': 85, 'cloud': 78, 'feelslike_c': 2.3, 'feelslike_f': 36.1, 'windchill_c': 2.3, 'windchill_f': 36.1, 'heatindex_c': 4.0, 'heatindex_f': 39.2, 'dewpoint_c': 1.8, 'dewpoint_f': 35.3, 'will_it_rain': 0, 'chance_of_rain': 0, 'will_it_snow': 0, 'chance_of_snow': 0, 'vis_km': 10.0, 'vis_miles': 6.0, 'gust_mph': 6.5, 'gust_kph': 10.4, 'uv': 0}, {'time_epoch': 1741950000, 'time': '2025-03-14 07:00', 'temp_c': 4.1, 'temp_f': 39.4, 'is_day': 0, 'condition': {'text': 'Cloudy ', 'icon': '//cdn.weatherapi.com/weather/64x64/night/119.png', 'code': 1006}, 'wind_mph': 3.8, 'wind_kph': 6.1, 'wind_degree': 26, 'wind_dir': 'NNE', 'pressure_mb': 1021.0, 'pressure_in': 30.14, 'precip_mm': 0.0, 'precip_in': 0.0, 'snow_cm': 0.0, 'humidity': 85, 'cloud': 81, 'feelslike_c': 2.4, 'feelslike_f': 36.3, 'windchill_c': 2.4, 'windchill_f': 36.3, 'heatindex_c': 4.1, 'heatindex_f': 39.4, 'dewpoint_c': 1.7, 'dewpoint_f': 35.0, 'will_it_rain': 0, 'chance_of_rain': 0, 'will_it_snow': 0, 'chance_of_snow': 0, 'vis_km': 10.0, 'vis_miles': 6.0, 'gust_mph': 6.3, 'gust_kph': 10.1, 'uv': 0}, {'time_epoch': 1741953600, 'time': '2025-03-14 08:00', 'temp_c': 4.5, 'temp_f': 40.1, 'is_day': 1, 'condition': {'text': 'Cloudy ', 'icon': '//cdn.weatherapi.com/weather/64x64/day/119.png', 'code': 1006}, 'wind_mph': 3.4, 'wind_kph': 5.4, 'wind_degree': 32, 'wind_dir': 'NNE', 'pressure_mb': 1021.0, 'pressure_in': 30.15, 'precip_mm': 0.0, 'precip_in': 0.0, 'snow_cm': 0.0, 'humidity': 83, 'cloud': 80, 'feelslike_c': 2.9, 'feelslike_f': 37.2, 'windchill_c': 2.9, 'windchill_f': 37.2, 'heatindex_c': 4.5, 'heatindex_f': 40.1, 'dewpoint_c': 1.5, 'dewpoint_f': 34.7, 'will_it_rain': 0, 'chance_of_rain': 0, 'will_it_snow': 0, 'chance_of_snow': 0, 'vis_km': 10.0, 'vis_miles': 6.0, 'gust_mph': 5.1, 'gust_kph': 8.3, 'uv': 0.2}, {'time_epoch': 1741957200, 'time': '2025-03-14 09:00', 'temp_c': 5.2, 'temp_f': 41.3, 'is_day': 1, 'condition': {'text': 'Cloudy ', 'icon': '//cdn.weatherapi.com/weather/64x64/day/119.png', 'code': 1006}, 'wind_mph': 4.5, 'wind_kph': 7.2, 'wind_degree': 51, 'wind_dir': 'NE', 'pressure_mb': 1022.0, 'pressure_in': 30.18, 'precip_mm': 0.0, 'precip_in': 0.0, 'snow_cm': 0.0, 'humidity': 77, 'cloud': 74, 'feelslike_c': 3.6, 'feelslike_f': 38.5, 'windchill_c': 3.6, 'windchill_f': 38.5, 'heatindex_c': 5.2, 'heatindex_f': 41.3, 'dewpoint_c': 1.2, 'dewpoint_f': 34.2, 'will_it_rain': 0, 'chance_of_rain': 0, 'will_it_snow': 0, 'chance_of_snow': 0, 'vis_km': 10.0, 'vis_miles': 6.0, 'gust_mph': 5.8, 'gust_kph': 9.4, 'uv': 0.9}, {'time_epoch': 1741960800, 'time': '2025-03-14 10:00', 'temp_c': 6.2, 'temp_f': 43.2, 'is_day': 1, 'condition': {'text': 'Cloudy ', 'icon': '//cdn.weatherapi.com/weather/64x64/day/119.png', 'code': 1006}, 'wind_mph': 4.5, 'wind_kph': 7.2, 'wind_degree': 71, 'wind_dir': 'ENE', 'pressure_mb': 1022.0, 'pressure_in': 30.19, 'precip_mm': 0.0, 'precip_in': 0.0, 'snow_cm': 0.0, 'humidity': 71, 'cloud': 66, 'feelslike_c': 4.8, 'feelslike_f': 40.7, 'windchill_c': 4.8, 'windchill_f': 40.7, 'heatindex_c': 6.2, 'heatindex_f': 43.2, 'dewpoint_c': 1.0, 'dewpoint_f': 33.7, 'will_it_rain': 0, 'chance_of_rain': 0, 'will_it_snow': 0, 'chance_of_snow': 0, 'vis_km': 10.0, 'vis_miles': 6.0, 'gust_mph': 5.3, 'gust_kph': 8.5, 'uv': 1.9}, {'time_epoch': 1741964400, 'time': '2025-03-14 11:00', 'temp_c': 7.6, 'temp_f': 45.7, 'is_day': 1, 'condition': {'text': 'Partly Cloudy ', 'icon': '//cdn.weatherapi.com/weather/64x64/day/116.png', 'code': 1003}, 'wind_mph': 4.9, 'wind_kph': 7.9, 'wind_degree': 86, 'wind_dir': 'E', 'pressure_mb': 1022.0, 'pressure_in': 30.18, 'precip_mm': 0.0, 'precip_in': 0.0, 'snow_cm': 0.0, 'humidity': 66, 'cloud': 48, 'feelslike_c': 6.3, 'feelslike_f': 43.4, 'windchill_c': 6.3, 'windchill_f': 43.4, 'heatindex_c': 7.6, 'heatindex_f': 45.7, 'dewpoint_c': 1.4, 'dewpoint_f': 34.6, 'will_it_rain': 0, 'chance_of_rain': 0, 'will_it_snow': 0, 'chance_of_snow': 0, 'vis_km': 10.0, 'vis_miles': 6.0, 'gust_mph': 5.7, 'gust_kph': 9.1, 'uv': 3.2}, {'time_epoch': 1741968000, 'time': '2025-03-14 12:00', 'temp_c': 9.7, 'temp_f': 49.4, 'is_day': 1, 'condition': {'text': 'Sunny', 'icon': '//cdn.weatherapi.com/weather/64x64/day/113.png', 'code': 1000}, 'wind_mph': 5.6, 'wind_kph': 9.0, 'wind_degree': 92, 'wind_dir': 'E', 'pressure_mb': 1021.0, 'pressure_in': 30.16, 'precip_mm': 0.0, 'precip_in': 0.0, 'snow_cm': 0.0, 'humidity': 63, 'cloud': 22, 'feelslike_c': 8.7, 'feelslike_f': 47.6, 'windchill_c': 8.7, 'windchill_f': 47.6, 'heatindex_c': 9.7, 'heatindex_f': 49.4, 'dewpoint_c': 2.4, 'dewpoint_f': 36.3, 'will_it_rain': 0, 'chance_of_rain': 0, 'will_it_snow': 0, 'chance_of_snow': 0, 'vis_km': 10.0, 'vis_miles': 6.0, 'gust_mph': 6.4, 'gust_kph': 10.4, 'uv': 4.2}, {'time_epoch': 1741971600, 'time': '2025-03-14 13:00', 'temp_c': 11.2, 'temp_f': 52.2, 'is_day': 1, 'condition': {'text': 'Sunny', 'icon': '//cdn.weatherapi.com/weather/64x64/day/113.png', 'code': 1000}, 'wind_mph': 5.8, 'wind_kph': 9.4, 'wind_degree': 100, 'wind_dir': 'E', 'pressure_mb': 1021.0, 'pressure_in': 30.15, 'precip_mm': 0.0, 'precip_in': 0.0, 'snow_cm': 0.0, 'humidity': 61, 'cloud': 0, 'feelslike_c': 10.5, 'feelslike_f': 50.9, 'windchill_c': 10.5, 'windchill_f': 50.9, 'heatindex_c': 11.2, 'heatindex_f': 52.2, 'dewpoint_c': 4.5, 'dewpoint_f': 40.0, 'will_it_rain': 0, 'chance_of_rain': 0, 'will_it_snow': 0, 'chance_of_snow': 0, 'vis_km': 10.0, 'vis_miles': 6.0, 'gust_mph': 6.7, 'gust_kph': 10.8, 'uv': 4.6}, {'time_epoch': 1741975200, 'time': '2025-03-14 14:00', 'temp_c': 12.0, 'temp_f': 53.5, 'is_day': 1, 'condition': {'text': 'Sunny', 'icon': '//cdn.weatherapi.com/weather/64x64/day/113.png', 'code': 1000}, 'wind_mph': 5.4, 'wind_kph': 8.6, 'wind_degree': 110, 'wind_dir': 'ESE', 'pressure_mb': 1021.0, 'pressure_in': 30.14, 'precip_mm': 0.0, 'precip_in': 0.0, 'snow_cm': 0.0, 'humidity': 59, 'cloud': 0, 'feelslike_c': 11.1, 'feelslike_f': 52.1, 'windchill_c': 11.1, 'windchill_f': 52.1, 'heatindex_c': 12.0, 'heatindex_f': 53.5, 'dewpoint_c': 5.0, 'dewpoint_f': 40.9, 'will_it_rain': 0, 'chance_of_rain': 0, 'will_it_snow': 0, 'chance_of_snow': 0, 'vis_km': 10.0, 'vis_miles': 6.0, 'gust_mph': 6.2, 'gust_kph': 9.9, 'uv': 4.2}, {'time_epoch': 1741978800, 'time': '2025-03-14 15:00', 'temp_c': 12.2, 'temp_f': 53.9, 'is_day': 1, 'condition': {'text': 'Sunny', 'icon': '//cdn.weatherapi.com/weather/64x64/day/113.png', 'code': 1000}, 'wind_mph': 6.0, 'wind_kph': 9.7, 'wind_degree': 110, 'wind_dir': 'ESE', 'pressure_mb': 1020.0, 'pressure_in': 30.13, 'precip_mm': 0.0, 'precip_in': 0.0, 'snow_cm': 0.0, 'humidity': 58, 'cloud': 0, 'feelslike_c': 11.2, 'feelslike_f': 52.1, 'windchill_c': 11.2, 'windchill_f': 52.1, 'heatindex_c': 12.2, 'heatindex_f': 53.9, 'dewpoint_c': 4.7, 'dewpoint_f': 40.4, 'will_it_rain': 0, 'chance_of_rain': 0, 'will_it_snow': 0, 'chance_of_snow': 0, 'vis_km': 10.0, 'vis_miles': 6.0, 'gust_mph': 7.0, 'gust_kph': 11.2, 'uv': 3.2}, {'time_epoch': 1741982400, 'time': '2025-03-14 16:00', 'temp_c': 11.8, 'temp_f': 53.2, 'is_day': 1, 'condition': {'text': 'Sunny', 'icon': '//cdn.weatherapi.com/weather/64x64/day/113.png', 'code': 1000}, 'wind_mph': 6.3, 'wind_kph': 10.1, 'wind_degree': 114, 'wind_dir': 'ESE', 'pressure_mb': 1020.0, 'pressure_in': 30.11, 'precip_mm': 0.0, 'precip_in': 0.0, 'snow_cm': 0.0, 'humidity': 59, 'cloud': 0, 'feelslike_c': 10.5, 'feelslike_f': 50.9, 'windchill_c': 10.5, 'windchill_f': 50.9, 'heatindex_c': 11.8, 'heatindex_f': 53.2, 'dewpoint_c': 4.6, 'dewpoint_f': 40.3, 'will_it_rain': 0, 'chance_of_rain': 0, 'will_it_snow': 0, 'chance_of_snow': 0, 'vis_km': 10.0, 'vis_miles': 6.0, 'gust_mph': 7.2, 'gust_kph': 11.6, 'uv': 1.8}, {'time_epoch': 1741986000, 'time': '2025-03-14 17:00', 'temp_c': 12.3, 'temp_f': 54.2, 'is_day': 1, 'condition': {'text': 'Sunny', 'icon': '//cdn.weatherapi.com/weather/64x64/day/113.png', 'code': 1000}, 'wind_mph': 6.7, 'wind_kph': 10.8, 'wind_degree': 120, 'wind_dir': 'ESE', 'pressure_mb': 1020.0, 'pressure_in': 30.11, 'precip_mm': 0.0, 'precip_in': 0.0, 'snow_cm': 0.0, 'humidity': 62, 'cloud': 0, 'feelslike_c': 11.0, 'feelslike_f': 51.9, 'windchill_c': 11.0, 'windchill_f': 51.9, 'heatindex_c': 12.3, 'heatindex_f': 54.2, 'dewpoint_c': 4.4, 'dewpoint_f': 39.9, 'will_it_rain': 0, 'chance_of_rain': 0, 'will_it_snow': 0, 'chance_of_snow': 0, 'vis_km': 10.0, 'vis_miles': 6.0, 'gust_mph': 8.2, 'gust_kph': 13.2, 'uv': 0.8}, {'time_epoch': 1741989600, 'time': '2025-03-14 18:00', 'temp_c': 13.3, 'temp_f': 55.9, 'is_day': 1, 'condition': {'text': 'Sunny', 'icon': '//cdn.weatherapi.com/weather/64x64/day/113.png', 'code': 1000}, 'wind_mph': 7.4, 'wind_kph': 11.9, 'wind_degree': 120, 'wind_dir': 'ESE', 'pressure_mb': 1019.0, 'pressure_in': 30.09, 'precip_mm': 0.0, 'precip_in': 0.0, 'snow_cm': 0.0, 'humidity': 60, 'cloud': 0, 'feelslike_c': 8.3, 'feelslike_f': 47.0, 'windchill_c': 8.3, 'windchill_f': 47.0, 'heatindex_c': 10.2, 'heatindex_f': 50.3, 'dewpoint_c': 7.2, 'dewpoint_f': 45.0, 'will_it_rain': 0, 'chance_of_rain': 0, 'will_it_snow': 0, 'chance_of_snow': 0, 'vis_km': 16.0, 'vis_miles': 9.0, 'gust_mph': 9.8, 'gust_kph': 15.8, 'uv': 0.2}, {'time_epoch': 1741993200, 'time': '2025-03-14 19:00', 'temp_c': 8.4, 'temp_f': 47.1, 'is_day': 1, 'condition': {'text': 'Sunny', 'icon': '//cdn.weatherapi.com/weather/64x64/day/113.png', 'code': 1000}, 'wind_mph': 7.6, 'wind_kph': 12.2, 'wind_degree': 117, 'wind_dir': 'ESE', 'pressure_mb': 1021.0, 'pressure_in': 30.14, 'precip_mm': 0.0, 'precip_in': 0.0, 'snow_cm': 0.0, 'humidity': 79, 'cloud': 10, 'feelslike_c': 6.1, 'feelslike_f': 43.0, 'windchill_c': 6.1, 'windchill_f': 43.0, 'heatindex_c': 8.4, 'heatindex_f': 47.1, 'dewpoint_c': 4.6, 'dewpoint_f': 40.4, 'will_it_rain': 0, 'chance_of_rain': 0, 'will_it_snow': 0, 'chance_of_snow': 0, 'vis_km': 10.0, 'vis_miles': 6.0, 'gust_mph': 10.8, 'gust_kph': 17.4, 'uv': 0.0}, {'time_epoch': 1741996800, 'time': '2025-03-14 20:00', 'temp_c': 7.0, 'temp_f': 44.6, 'is_day': 0, 'condition': {'text': 'Partly Cloudy ', 'icon': '//cdn.weatherapi.com/weather/64x64/night/116.png', 'code': 1003}, 'wind_mph': 6.9, 'wind_kph': 11.2, 'wind_degree': 121, 'wind_dir': 'ESE', 'pressure_mb': 1021.0, 'pressure_in': 30.15, 'precip_mm': 0.0, 'precip_in': 0.0, 'snow_cm': 0.0, 'humidity': 87, 'cloud': 29, 'feelslike_c': 4.4, 'feelslike_f': 40.0, 'windchill_c': 4.4, 'windchill_f': 40.0, 'heatindex_c': 7.0, 'heatindex_f': 44.6, 'dewpoint_c': 4.6, 'dewpoint_f': 40.3, 'will_it_rain': 0, 'chance_of_rain': 0, 'will_it_snow': 0, 'chance_of_snow': 0, 'vis_km': 10.0, 'vis_miles': 6.0, 'gust_mph': 9.8, 'gust_kph': 15.7, 'uv': 0}, {'time_epoch': 1742000400, 'time': '2025-03-14 21:00', 'temp_c': 6.0, 'temp_f': 42.8, 'is_day': 0, 'condition': {'text': 'Cloudy ', 'icon': '//cdn.weatherapi.com/weather/64x64/night/119.png', 'code': 1006}, 'wind_mph': 6.0, 'wind_kph': 9.7, 'wind_degree': 124, 'wind_dir': 'SE', 'pressure_mb': 1021.0, 'pressure_in': 30.16, 'precip_mm': 0.0, 'precip_in': 0.0, 'snow_cm': 0.0, 'humidity': 92, 'cloud': 68, 'feelslike_c': 3.3, 'feelslike_f': 38.0, 'windchill_c': 3.3, 'windchill_f': 38.0, 'heatindex_c': 6.0, 'heatindex_f': 42.8, 'dewpoint_c': 4.4, 'dewpoint_f': 39.9, 'will_it_rain': 0, 'chance_of_rain': 0, 'will_it_snow': 0, 'chance_of_snow': 0, 'vis_km': 10.0, 'vis_miles': 6.0, 'gust_mph': 8.5, 'gust_kph': 13.8, 'uv': 0}, {'time_epoch': 1742004000, 'time': '2025-03-14 22:00', 'temp_c': 5.3, 'temp_f': 41.6, 'is_day': 0, 'condition': {'text': 'Mist', 'icon': '//cdn.weatherapi.com/weather/64x64/night/143.png', 'code': 1030}, 'wind_mph': 5.8, 'wind_kph': 9.4, 'wind_degree': 137, 'wind_dir': 'SE', 'pressure_mb': 1022.0, 'pressure_in': 30.17, 'precip_mm': 0.0, 'precip_in': 0.0, 'snow_cm': 0.0, 'humidity': 96, 'cloud': 97, 'feelslike_c': 2.7, 'feelslike_f': 36.9, 'windchill_c': 2.7, 'windchill_f': 36.9, 'heatindex_c': 5.3, 'heatindex_f': 41.6, 'dewpoint_c': 4.4, 'dewpoint_f': 39.9, 'will_it_rain': 0, 'chance_of_rain': 0, 'will_it_snow': 0, 'chance_of_snow': 0, 'vis_km': 10.0, 'vis_miles': 6.0, 'gust_mph': 8.3, 'gust_kph': 13.4, 'uv': 0}, {'time_epoch': 1742007600, 'time': '2025-03-14 23:00', 'temp_c': 4.9, 'temp_f': 40.8, 'is_day': 0, 'condition': {'text': 'Mist', 'icon': '//cdn.weatherapi.com/weather/64x64/night/143.png', 'code': 1030}, 'wind_mph': 4.9, 'wind_kph': 7.9, 'wind_degree': 144, 'wind_dir': 'SE', 'pressure_mb': 1021.0, 'pressure_in': 30.16, 'precip_mm': 0.0, 'precip_in': 0.0, 'snow_cm': 0.0, 'humidity': 96, 'cloud': 100, 'feelslike_c': 2.4, 'feelslike_f': 36.3, 'windchill_c': 2.4, 'windchill_f': 36.3, 'heatindex_c': 4.9, 'heatindex_f': 40.8, 'dewpoint_c': 4.2, 'dewpoint_f': 39.5, 'will_it_rain': 0, 'chance_of_rain': 0, 'will_it_snow': 0, 'chance_of_snow': 0, 'vis_km': 10.0, 'vis_miles': 6.0, 'gust_mph': 7.0, 'gust_kph': 11.2, 'uv': 0}]}]}}\n"
          ]
        }
      ]
    },
    {
      "cell_type": "code",
      "source": [
        "postgres_url = 'jdbc:postgresql://localhost:5432/postgres'\n",
        "\n",
        "postgres_properties = {\n",
        "    'user': 'postgres',\n",
        "    'password': 'myPassword',\n",
        "    'driver': 'org.postgresql.Driver'}\n",
        ""
      ],
      "metadata": {
        "id": "usN9qY8krEZ1"
      },
      "execution_count": 4,
      "outputs": []
    },
    {
      "cell_type": "code",
      "source": [
        "import uuid\n",
        "\n",
        "single_uuid = uuid.uuid4()"
      ],
      "metadata": {
        "id": "0eV4GJbavpdT"
      },
      "execution_count": 7,
      "outputs": []
    },
    {
      "cell_type": "code",
      "source": [
        "from pyspark.sql.functions import lit\n",
        "location_list = [weather_data['location']]\n",
        "df_l = spark.createDataFrame(location_list)\n",
        "df_l = df_l.withColumn(\"process_uuid\", lit(str(single_uuid)))\n",
        "df_l = df_l.withColumn(\"zipcode\", lit(\"08854\"))\n",
        "df_l.show()"
      ],
      "metadata": {
        "id": "SOPcHK8xb-2_",
        "outputId": "aec460f9-6f78-4831-d852-1f2be01a0fd8",
        "colab": {
          "base_uri": "https://localhost:8080/"
        }
      },
      "execution_count": 8,
      "outputs": [
        {
          "output_type": "stream",
          "name": "stdout",
          "text": [
            "+-------+----------------+----------------+---------------+-----------------+----------+----------+----------------+--------------------+-------+\n",
            "|country|             lat|       localtime|localtime_epoch|              lon|      name|    region|           tz_id|        process_uuid|zipcode|\n",
            "+-------+----------------+----------------+---------------+-----------------+----------+----------+----------------+--------------------+-------+\n",
            "|    USA|40.5514984130859|2025-03-14 18:34|     1741991645|-74.4589996337891|Piscataway|New Jersey|America/New_York|9529f561-7d21-4a1...|  08854|\n",
            "+-------+----------------+----------------+---------------+-----------------+----------+----------+----------------+--------------------+-------+\n",
            "\n"
          ]
        }
      ]
    },
    {
      "cell_type": "code",
      "source": [
        "df_l.select(\"name\",\"region\",\"country\",\"lat\",\"lon\",\"tz_id\",\"localtime_epoch\",\"localtime\",\"process_uuid\",\"zipcode\")\n",
        "df_l.write.jdbc(\n",
        "    url=postgres_url,\n",
        "    table=\"stage.location\",\n",
        "    mode=\"overwrite\",\n",
        "    properties=postgres_properties\n",
        ")"
      ],
      "metadata": {
        "id": "6HxTm7ectfO6",
        "outputId": "6d646ddd-0def-4cd5-9194-4e44297cbc58",
        "colab": {
          "base_uri": "https://localhost:8080/",
          "height": 1000
        }
      },
      "execution_count": 9,
      "outputs": [
        {
          "output_type": "error",
          "ename": "Py4JJavaError",
          "evalue": "An error occurred while calling o72.jdbc.\n: org.postgresql.util.PSQLException: Connection to localhost:5432 refused. Check that the hostname and port are correct and that the postmaster is accepting TCP/IP connections.\n\tat org.postgresql.core.v3.ConnectionFactoryImpl.openConnectionImpl(ConnectionFactoryImpl.java:303)\n\tat org.postgresql.core.ConnectionFactory.openConnection(ConnectionFactory.java:51)\n\tat org.postgresql.jdbc.PgConnection.<init>(PgConnection.java:225)\n\tat org.postgresql.Driver.makeConnection(Driver.java:465)\n\tat org.postgresql.Driver.connect(Driver.java:264)\n\tat org.apache.spark.sql.execution.datasources.jdbc.connection.BasicConnectionProvider.getConnection(BasicConnectionProvider.scala:49)\n\tat org.apache.spark.sql.execution.datasources.jdbc.connection.ConnectionProviderBase.create(ConnectionProvider.scala:102)\n\tat org.apache.spark.sql.jdbc.JdbcDialect.$anonfun$createConnectionFactory$1(JdbcDialects.scala:161)\n\tat org.apache.spark.sql.jdbc.JdbcDialect.$anonfun$createConnectionFactory$1$adapted(JdbcDialects.scala:157)\n\tat org.apache.spark.sql.execution.datasources.jdbc.JdbcRelationProvider.createRelation(JdbcRelationProvider.scala:50)\n\tat org.apache.spark.sql.execution.datasources.SaveIntoDataSourceCommand.run(SaveIntoDataSourceCommand.scala:48)\n\tat org.apache.spark.sql.execution.command.ExecutedCommandExec.sideEffectResult$lzycompute(commands.scala:75)\n\tat org.apache.spark.sql.execution.command.ExecutedCommandExec.sideEffectResult(commands.scala:73)\n\tat org.apache.spark.sql.execution.command.ExecutedCommandExec.executeCollect(commands.scala:84)\n\tat org.apache.spark.sql.execution.QueryExecution$$anonfun$eagerlyExecuteCommands$1.$anonfun$applyOrElse$1(QueryExecution.scala:107)\n\tat org.apache.spark.sql.execution.SQLExecution$.$anonfun$withNewExecutionId$6(SQLExecution.scala:125)\n\tat org.apache.spark.sql.execution.SQLExecution$.withSQLConfPropagated(SQLExecution.scala:201)\n\tat org.apache.spark.sql.execution.SQLExecution$.$anonfun$withNewExecutionId$1(SQLExecution.scala:108)\n\tat org.apache.spark.sql.SparkSession.withActive(SparkSession.scala:900)\n\tat org.apache.spark.sql.execution.SQLExecution$.withNewExecutionId(SQLExecution.scala:66)\n\tat org.apache.spark.sql.execution.QueryExecution$$anonfun$eagerlyExecuteCommands$1.applyOrElse(QueryExecution.scala:107)\n\tat org.apache.spark.sql.execution.QueryExecution$$anonfun$eagerlyExecuteCommands$1.applyOrElse(QueryExecution.scala:98)\n\tat org.apache.spark.sql.catalyst.trees.TreeNode.$anonfun$transformDownWithPruning$1(TreeNode.scala:461)\n\tat org.apache.spark.sql.catalyst.trees.CurrentOrigin$.withOrigin(origin.scala:76)\n\tat org.apache.spark.sql.catalyst.trees.TreeNode.transformDownWithPruning(TreeNode.scala:461)\n\tat org.apache.spark.sql.catalyst.plans.logical.LogicalPlan.org$apache$spark$sql$catalyst$plans$logical$AnalysisHelper$$super$transformDownWithPruning(LogicalPlan.scala:32)\n\tat org.apache.spark.sql.catalyst.plans.logical.AnalysisHelper.transformDownWithPruning(AnalysisHelper.scala:267)\n\tat org.apache.spark.sql.catalyst.plans.logical.AnalysisHelper.transformDownWithPruning$(AnalysisHelper.scala:263)\n\tat org.apache.spark.sql.catalyst.plans.logical.LogicalPlan.transformDownWithPruning(LogicalPlan.scala:32)\n\tat org.apache.spark.sql.catalyst.plans.logical.LogicalPlan.transformDownWithPruning(LogicalPlan.scala:32)\n\tat org.apache.spark.sql.catalyst.trees.TreeNode.transformDown(TreeNode.scala:437)\n\tat org.apache.spark.sql.execution.QueryExecution.eagerlyExecuteCommands(QueryExecution.scala:98)\n\tat org.apache.spark.sql.execution.QueryExecution.commandExecuted$lzycompute(QueryExecution.scala:85)\n\tat org.apache.spark.sql.execution.QueryExecution.commandExecuted(QueryExecution.scala:83)\n\tat org.apache.spark.sql.execution.QueryExecution.assertCommandExecuted(QueryExecution.scala:142)\n\tat org.apache.spark.sql.DataFrameWriter.runCommand(DataFrameWriter.scala:869)\n\tat org.apache.spark.sql.DataFrameWriter.saveToV1Source(DataFrameWriter.scala:391)\n\tat org.apache.spark.sql.DataFrameWriter.saveInternal(DataFrameWriter.scala:364)\n\tat org.apache.spark.sql.DataFrameWriter.save(DataFrameWriter.scala:251)\n\tat org.apache.spark.sql.DataFrameWriter.jdbc(DataFrameWriter.scala:766)\n\tat java.base/jdk.internal.reflect.NativeMethodAccessorImpl.invoke0(Native Method)\n\tat java.base/jdk.internal.reflect.NativeMethodAccessorImpl.invoke(NativeMethodAccessorImpl.java:62)\n\tat java.base/jdk.internal.reflect.DelegatingMethodAccessorImpl.invoke(DelegatingMethodAccessorImpl.java:43)\n\tat java.base/java.lang.reflect.Method.invoke(Method.java:566)\n\tat py4j.reflection.MethodInvoker.invoke(MethodInvoker.java:244)\n\tat py4j.reflection.ReflectionEngine.invoke(ReflectionEngine.java:374)\n\tat py4j.Gateway.invoke(Gateway.java:282)\n\tat py4j.commands.AbstractCommand.invokeMethod(AbstractCommand.java:132)\n\tat py4j.commands.CallCommand.execute(CallCommand.java:79)\n\tat py4j.ClientServerConnection.waitForCommands(ClientServerConnection.java:182)\n\tat py4j.ClientServerConnection.run(ClientServerConnection.java:106)\n\tat java.base/java.lang.Thread.run(Thread.java:829)\nCaused by: java.net.ConnectException: Connection refused (Connection refused)\n\tat java.base/java.net.PlainSocketImpl.socketConnect(Native Method)\n\tat java.base/java.net.AbstractPlainSocketImpl.doConnect(AbstractPlainSocketImpl.java:412)\n\tat java.base/java.net.AbstractPlainSocketImpl.connectToAddress(AbstractPlainSocketImpl.java:255)\n\tat java.base/java.net.AbstractPlainSocketImpl.connect(AbstractPlainSocketImpl.java:237)\n\tat java.base/java.net.SocksSocketImpl.connect(SocksSocketImpl.java:392)\n\tat java.base/java.net.Socket.connect(Socket.java:609)\n\tat org.postgresql.core.PGStream.createSocket(PGStream.java:231)\n\tat org.postgresql.core.PGStream.<init>(PGStream.java:95)\n\tat org.postgresql.core.v3.ConnectionFactoryImpl.tryConnect(ConnectionFactoryImpl.java:98)\n\tat org.postgresql.core.v3.ConnectionFactoryImpl.openConnectionImpl(ConnectionFactoryImpl.java:213)\n\t... 51 more\n",
          "traceback": [
            "\u001b[0;31m---------------------------------------------------------------------------\u001b[0m",
            "\u001b[0;31mPy4JJavaError\u001b[0m                             Traceback (most recent call last)",
            "\u001b[0;32m<ipython-input-9-04218a2d8cc5>\u001b[0m in \u001b[0;36m<cell line: 0>\u001b[0;34m()\u001b[0m\n\u001b[1;32m      1\u001b[0m \u001b[0mdf_l\u001b[0m\u001b[0;34m.\u001b[0m\u001b[0mselect\u001b[0m\u001b[0;34m(\u001b[0m\u001b[0;34m\"name\"\u001b[0m\u001b[0;34m,\u001b[0m\u001b[0;34m\"region\"\u001b[0m\u001b[0;34m,\u001b[0m\u001b[0;34m\"country\"\u001b[0m\u001b[0;34m,\u001b[0m\u001b[0;34m\"lat\"\u001b[0m\u001b[0;34m,\u001b[0m\u001b[0;34m\"lon\"\u001b[0m\u001b[0;34m,\u001b[0m\u001b[0;34m\"tz_id\"\u001b[0m\u001b[0;34m,\u001b[0m\u001b[0;34m\"localtime_epoch\"\u001b[0m\u001b[0;34m,\u001b[0m\u001b[0;34m\"localtime\"\u001b[0m\u001b[0;34m,\u001b[0m\u001b[0;34m\"process_uuid\"\u001b[0m\u001b[0;34m,\u001b[0m\u001b[0;34m\"zipcode\"\u001b[0m\u001b[0;34m)\u001b[0m\u001b[0;34m\u001b[0m\u001b[0;34m\u001b[0m\u001b[0m\n\u001b[0;32m----> 2\u001b[0;31m df_l.write.jdbc(\n\u001b[0m\u001b[1;32m      3\u001b[0m     \u001b[0murl\u001b[0m\u001b[0;34m=\u001b[0m\u001b[0mpostgres_url\u001b[0m\u001b[0;34m,\u001b[0m\u001b[0;34m\u001b[0m\u001b[0;34m\u001b[0m\u001b[0m\n\u001b[1;32m      4\u001b[0m     \u001b[0mtable\u001b[0m\u001b[0;34m=\u001b[0m\u001b[0;34m\"stage.location\"\u001b[0m\u001b[0;34m,\u001b[0m\u001b[0;34m\u001b[0m\u001b[0;34m\u001b[0m\u001b[0m\n\u001b[1;32m      5\u001b[0m     \u001b[0mmode\u001b[0m\u001b[0;34m=\u001b[0m\u001b[0;34m\"overwrite\"\u001b[0m\u001b[0;34m,\u001b[0m\u001b[0;34m\u001b[0m\u001b[0;34m\u001b[0m\u001b[0m\n",
            "\u001b[0;32m/usr/local/lib/python3.11/dist-packages/pyspark/sql/readwriter.py\u001b[0m in \u001b[0;36mjdbc\u001b[0;34m(self, url, table, mode, properties)\u001b[0m\n\u001b[1;32m   1982\u001b[0m         \u001b[0;32mfor\u001b[0m \u001b[0mk\u001b[0m \u001b[0;32min\u001b[0m \u001b[0mproperties\u001b[0m\u001b[0;34m:\u001b[0m\u001b[0;34m\u001b[0m\u001b[0;34m\u001b[0m\u001b[0m\n\u001b[1;32m   1983\u001b[0m             \u001b[0mjprop\u001b[0m\u001b[0;34m.\u001b[0m\u001b[0msetProperty\u001b[0m\u001b[0;34m(\u001b[0m\u001b[0mk\u001b[0m\u001b[0;34m,\u001b[0m \u001b[0mproperties\u001b[0m\u001b[0;34m[\u001b[0m\u001b[0mk\u001b[0m\u001b[0;34m]\u001b[0m\u001b[0;34m)\u001b[0m\u001b[0;34m\u001b[0m\u001b[0;34m\u001b[0m\u001b[0m\n\u001b[0;32m-> 1984\u001b[0;31m         \u001b[0mself\u001b[0m\u001b[0;34m.\u001b[0m\u001b[0mmode\u001b[0m\u001b[0;34m(\u001b[0m\u001b[0mmode\u001b[0m\u001b[0;34m)\u001b[0m\u001b[0;34m.\u001b[0m\u001b[0m_jwrite\u001b[0m\u001b[0;34m.\u001b[0m\u001b[0mjdbc\u001b[0m\u001b[0;34m(\u001b[0m\u001b[0murl\u001b[0m\u001b[0;34m,\u001b[0m \u001b[0mtable\u001b[0m\u001b[0;34m,\u001b[0m \u001b[0mjprop\u001b[0m\u001b[0;34m)\u001b[0m\u001b[0;34m\u001b[0m\u001b[0;34m\u001b[0m\u001b[0m\n\u001b[0m\u001b[1;32m   1985\u001b[0m \u001b[0;34m\u001b[0m\u001b[0m\n\u001b[1;32m   1986\u001b[0m \u001b[0;34m\u001b[0m\u001b[0m\n",
            "\u001b[0;32m/usr/local/lib/python3.11/dist-packages/py4j/java_gateway.py\u001b[0m in \u001b[0;36m__call__\u001b[0;34m(self, *args)\u001b[0m\n\u001b[1;32m   1320\u001b[0m \u001b[0;34m\u001b[0m\u001b[0m\n\u001b[1;32m   1321\u001b[0m         \u001b[0manswer\u001b[0m \u001b[0;34m=\u001b[0m \u001b[0mself\u001b[0m\u001b[0;34m.\u001b[0m\u001b[0mgateway_client\u001b[0m\u001b[0;34m.\u001b[0m\u001b[0msend_command\u001b[0m\u001b[0;34m(\u001b[0m\u001b[0mcommand\u001b[0m\u001b[0;34m)\u001b[0m\u001b[0;34m\u001b[0m\u001b[0;34m\u001b[0m\u001b[0m\n\u001b[0;32m-> 1322\u001b[0;31m         return_value = get_return_value(\n\u001b[0m\u001b[1;32m   1323\u001b[0m             answer, self.gateway_client, self.target_id, self.name)\n\u001b[1;32m   1324\u001b[0m \u001b[0;34m\u001b[0m\u001b[0m\n",
            "\u001b[0;32m/usr/local/lib/python3.11/dist-packages/pyspark/errors/exceptions/captured.py\u001b[0m in \u001b[0;36mdeco\u001b[0;34m(*a, **kw)\u001b[0m\n\u001b[1;32m    177\u001b[0m     \u001b[0;32mdef\u001b[0m \u001b[0mdeco\u001b[0m\u001b[0;34m(\u001b[0m\u001b[0;34m*\u001b[0m\u001b[0ma\u001b[0m\u001b[0;34m:\u001b[0m \u001b[0mAny\u001b[0m\u001b[0;34m,\u001b[0m \u001b[0;34m**\u001b[0m\u001b[0mkw\u001b[0m\u001b[0;34m:\u001b[0m \u001b[0mAny\u001b[0m\u001b[0;34m)\u001b[0m \u001b[0;34m->\u001b[0m \u001b[0mAny\u001b[0m\u001b[0;34m:\u001b[0m\u001b[0;34m\u001b[0m\u001b[0;34m\u001b[0m\u001b[0m\n\u001b[1;32m    178\u001b[0m         \u001b[0;32mtry\u001b[0m\u001b[0;34m:\u001b[0m\u001b[0;34m\u001b[0m\u001b[0;34m\u001b[0m\u001b[0m\n\u001b[0;32m--> 179\u001b[0;31m             \u001b[0;32mreturn\u001b[0m \u001b[0mf\u001b[0m\u001b[0;34m(\u001b[0m\u001b[0;34m*\u001b[0m\u001b[0ma\u001b[0m\u001b[0;34m,\u001b[0m \u001b[0;34m**\u001b[0m\u001b[0mkw\u001b[0m\u001b[0;34m)\u001b[0m\u001b[0;34m\u001b[0m\u001b[0;34m\u001b[0m\u001b[0m\n\u001b[0m\u001b[1;32m    180\u001b[0m         \u001b[0;32mexcept\u001b[0m \u001b[0mPy4JJavaError\u001b[0m \u001b[0;32mas\u001b[0m \u001b[0me\u001b[0m\u001b[0;34m:\u001b[0m\u001b[0;34m\u001b[0m\u001b[0;34m\u001b[0m\u001b[0m\n\u001b[1;32m    181\u001b[0m             \u001b[0mconverted\u001b[0m \u001b[0;34m=\u001b[0m \u001b[0mconvert_exception\u001b[0m\u001b[0;34m(\u001b[0m\u001b[0me\u001b[0m\u001b[0;34m.\u001b[0m\u001b[0mjava_exception\u001b[0m\u001b[0;34m)\u001b[0m\u001b[0;34m\u001b[0m\u001b[0;34m\u001b[0m\u001b[0m\n",
            "\u001b[0;32m/usr/local/lib/python3.11/dist-packages/py4j/protocol.py\u001b[0m in \u001b[0;36mget_return_value\u001b[0;34m(answer, gateway_client, target_id, name)\u001b[0m\n\u001b[1;32m    324\u001b[0m             \u001b[0mvalue\u001b[0m \u001b[0;34m=\u001b[0m \u001b[0mOUTPUT_CONVERTER\u001b[0m\u001b[0;34m[\u001b[0m\u001b[0mtype\u001b[0m\u001b[0;34m]\u001b[0m\u001b[0;34m(\u001b[0m\u001b[0manswer\u001b[0m\u001b[0;34m[\u001b[0m\u001b[0;36m2\u001b[0m\u001b[0;34m:\u001b[0m\u001b[0;34m]\u001b[0m\u001b[0;34m,\u001b[0m \u001b[0mgateway_client\u001b[0m\u001b[0;34m)\u001b[0m\u001b[0;34m\u001b[0m\u001b[0;34m\u001b[0m\u001b[0m\n\u001b[1;32m    325\u001b[0m             \u001b[0;32mif\u001b[0m \u001b[0manswer\u001b[0m\u001b[0;34m[\u001b[0m\u001b[0;36m1\u001b[0m\u001b[0;34m]\u001b[0m \u001b[0;34m==\u001b[0m \u001b[0mREFERENCE_TYPE\u001b[0m\u001b[0;34m:\u001b[0m\u001b[0;34m\u001b[0m\u001b[0;34m\u001b[0m\u001b[0m\n\u001b[0;32m--> 326\u001b[0;31m                 raise Py4JJavaError(\n\u001b[0m\u001b[1;32m    327\u001b[0m                     \u001b[0;34m\"An error occurred while calling {0}{1}{2}.\\n\"\u001b[0m\u001b[0;34m.\u001b[0m\u001b[0;34m\u001b[0m\u001b[0;34m\u001b[0m\u001b[0m\n\u001b[1;32m    328\u001b[0m                     format(target_id, \".\", name), value)\n",
            "\u001b[0;31mPy4JJavaError\u001b[0m: An error occurred while calling o72.jdbc.\n: org.postgresql.util.PSQLException: Connection to localhost:5432 refused. Check that the hostname and port are correct and that the postmaster is accepting TCP/IP connections.\n\tat org.postgresql.core.v3.ConnectionFactoryImpl.openConnectionImpl(ConnectionFactoryImpl.java:303)\n\tat org.postgresql.core.ConnectionFactory.openConnection(ConnectionFactory.java:51)\n\tat org.postgresql.jdbc.PgConnection.<init>(PgConnection.java:225)\n\tat org.postgresql.Driver.makeConnection(Driver.java:465)\n\tat org.postgresql.Driver.connect(Driver.java:264)\n\tat org.apache.spark.sql.execution.datasources.jdbc.connection.BasicConnectionProvider.getConnection(BasicConnectionProvider.scala:49)\n\tat org.apache.spark.sql.execution.datasources.jdbc.connection.ConnectionProviderBase.create(ConnectionProvider.scala:102)\n\tat org.apache.spark.sql.jdbc.JdbcDialect.$anonfun$createConnectionFactory$1(JdbcDialects.scala:161)\n\tat org.apache.spark.sql.jdbc.JdbcDialect.$anonfun$createConnectionFactory$1$adapted(JdbcDialects.scala:157)\n\tat org.apache.spark.sql.execution.datasources.jdbc.JdbcRelationProvider.createRelation(JdbcRelationProvider.scala:50)\n\tat org.apache.spark.sql.execution.datasources.SaveIntoDataSourceCommand.run(SaveIntoDataSourceCommand.scala:48)\n\tat org.apache.spark.sql.execution.command.ExecutedCommandExec.sideEffectResult$lzycompute(commands.scala:75)\n\tat org.apache.spark.sql.execution.command.ExecutedCommandExec.sideEffectResult(commands.scala:73)\n\tat org.apache.spark.sql.execution.command.ExecutedCommandExec.executeCollect(commands.scala:84)\n\tat org.apache.spark.sql.execution.QueryExecution$$anonfun$eagerlyExecuteCommands$1.$anonfun$applyOrElse$1(QueryExecution.scala:107)\n\tat org.apache.spark.sql.execution.SQLExecution$.$anonfun$withNewExecutionId$6(SQLExecution.scala:125)\n\tat org.apache.spark.sql.execution.SQLExecution$.withSQLConfPropagated(SQLExecution.scala:201)\n\tat org.apache.spark.sql.execution.SQLExecution$.$anonfun$withNewExecutionId$1(SQLExecution.scala:108)\n\tat org.apache.spark.sql.SparkSession.withActive(SparkSession.scala:900)\n\tat org.apache.spark.sql.execution.SQLExecution$.withNewExecutionId(SQLExecution.scala:66)\n\tat org.apache.spark.sql.execution.QueryExecution$$anonfun$eagerlyExecuteCommands$1.applyOrElse(QueryExecution.scala:107)\n\tat org.apache.spark.sql.execution.QueryExecution$$anonfun$eagerlyExecuteCommands$1.applyOrElse(QueryExecution.scala:98)\n\tat org.apache.spark.sql.catalyst.trees.TreeNode.$anonfun$transformDownWithPruning$1(TreeNode.scala:461)\n\tat org.apache.spark.sql.catalyst.trees.CurrentOrigin$.withOrigin(origin.scala:76)\n\tat org.apache.spark.sql.catalyst.trees.TreeNode.transformDownWithPruning(TreeNode.scala:461)\n\tat org.apache.spark.sql.catalyst.plans.logical.LogicalPlan.org$apache$spark$sql$catalyst$plans$logical$AnalysisHelper$$super$transformDownWithPruning(LogicalPlan.scala:32)\n\tat org.apache.spark.sql.catalyst.plans.logical.AnalysisHelper.transformDownWithPruning(AnalysisHelper.scala:267)\n\tat org.apache.spark.sql.catalyst.plans.logical.AnalysisHelper.transformDownWithPruning$(AnalysisHelper.scala:263)\n\tat org.apache.spark.sql.catalyst.plans.logical.LogicalPlan.transformDownWithPruning(LogicalPlan.scala:32)\n\tat org.apache.spark.sql.catalyst.plans.logical.LogicalPlan.transformDownWithPruning(LogicalPlan.scala:32)\n\tat org.apache.spark.sql.catalyst.trees.TreeNode.transformDown(TreeNode.scala:437)\n\tat org.apache.spark.sql.execution.QueryExecution.eagerlyExecuteCommands(QueryExecution.scala:98)\n\tat org.apache.spark.sql.execution.QueryExecution.commandExecuted$lzycompute(QueryExecution.scala:85)\n\tat org.apache.spark.sql.execution.QueryExecution.commandExecuted(QueryExecution.scala:83)\n\tat org.apache.spark.sql.execution.QueryExecution.assertCommandExecuted(QueryExecution.scala:142)\n\tat org.apache.spark.sql.DataFrameWriter.runCommand(DataFrameWriter.scala:869)\n\tat org.apache.spark.sql.DataFrameWriter.saveToV1Source(DataFrameWriter.scala:391)\n\tat org.apache.spark.sql.DataFrameWriter.saveInternal(DataFrameWriter.scala:364)\n\tat org.apache.spark.sql.DataFrameWriter.save(DataFrameWriter.scala:251)\n\tat org.apache.spark.sql.DataFrameWriter.jdbc(DataFrameWriter.scala:766)\n\tat java.base/jdk.internal.reflect.NativeMethodAccessorImpl.invoke0(Native Method)\n\tat java.base/jdk.internal.reflect.NativeMethodAccessorImpl.invoke(NativeMethodAccessorImpl.java:62)\n\tat java.base/jdk.internal.reflect.DelegatingMethodAccessorImpl.invoke(DelegatingMethodAccessorImpl.java:43)\n\tat java.base/java.lang.reflect.Method.invoke(Method.java:566)\n\tat py4j.reflection.MethodInvoker.invoke(MethodInvoker.java:244)\n\tat py4j.reflection.ReflectionEngine.invoke(ReflectionEngine.java:374)\n\tat py4j.Gateway.invoke(Gateway.java:282)\n\tat py4j.commands.AbstractCommand.invokeMethod(AbstractCommand.java:132)\n\tat py4j.commands.CallCommand.execute(CallCommand.java:79)\n\tat py4j.ClientServerConnection.waitForCommands(ClientServerConnection.java:182)\n\tat py4j.ClientServerConnection.run(ClientServerConnection.java:106)\n\tat java.base/java.lang.Thread.run(Thread.java:829)\nCaused by: java.net.ConnectException: Connection refused (Connection refused)\n\tat java.base/java.net.PlainSocketImpl.socketConnect(Native Method)\n\tat java.base/java.net.AbstractPlainSocketImpl.doConnect(AbstractPlainSocketImpl.java:412)\n\tat java.base/java.net.AbstractPlainSocketImpl.connectToAddress(AbstractPlainSocketImpl.java:255)\n\tat java.base/java.net.AbstractPlainSocketImpl.connect(AbstractPlainSocketImpl.java:237)\n\tat java.base/java.net.SocksSocketImpl.connect(SocksSocketImpl.java:392)\n\tat java.base/java.net.Socket.connect(Socket.java:609)\n\tat org.postgresql.core.PGStream.createSocket(PGStream.java:231)\n\tat org.postgresql.core.PGStream.<init>(PGStream.java:95)\n\tat org.postgresql.core.v3.ConnectionFactoryImpl.tryConnect(ConnectionFactoryImpl.java:98)\n\tat org.postgresql.core.v3.ConnectionFactoryImpl.openConnectionImpl(ConnectionFactoryImpl.java:213)\n\t... 51 more\n"
          ]
        }
      ]
    },
    {
      "cell_type": "code",
      "source": [
        "currently_list = [weather_data['current']]\n",
        "df_c = spark.createDataFrame(currently_list)\n",
        "df_cf = df_c.selectExpr(\"cloud\",\"condition.text as condition_text\",\"condition.icon as condition_icon\",\"condition.code as condition_code\",\"dewpoint_c\",\"dewpoint_f\",\"feelslike_c\",\"feelslike_f\",\"gust_kph\",\"gust_mph\",\"heatindex_c\",\"heatindex_f\",\"humidity\",\"is_day\",\"last_updated\",\"last_updated_epoch\",\"precip_in\",\"precip_mm\",\"pressure_in\",\"pressure_mb\",\"temp_c\",\"temp_f\",\"uv\",\"vis_km\",\"vis_miles\",\"wind_degree\",\"wind_dir\",\"wind_kph\",\"wind_mph\",\"windchill_c\",\"windchill_f\")\n",
        "df_cf.show()"
      ],
      "metadata": {
        "id": "YcxbZpbGfpRE",
        "outputId": "445a90bb-8d03-4dd7-da82-cd71a0c55b67",
        "colab": {
          "base_uri": "https://localhost:8080/"
        }
      },
      "execution_count": 43,
      "outputs": [
        {
          "output_type": "stream",
          "name": "stdout",
          "text": [
            "+-----+--------------+--------------------+--------------+----------+----------+-----------+-----------+--------+--------+-----------+-----------+--------+------+----------------+------------------+---------+---------+-----------+-----------+------+------+---+------+---------+-----------+--------+--------+--------+-----------+-----------+\n",
            "|cloud|condition_text|      condition_icon|condition_code|dewpoint_c|dewpoint_f|feelslike_c|feelslike_f|gust_kph|gust_mph|heatindex_c|heatindex_f|humidity|is_day|    last_updated|last_updated_epoch|precip_in|precip_mm|pressure_in|pressure_mb|temp_c|temp_f| uv|vis_km|vis_miles|wind_degree|wind_dir|wind_kph|wind_mph|windchill_c|windchill_f|\n",
            "+-----+--------------+--------------------+--------------+----------+----------+-----------+-----------+--------+--------+-----------+-----------+--------+------+----------------+------------------+---------+---------+-----------+-----------+------+------+---+------+---------+-----------+--------+--------+--------+-----------+-----------+\n",
            "|    0|         Sunny|//cdn.weatherapi....|          1000|       4.4|      39.9|       15.6|       60.1|    13.2|     8.2|       12.3|       54.2|      47|     1|2025-03-14 17:00|        1741986000|      0.0|      0.0|      30.09|     1019.0|  15.6|  60.1|0.8|  16.0|      9.0|        120|     ESE|    10.8|     6.7|       11.0|       51.9|\n",
            "+-----+--------------+--------------------+--------------+----------+----------+-----------+-----------+--------+--------+-----------+-----------+--------+------+----------------+------------------+---------+---------+-----------+-----------+------+------+---+------+---------+-----------+--------+--------+--------+-----------+-----------+\n",
            "\n"
          ]
        }
      ]
    },
    {
      "cell_type": "code",
      "source": [
        "daily_list = [weather_data['forecast']['forecastday'][0]['day']]\n",
        "df_d = spark.createDataFrame(daily_list)\n",
        "df_df = df_d.selectExpr(\"avghumidity\",\"avgtemp_c\",\"avgtemp_f\",\"avgvis_km\",\"avgvis_miles\",\"condition.text as condition_text\",\"condition.icon as condition_icon\",\"condition.code as condition_code\",\"daily_chance_of_rain\",\"daily_chance_of_snow\",\"daily_will_it_rain\",\"daily_will_it_snow\",\"maxtemp_c\",\"maxtemp_f\",\"maxwind_kph\",\"maxwind_mph\",\"mintemp_c\",\"mintemp_f\",\"totalprecip_in\",\"totalprecip_mm\",\"totalsnow_cm\",\"uv\")\n",
        "df_df.show()"
      ],
      "metadata": {
        "id": "A1D0zj-rf9GP",
        "outputId": "edd9439c-6a46-41bd-d89d-722c2669c5ef",
        "colab": {
          "base_uri": "https://localhost:8080/"
        }
      },
      "execution_count": 44,
      "outputs": [
        {
          "output_type": "stream",
          "name": "stdout",
          "text": [
            "+-----------+---------+---------+---------+------------+--------------+--------------------+--------------+--------------------+--------------------+------------------+------------------+---------+---------+-----------+-----------+---------+---------+--------------+--------------+------------+---+\n",
            "|avghumidity|avgtemp_c|avgtemp_f|avgvis_km|avgvis_miles|condition_text|      condition_icon|condition_code|daily_chance_of_rain|daily_chance_of_snow|daily_will_it_rain|daily_will_it_snow|maxtemp_c|maxtemp_f|maxwind_kph|maxwind_mph|mintemp_c|mintemp_f|totalprecip_in|totalprecip_mm|totalsnow_cm| uv|\n",
            "+-----------+---------+---------+---------+------------+--------------+--------------------+--------------+--------------------+--------------------+------------------+------------------+---------+---------+-----------+-----------+---------+---------+--------------+--------------+------------+---+\n",
            "|         76|      7.0|     44.5|     10.0|         6.0|       Cloudy |//cdn.weatherapi....|          1006|                   0|                   0|                 0|                 0|     12.9|     55.2|       12.2|        7.6|      3.8|     38.8|           0.0|           0.0|         0.0|1.0|\n",
            "+-----------+---------+---------+---------+------------+--------------+--------------------+--------------+--------------------+--------------------+------------------+------------------+---------+---------+-----------+-----------+---------+---------+--------------+--------------+------------+---+\n",
            "\n"
          ]
        }
      ]
    },
    {
      "cell_type": "code",
      "source": [
        "hourly_list = weather_data['forecast']['forecastday'][0]['hour']\n",
        "df_h = spark.createDataFrame(hourly_list)\n",
        "df_hf = df_h.selectExpr(\"time_epoch\",\"time\",\"temp_c\",\"temp_f\",\"is_day\",\"wind_mph\",\"wind_kph\",\"wind_degree\",\"wind_dir\",\"pressure_mb\",\"pressure_in\",\"precip_mm\",\"precip_in\",\"snow_cm\",\"humidity\",\"cloud\",\"feelslike_c\",\"feelslike_f\",\"windchill_c\",\"windchill_f\",\"heatindex_c\",\"heatindex_f\",\"dewpoint_c\",\"dewpoint_f\",\"will_it_rain\",\"chance_of_rain\",\"will_it_snow\",\"chance_of_snow\",\"vis_km\",\"vis_miles\",\"gust_mph\",\"gust_kph\",\"uv\",\"condition.text as condition_text\",\"condition.icon as condition_icon\",\"condition.code as condition_code\")\n"
      ],
      "metadata": {
        "id": "-b-DuEWll7C0",
        "outputId": "fb03801a-c539-43b2-f12c-cc848f10ab0a",
        "colab": {
          "base_uri": "https://localhost:8080/",
          "height": 385
        }
      },
      "execution_count": 51,
      "outputs": [
        {
          "output_type": "error",
          "ename": "PySparkTypeError",
          "evalue": "[CANNOT_MERGE_TYPE] Can not merge type `LongType` and `DoubleType`.",
          "traceback": [
            "\u001b[0;31m---------------------------------------------------------------------------\u001b[0m",
            "\u001b[0;31mPySparkTypeError\u001b[0m                          Traceback (most recent call last)",
            "\u001b[0;32m<ipython-input-51-cacd98c65d33>\u001b[0m in \u001b[0;36m<cell line: 0>\u001b[0;34m()\u001b[0m\n\u001b[1;32m      1\u001b[0m \u001b[0mhourly_list\u001b[0m \u001b[0;34m=\u001b[0m \u001b[0mweather_data\u001b[0m\u001b[0;34m[\u001b[0m\u001b[0;34m'forecast'\u001b[0m\u001b[0;34m]\u001b[0m\u001b[0;34m[\u001b[0m\u001b[0;34m'forecastday'\u001b[0m\u001b[0;34m]\u001b[0m\u001b[0;34m[\u001b[0m\u001b[0;36m0\u001b[0m\u001b[0;34m]\u001b[0m\u001b[0;34m[\u001b[0m\u001b[0;34m'hour'\u001b[0m\u001b[0;34m]\u001b[0m\u001b[0;34m\u001b[0m\u001b[0;34m\u001b[0m\u001b[0m\n\u001b[0;32m----> 2\u001b[0;31m \u001b[0mdf_h\u001b[0m \u001b[0;34m=\u001b[0m \u001b[0mspark\u001b[0m\u001b[0;34m.\u001b[0m\u001b[0mcreateDataFrame\u001b[0m\u001b[0;34m(\u001b[0m\u001b[0mhourly_list\u001b[0m\u001b[0;34m)\u001b[0m\u001b[0;34m\u001b[0m\u001b[0;34m\u001b[0m\u001b[0m\n\u001b[0m\u001b[1;32m      3\u001b[0m \u001b[0mdf_hf\u001b[0m \u001b[0;34m=\u001b[0m \u001b[0mdf_h\u001b[0m\u001b[0;34m.\u001b[0m\u001b[0mselectExpr\u001b[0m\u001b[0;34m(\u001b[0m\u001b[0;34m\"time_epoch\"\u001b[0m\u001b[0;34m,\u001b[0m\u001b[0;34m\"time\"\u001b[0m\u001b[0;34m,\u001b[0m\u001b[0;34m\"temp_c\"\u001b[0m\u001b[0;34m,\u001b[0m\u001b[0;34m\"temp_f\"\u001b[0m\u001b[0;34m,\u001b[0m\u001b[0;34m\"is_day\"\u001b[0m\u001b[0;34m,\u001b[0m\u001b[0;34m\"wind_mph\"\u001b[0m\u001b[0;34m,\u001b[0m\u001b[0;34m\"wind_kph\"\u001b[0m\u001b[0;34m,\u001b[0m\u001b[0;34m\"wind_degree\"\u001b[0m\u001b[0;34m,\u001b[0m\u001b[0;34m\"wind_dir\"\u001b[0m\u001b[0;34m,\u001b[0m\u001b[0;34m\"pressure_mb\"\u001b[0m\u001b[0;34m,\u001b[0m\u001b[0;34m\"pressure_in\"\u001b[0m\u001b[0;34m,\u001b[0m\u001b[0;34m\"precip_mm\"\u001b[0m\u001b[0;34m,\u001b[0m\u001b[0;34m\"precip_in\"\u001b[0m\u001b[0;34m,\u001b[0m\u001b[0;34m\"snow_cm\"\u001b[0m\u001b[0;34m,\u001b[0m\u001b[0;34m\"humidity\"\u001b[0m\u001b[0;34m,\u001b[0m\u001b[0;34m\"cloud\"\u001b[0m\u001b[0;34m,\u001b[0m\u001b[0;34m\"feelslike_c\"\u001b[0m\u001b[0;34m,\u001b[0m\u001b[0;34m\"feelslike_f\"\u001b[0m\u001b[0;34m,\u001b[0m\u001b[0;34m\"windchill_c\"\u001b[0m\u001b[0;34m,\u001b[0m\u001b[0;34m\"windchill_f\"\u001b[0m\u001b[0;34m,\u001b[0m\u001b[0;34m\"heatindex_c\"\u001b[0m\u001b[0;34m,\u001b[0m\u001b[0;34m\"heatindex_f\"\u001b[0m\u001b[0;34m,\u001b[0m\u001b[0;34m\"dewpoint_c\"\u001b[0m\u001b[0;34m,\u001b[0m\u001b[0;34m\"dewpoint_f\"\u001b[0m\u001b[0;34m,\u001b[0m\u001b[0;34m\"will_it_rain\"\u001b[0m\u001b[0;34m,\u001b[0m\u001b[0;34m\"chance_of_rain\"\u001b[0m\u001b[0;34m,\u001b[0m\u001b[0;34m\"will_it_snow\"\u001b[0m\u001b[0;34m,\u001b[0m\u001b[0;34m\"chance_of_snow\"\u001b[0m\u001b[0;34m,\u001b[0m\u001b[0;34m\"vis_km\"\u001b[0m\u001b[0;34m,\u001b[0m\u001b[0;34m\"vis_miles\"\u001b[0m\u001b[0;34m,\u001b[0m\u001b[0;34m\"gust_mph\"\u001b[0m\u001b[0;34m,\u001b[0m\u001b[0;34m\"gust_kph\"\u001b[0m\u001b[0;34m,\u001b[0m\u001b[0;34m\"uv\"\u001b[0m\u001b[0;34m,\u001b[0m\u001b[0;34m\"condition.text as condition_text\"\u001b[0m\u001b[0;34m,\u001b[0m\u001b[0;34m\"condition.icon as condition_icon\"\u001b[0m\u001b[0;34m,\u001b[0m\u001b[0;34m\"condition.code as condition_code\"\u001b[0m\u001b[0;34m)\u001b[0m\u001b[0;34m\u001b[0m\u001b[0;34m\u001b[0m\u001b[0m\n",
            "\u001b[0;32m/usr/local/lib/python3.11/dist-packages/pyspark/sql/session.py\u001b[0m in \u001b[0;36mcreateDataFrame\u001b[0;34m(self, data, schema, samplingRatio, verifySchema)\u001b[0m\n\u001b[1;32m   1441\u001b[0m                 \u001b[0mdata\u001b[0m\u001b[0;34m,\u001b[0m \u001b[0mschema\u001b[0m\u001b[0;34m,\u001b[0m \u001b[0msamplingRatio\u001b[0m\u001b[0;34m,\u001b[0m \u001b[0mverifySchema\u001b[0m\u001b[0;34m\u001b[0m\u001b[0;34m\u001b[0m\u001b[0m\n\u001b[1;32m   1442\u001b[0m             )\n\u001b[0;32m-> 1443\u001b[0;31m         return self._create_dataframe(\n\u001b[0m\u001b[1;32m   1444\u001b[0m             \u001b[0mdata\u001b[0m\u001b[0;34m,\u001b[0m \u001b[0mschema\u001b[0m\u001b[0;34m,\u001b[0m \u001b[0msamplingRatio\u001b[0m\u001b[0;34m,\u001b[0m \u001b[0mverifySchema\u001b[0m  \u001b[0;31m# type: ignore[arg-type]\u001b[0m\u001b[0;34m\u001b[0m\u001b[0;34m\u001b[0m\u001b[0m\n\u001b[1;32m   1445\u001b[0m         )\n",
            "\u001b[0;32m/usr/local/lib/python3.11/dist-packages/pyspark/sql/session.py\u001b[0m in \u001b[0;36m_create_dataframe\u001b[0;34m(self, data, schema, samplingRatio, verifySchema)\u001b[0m\n\u001b[1;32m   1483\u001b[0m             \u001b[0mrdd\u001b[0m\u001b[0;34m,\u001b[0m \u001b[0mstruct\u001b[0m \u001b[0;34m=\u001b[0m \u001b[0mself\u001b[0m\u001b[0;34m.\u001b[0m\u001b[0m_createFromRDD\u001b[0m\u001b[0;34m(\u001b[0m\u001b[0mdata\u001b[0m\u001b[0;34m.\u001b[0m\u001b[0mmap\u001b[0m\u001b[0;34m(\u001b[0m\u001b[0mprepare\u001b[0m\u001b[0;34m)\u001b[0m\u001b[0;34m,\u001b[0m \u001b[0mschema\u001b[0m\u001b[0;34m,\u001b[0m \u001b[0msamplingRatio\u001b[0m\u001b[0;34m)\u001b[0m\u001b[0;34m\u001b[0m\u001b[0;34m\u001b[0m\u001b[0m\n\u001b[1;32m   1484\u001b[0m         \u001b[0;32melse\u001b[0m\u001b[0;34m:\u001b[0m\u001b[0;34m\u001b[0m\u001b[0;34m\u001b[0m\u001b[0m\n\u001b[0;32m-> 1485\u001b[0;31m             \u001b[0mrdd\u001b[0m\u001b[0;34m,\u001b[0m \u001b[0mstruct\u001b[0m \u001b[0;34m=\u001b[0m \u001b[0mself\u001b[0m\u001b[0;34m.\u001b[0m\u001b[0m_createFromLocal\u001b[0m\u001b[0;34m(\u001b[0m\u001b[0mmap\u001b[0m\u001b[0;34m(\u001b[0m\u001b[0mprepare\u001b[0m\u001b[0;34m,\u001b[0m \u001b[0mdata\u001b[0m\u001b[0;34m)\u001b[0m\u001b[0;34m,\u001b[0m \u001b[0mschema\u001b[0m\u001b[0;34m)\u001b[0m\u001b[0;34m\u001b[0m\u001b[0;34m\u001b[0m\u001b[0m\n\u001b[0m\u001b[1;32m   1486\u001b[0m         \u001b[0;32massert\u001b[0m \u001b[0mself\u001b[0m\u001b[0;34m.\u001b[0m\u001b[0m_jvm\u001b[0m \u001b[0;32mis\u001b[0m \u001b[0;32mnot\u001b[0m \u001b[0;32mNone\u001b[0m\u001b[0;34m\u001b[0m\u001b[0;34m\u001b[0m\u001b[0m\n\u001b[1;32m   1487\u001b[0m         \u001b[0mjrdd\u001b[0m \u001b[0;34m=\u001b[0m \u001b[0mself\u001b[0m\u001b[0;34m.\u001b[0m\u001b[0m_jvm\u001b[0m\u001b[0;34m.\u001b[0m\u001b[0mSerDeUtil\u001b[0m\u001b[0;34m.\u001b[0m\u001b[0mtoJavaArray\u001b[0m\u001b[0;34m(\u001b[0m\u001b[0mrdd\u001b[0m\u001b[0;34m.\u001b[0m\u001b[0m_to_java_object_rdd\u001b[0m\u001b[0;34m(\u001b[0m\u001b[0;34m)\u001b[0m\u001b[0;34m)\u001b[0m\u001b[0;34m\u001b[0m\u001b[0;34m\u001b[0m\u001b[0m\n",
            "\u001b[0;32m/usr/local/lib/python3.11/dist-packages/pyspark/sql/session.py\u001b[0m in \u001b[0;36m_createFromLocal\u001b[0;34m(self, data, schema)\u001b[0m\n\u001b[1;32m   1091\u001b[0m \u001b[0;34m\u001b[0m\u001b[0m\n\u001b[1;32m   1092\u001b[0m         \u001b[0;32mif\u001b[0m \u001b[0mschema\u001b[0m \u001b[0;32mis\u001b[0m \u001b[0;32mNone\u001b[0m \u001b[0;32mor\u001b[0m \u001b[0misinstance\u001b[0m\u001b[0;34m(\u001b[0m\u001b[0mschema\u001b[0m\u001b[0;34m,\u001b[0m \u001b[0;34m(\u001b[0m\u001b[0mlist\u001b[0m\u001b[0;34m,\u001b[0m \u001b[0mtuple\u001b[0m\u001b[0;34m)\u001b[0m\u001b[0;34m)\u001b[0m\u001b[0;34m:\u001b[0m\u001b[0;34m\u001b[0m\u001b[0;34m\u001b[0m\u001b[0m\n\u001b[0;32m-> 1093\u001b[0;31m             \u001b[0mstruct\u001b[0m \u001b[0;34m=\u001b[0m \u001b[0mself\u001b[0m\u001b[0;34m.\u001b[0m\u001b[0m_inferSchemaFromList\u001b[0m\u001b[0;34m(\u001b[0m\u001b[0mdata\u001b[0m\u001b[0;34m,\u001b[0m \u001b[0mnames\u001b[0m\u001b[0;34m=\u001b[0m\u001b[0mschema\u001b[0m\u001b[0;34m)\u001b[0m\u001b[0;34m\u001b[0m\u001b[0;34m\u001b[0m\u001b[0m\n\u001b[0m\u001b[1;32m   1094\u001b[0m             \u001b[0mconverter\u001b[0m \u001b[0;34m=\u001b[0m \u001b[0m_create_converter\u001b[0m\u001b[0;34m(\u001b[0m\u001b[0mstruct\u001b[0m\u001b[0;34m)\u001b[0m\u001b[0;34m\u001b[0m\u001b[0;34m\u001b[0m\u001b[0m\n\u001b[1;32m   1095\u001b[0m             \u001b[0mtupled_data\u001b[0m\u001b[0;34m:\u001b[0m \u001b[0mIterable\u001b[0m\u001b[0;34m[\u001b[0m\u001b[0mTuple\u001b[0m\u001b[0;34m]\u001b[0m \u001b[0;34m=\u001b[0m \u001b[0mmap\u001b[0m\u001b[0;34m(\u001b[0m\u001b[0mconverter\u001b[0m\u001b[0;34m,\u001b[0m \u001b[0mdata\u001b[0m\u001b[0;34m)\u001b[0m\u001b[0;34m\u001b[0m\u001b[0;34m\u001b[0m\u001b[0m\n",
            "\u001b[0;32m/usr/local/lib/python3.11/dist-packages/pyspark/sql/session.py\u001b[0m in \u001b[0;36m_inferSchemaFromList\u001b[0;34m(self, data, names)\u001b[0m\n\u001b[1;32m    953\u001b[0m         \u001b[0minfer_array_from_first_element\u001b[0m \u001b[0;34m=\u001b[0m \u001b[0mself\u001b[0m\u001b[0;34m.\u001b[0m\u001b[0m_jconf\u001b[0m\u001b[0;34m.\u001b[0m\u001b[0mlegacyInferArrayTypeFromFirstElement\u001b[0m\u001b[0;34m(\u001b[0m\u001b[0;34m)\u001b[0m\u001b[0;34m\u001b[0m\u001b[0;34m\u001b[0m\u001b[0m\n\u001b[1;32m    954\u001b[0m         \u001b[0mprefer_timestamp_ntz\u001b[0m \u001b[0;34m=\u001b[0m \u001b[0mis_timestamp_ntz_preferred\u001b[0m\u001b[0;34m(\u001b[0m\u001b[0;34m)\u001b[0m\u001b[0;34m\u001b[0m\u001b[0;34m\u001b[0m\u001b[0m\n\u001b[0;32m--> 955\u001b[0;31m         schema = reduce(\n\u001b[0m\u001b[1;32m    956\u001b[0m             \u001b[0m_merge_type\u001b[0m\u001b[0;34m,\u001b[0m\u001b[0;34m\u001b[0m\u001b[0;34m\u001b[0m\u001b[0m\n\u001b[1;32m    957\u001b[0m             (\n",
            "\u001b[0;32m/usr/local/lib/python3.11/dist-packages/pyspark/sql/types.py\u001b[0m in \u001b[0;36m_merge_type\u001b[0;34m(a, b, name)\u001b[0m\n\u001b[1;32m   1799\u001b[0m     \u001b[0;32mif\u001b[0m \u001b[0misinstance\u001b[0m\u001b[0;34m(\u001b[0m\u001b[0ma\u001b[0m\u001b[0;34m,\u001b[0m \u001b[0mStructType\u001b[0m\u001b[0;34m)\u001b[0m\u001b[0;34m:\u001b[0m\u001b[0;34m\u001b[0m\u001b[0;34m\u001b[0m\u001b[0m\n\u001b[1;32m   1800\u001b[0m         \u001b[0mnfs\u001b[0m \u001b[0;34m=\u001b[0m \u001b[0mdict\u001b[0m\u001b[0;34m(\u001b[0m\u001b[0;34m(\u001b[0m\u001b[0mf\u001b[0m\u001b[0;34m.\u001b[0m\u001b[0mname\u001b[0m\u001b[0;34m,\u001b[0m \u001b[0mf\u001b[0m\u001b[0;34m.\u001b[0m\u001b[0mdataType\u001b[0m\u001b[0;34m)\u001b[0m \u001b[0;32mfor\u001b[0m \u001b[0mf\u001b[0m \u001b[0;32min\u001b[0m \u001b[0mcast\u001b[0m\u001b[0;34m(\u001b[0m\u001b[0mStructType\u001b[0m\u001b[0;34m,\u001b[0m \u001b[0mb\u001b[0m\u001b[0;34m)\u001b[0m\u001b[0;34m.\u001b[0m\u001b[0mfields\u001b[0m\u001b[0;34m)\u001b[0m\u001b[0;34m\u001b[0m\u001b[0;34m\u001b[0m\u001b[0m\n\u001b[0;32m-> 1801\u001b[0;31m         fields = [\n\u001b[0m\u001b[1;32m   1802\u001b[0m             StructField(\n\u001b[1;32m   1803\u001b[0m                 \u001b[0mf\u001b[0m\u001b[0;34m.\u001b[0m\u001b[0mname\u001b[0m\u001b[0;34m,\u001b[0m \u001b[0m_merge_type\u001b[0m\u001b[0;34m(\u001b[0m\u001b[0mf\u001b[0m\u001b[0;34m.\u001b[0m\u001b[0mdataType\u001b[0m\u001b[0;34m,\u001b[0m \u001b[0mnfs\u001b[0m\u001b[0;34m.\u001b[0m\u001b[0mget\u001b[0m\u001b[0;34m(\u001b[0m\u001b[0mf\u001b[0m\u001b[0;34m.\u001b[0m\u001b[0mname\u001b[0m\u001b[0;34m,\u001b[0m \u001b[0mNullType\u001b[0m\u001b[0;34m(\u001b[0m\u001b[0;34m)\u001b[0m\u001b[0;34m)\u001b[0m\u001b[0;34m,\u001b[0m \u001b[0mname\u001b[0m\u001b[0;34m=\u001b[0m\u001b[0mnew_name\u001b[0m\u001b[0;34m(\u001b[0m\u001b[0mf\u001b[0m\u001b[0;34m.\u001b[0m\u001b[0mname\u001b[0m\u001b[0;34m)\u001b[0m\u001b[0;34m)\u001b[0m\u001b[0;34m\u001b[0m\u001b[0;34m\u001b[0m\u001b[0m\n",
            "\u001b[0;32m/usr/local/lib/python3.11/dist-packages/pyspark/sql/types.py\u001b[0m in \u001b[0;36m<listcomp>\u001b[0;34m(.0)\u001b[0m\n\u001b[1;32m   1801\u001b[0m         fields = [\n\u001b[1;32m   1802\u001b[0m             StructField(\n\u001b[0;32m-> 1803\u001b[0;31m                 \u001b[0mf\u001b[0m\u001b[0;34m.\u001b[0m\u001b[0mname\u001b[0m\u001b[0;34m,\u001b[0m \u001b[0m_merge_type\u001b[0m\u001b[0;34m(\u001b[0m\u001b[0mf\u001b[0m\u001b[0;34m.\u001b[0m\u001b[0mdataType\u001b[0m\u001b[0;34m,\u001b[0m \u001b[0mnfs\u001b[0m\u001b[0;34m.\u001b[0m\u001b[0mget\u001b[0m\u001b[0;34m(\u001b[0m\u001b[0mf\u001b[0m\u001b[0;34m.\u001b[0m\u001b[0mname\u001b[0m\u001b[0;34m,\u001b[0m \u001b[0mNullType\u001b[0m\u001b[0;34m(\u001b[0m\u001b[0;34m)\u001b[0m\u001b[0;34m)\u001b[0m\u001b[0;34m,\u001b[0m \u001b[0mname\u001b[0m\u001b[0;34m=\u001b[0m\u001b[0mnew_name\u001b[0m\u001b[0;34m(\u001b[0m\u001b[0mf\u001b[0m\u001b[0;34m.\u001b[0m\u001b[0mname\u001b[0m\u001b[0;34m)\u001b[0m\u001b[0;34m)\u001b[0m\u001b[0;34m\u001b[0m\u001b[0;34m\u001b[0m\u001b[0m\n\u001b[0m\u001b[1;32m   1804\u001b[0m             )\n\u001b[1;32m   1805\u001b[0m             \u001b[0;32mfor\u001b[0m \u001b[0mf\u001b[0m \u001b[0;32min\u001b[0m \u001b[0ma\u001b[0m\u001b[0;34m.\u001b[0m\u001b[0mfields\u001b[0m\u001b[0;34m\u001b[0m\u001b[0;34m\u001b[0m\u001b[0m\n",
            "\u001b[0;32m/usr/local/lib/python3.11/dist-packages/pyspark/sql/types.py\u001b[0m in \u001b[0;36m_merge_type\u001b[0;34m(a, b, name)\u001b[0m\n\u001b[1;32m   1791\u001b[0m     \u001b[0;32melif\u001b[0m \u001b[0mtype\u001b[0m\u001b[0;34m(\u001b[0m\u001b[0ma\u001b[0m\u001b[0;34m)\u001b[0m \u001b[0;32mis\u001b[0m \u001b[0;32mnot\u001b[0m \u001b[0mtype\u001b[0m\u001b[0;34m(\u001b[0m\u001b[0mb\u001b[0m\u001b[0;34m)\u001b[0m\u001b[0;34m:\u001b[0m\u001b[0;34m\u001b[0m\u001b[0;34m\u001b[0m\u001b[0m\n\u001b[1;32m   1792\u001b[0m         \u001b[0;31m# TODO: type cast (such as int -> long)\u001b[0m\u001b[0;34m\u001b[0m\u001b[0;34m\u001b[0m\u001b[0m\n\u001b[0;32m-> 1793\u001b[0;31m         raise PySparkTypeError(\n\u001b[0m\u001b[1;32m   1794\u001b[0m             \u001b[0merror_class\u001b[0m\u001b[0;34m=\u001b[0m\u001b[0;34m\"CANNOT_MERGE_TYPE\"\u001b[0m\u001b[0;34m,\u001b[0m\u001b[0;34m\u001b[0m\u001b[0;34m\u001b[0m\u001b[0m\n\u001b[1;32m   1795\u001b[0m             \u001b[0mmessage_parameters\u001b[0m\u001b[0;34m=\u001b[0m\u001b[0;34m{\u001b[0m\u001b[0;34m\"data_type1\"\u001b[0m\u001b[0;34m:\u001b[0m \u001b[0mtype\u001b[0m\u001b[0;34m(\u001b[0m\u001b[0ma\u001b[0m\u001b[0;34m)\u001b[0m\u001b[0;34m.\u001b[0m\u001b[0m__name__\u001b[0m\u001b[0;34m,\u001b[0m \u001b[0;34m\"data_type2\"\u001b[0m\u001b[0;34m:\u001b[0m \u001b[0mtype\u001b[0m\u001b[0;34m(\u001b[0m\u001b[0mb\u001b[0m\u001b[0;34m)\u001b[0m\u001b[0;34m.\u001b[0m\u001b[0m__name__\u001b[0m\u001b[0;34m}\u001b[0m\u001b[0;34m,\u001b[0m\u001b[0;34m\u001b[0m\u001b[0;34m\u001b[0m\u001b[0m\n",
            "\u001b[0;31mPySparkTypeError\u001b[0m: [CANNOT_MERGE_TYPE] Can not merge type `LongType` and `DoubleType`."
          ]
        }
      ]
    }
  ],
  "metadata": {
    "kernelspec": {
      "display_name": "Python 3",
      "language": "python",
      "name": "python3"
    },
    "language_info": {
      "codemirror_mode": {
        "name": "ipython",
        "version": 3
      },
      "file_extension": ".py",
      "mimetype": "text/x-python",
      "name": "python",
      "nbconvert_exporter": "python",
      "pygments_lexer": "ipython3",
      "version": "3.10.16"
    },
    "colab": {
      "provenance": []
    }
  },
  "nbformat": 4,
  "nbformat_minor": 0
}